{
 "cells": [
  {
   "cell_type": "code",
   "execution_count": 2,
   "id": "2ab5ad6f",
   "metadata": {},
   "outputs": [],
   "source": [
    "a=2//2"
   ]
  },
  {
   "cell_type": "code",
   "execution_count": 3,
   "id": "8d83f30d",
   "metadata": {},
   "outputs": [
    {
     "data": {
      "text/plain": [
       "1"
      ]
     },
     "execution_count": 3,
     "metadata": {},
     "output_type": "execute_result"
    }
   ],
   "source": [
    "a"
   ]
  },
  {
   "cell_type": "code",
   "execution_count": 4,
   "id": "32aa0f2b",
   "metadata": {},
   "outputs": [],
   "source": [
    "a=6<<2"
   ]
  },
  {
   "cell_type": "code",
   "execution_count": 5,
   "id": "a0b22fea",
   "metadata": {},
   "outputs": [
    {
     "data": {
      "text/plain": [
       "24"
      ]
     },
     "execution_count": 5,
     "metadata": {},
     "output_type": "execute_result"
    }
   ],
   "source": [
    "a"
   ]
  },
  {
   "cell_type": "code",
   "execution_count": 6,
   "id": "32832afa",
   "metadata": {},
   "outputs": [],
   "source": [
    "a=6&2"
   ]
  },
  {
   "cell_type": "code",
   "execution_count": 7,
   "id": "56e1c1c0",
   "metadata": {},
   "outputs": [
    {
     "data": {
      "text/plain": [
       "2"
      ]
     },
     "execution_count": 7,
     "metadata": {},
     "output_type": "execute_result"
    }
   ],
   "source": [
    "a"
   ]
  },
  {
   "cell_type": "code",
   "execution_count": 8,
   "id": "ff03ece2",
   "metadata": {},
   "outputs": [],
   "source": [
    "a=6|2"
   ]
  },
  {
   "cell_type": "code",
   "execution_count": 9,
   "id": "0f0adc56",
   "metadata": {},
   "outputs": [
    {
     "data": {
      "text/plain": [
       "6"
      ]
     },
     "execution_count": 9,
     "metadata": {},
     "output_type": "execute_result"
    }
   ],
   "source": [
    "a"
   ]
  },
  {
   "cell_type": "markdown",
   "id": "375c3a0a",
   "metadata": {},
   "source": [
    "# Q.11 Python Program to find Factorial of a Number using For Loop"
   ]
  },
  {
   "cell_type": "code",
   "execution_count": 1,
   "id": "3eeee2d9",
   "metadata": {},
   "outputs": [
    {
     "name": "stdout",
     "output_type": "stream",
     "text": [
      " Please enter any Number : 7\n",
      "The factorial of 7  = 5040\n"
     ]
    }
   ],
   "source": [
    "number = int(input(\" Please enter any Number : \"))\n",
    "fact = 1\n",
    "\n",
    "for i in range(1, number + 1):\n",
    "    fact = fact * i\n",
    "print(\"The factorial of %d  = %d\" %(number, fact))"
   ]
  },
  {
   "cell_type": "code",
   "execution_count": null,
   "id": "868cfcf8",
   "metadata": {},
   "outputs": [],
   "source": [
    "#Python Factorial program using While Loop"
   ]
  },
  {
   "cell_type": "code",
   "execution_count": 10,
   "id": "47710d9a",
   "metadata": {},
   "outputs": [
    {
     "name": "stdout",
     "output_type": "stream",
     "text": [
      " Please enter any Value : 9\n",
      "The Result of 9  = 362880\n"
     ]
    }
   ],
   "source": [
    "value = int(input(\" Please enter any Value : \"))\n",
    "fact = 1\n",
    "i = 1\n",
    "\n",
    "while(i <= value):\n",
    "    fact = fact * i\n",
    "    i = i + 1\n",
    "\n",
    "print(\"The Result of %d  = %d\" %(value, fact))"
   ]
  },
  {
   "cell_type": "code",
   "execution_count": null,
   "id": "66ccabfa",
   "metadata": {},
   "outputs": [],
   "source": [
    "#Factorial Program in Python using Functions"
   ]
  },
  {
   "cell_type": "code",
   "execution_count": 22,
   "id": "59be007b",
   "metadata": {},
   "outputs": [
    {
     "name": "stdout",
     "output_type": "stream",
     "text": [
      " Please enter any Value : 8\n",
      "The Result of 8  = 40320\n"
     ]
    }
   ],
   "source": [
    "def calculating(num):\n",
    "    fact = 1\n",
    "\n",
    "    for i in range(1, num + 1):\n",
    "        fact = fact * i\n",
    "\n",
    "    return fact\n",
    "\n",
    "\n",
    "val = int(input(\" Please enter any Value : \"))\n",
    "\n",
    "fact = calculating(val)\n",
    "print(\"The Result of %d  = %d\" %(val, fact))"
   ]
  },
  {
   "cell_type": "code",
   "execution_count": 12,
   "id": "0f405ba5",
   "metadata": {},
   "outputs": [],
   "source": [
    "#Python Program to find Factorial of a Number using Recursion"
   ]
  },
  {
   "cell_type": "code",
   "execution_count": 13,
   "id": "b6b5daea",
   "metadata": {},
   "outputs": [
    {
     "name": "stdout",
     "output_type": "stream",
     "text": [
      " Please enter any Num : 7\n",
      "The fact of 7  = 5040\n"
     ]
    }
   ],
   "source": [
    "def factFind(num):\n",
    "    if((num == 0) or (num == 1)):\n",
    "        return 1\n",
    "    else:\n",
    "        return num * factFind(num - 1)\n",
    "\n",
    "\n",
    "num = int(input(\" Please enter any Num : \"))\n",
    "\n",
    "fact = factFind(num)\n",
    "print(\"The fact of %d  = %d\" %(num, fact))"
   ]
  },
  {
   "cell_type": "code",
   "execution_count": null,
   "id": "41e54757",
   "metadata": {},
   "outputs": [],
   "source": [
    "#Q.12. Write a python program to find whether a number is prime or composite."
   ]
  },
  {
   "cell_type": "code",
   "execution_count": 37,
   "id": "e5ad9542",
   "metadata": {},
   "outputs": [
    {
     "name": "stdout",
     "output_type": "stream",
     "text": [
      "Enter any number : 2\n",
      "2 is a PRIME number\n"
     ]
    }
   ],
   "source": [
    "num = int(input(\"Enter any number : \"))\n",
    "if num > 1:\n",
    "    for i in range(2, num):\n",
    "        if (num % i) == 0:\n",
    "            print(num, \"is NOT a prime number.It is composite number.\")\n",
    "            break\n",
    "    else:\n",
    "        print(num, \"is a PRIME number\")\n",
    "elif num == 0 or 1:\n",
    "    print(num, \"is a neither prime NOR composite number\")"
   ]
  },
  {
   "cell_type": "code",
   "execution_count": 38,
   "id": "9b62e6da",
   "metadata": {},
   "outputs": [],
   "source": [
    "#Q.13.Write a python program to check whether a given string is palindrome or not."
   ]
  },
  {
   "cell_type": "code",
   "execution_count": 4,
   "id": "b0794315",
   "metadata": {},
   "outputs": [
    {
     "name": "stdout",
     "output_type": "stream",
     "text": [
      "Enter a string: tomato\n",
      "It is not palindrome\n"
     ]
    }
   ],
   "source": [
    "str = input(\"Enter a string: \")\n",
    "str = str.casefold()\n",
    "rev_str = reversed(str)\n",
    "if list(str) == list(rev_str):\n",
    "   print(\"It is palindrome\")\n",
    "else:\n",
    "   print(\"It is not palindrome\")"
   ]
  },
  {
   "cell_type": "code",
   "execution_count": null,
   "id": "0654f216",
   "metadata": {},
   "outputs": [],
   "source": [
    "#.Q.14.Write a Python program to get the third side of right-angled triangle from two given sides."
   ]
  },
  {
   "cell_type": "code",
   "execution_count": 5,
   "id": "a910576e",
   "metadata": {},
   "outputs": [
    {
     "name": "stdout",
     "output_type": "stream",
     "text": [
      "Enter base: 5\n",
      "Enter height: 4\n",
      "Hypotenuse = 6.4031242374328485\n"
     ]
    }
   ],
   "source": [
    "import math\n",
    "a = float(input(\"Enter base: \"))\n",
    "b = float(input(\"Enter height: \"))\n",
    "\n",
    "c = math.sqrt(a ** 2 + b ** 2)\n",
    "\n",
    "print(\"Hypotenuse =\", c)"
   ]
  },
  {
   "cell_type": "code",
   "execution_count": null,
   "id": "ccbb6f03",
   "metadata": {},
   "outputs": [],
   "source": [
    "#Q.15.Write a python program to print the frequency of each of the characters present in a given string"
   ]
  },
  {
   "cell_type": "code",
   "execution_count": 21,
   "id": "ea870fce",
   "metadata": {},
   "outputs": [
    {
     "name": "stdout",
     "output_type": "stream",
     "text": [
      "Enter the string: trupti\n",
      "{'t': 2, 'r': 1, 'u': 1, 'p': 1, 'i': 1}\n"
     ]
    }
   ],
   "source": [
    "str1 = input (\"Enter the string: \")\n",
    "d = dict()\n",
    "for c in str1:\n",
    "    if c in d:\n",
    "        d[c] = d[c] + 1\n",
    "    else:\n",
    "        d[c] = 1\n",
    "print(d)"
   ]
  },
  {
   "cell_type": "code",
   "execution_count": null,
   "id": "4597a182",
   "metadata": {},
   "outputs": [],
   "source": []
  }
 ],
 "metadata": {
  "kernelspec": {
   "display_name": "Python 3 (ipykernel)",
   "language": "python",
   "name": "python3"
  },
  "language_info": {
   "codemirror_mode": {
    "name": "ipython",
    "version": 3
   },
   "file_extension": ".py",
   "mimetype": "text/x-python",
   "name": "python",
   "nbconvert_exporter": "python",
   "pygments_lexer": "ipython3",
   "version": "3.9.7"
  }
 },
 "nbformat": 4,
 "nbformat_minor": 5
}
