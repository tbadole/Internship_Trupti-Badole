{
 "cells": [
  {
   "cell_type": "markdown",
   "id": "af4d6731",
   "metadata": {},
   "source": [
    "# WEB SCRAPING – ASSIGNMENT 2"
   ]
  },
  {
   "cell_type": "markdown",
   "id": "06effade",
   "metadata": {},
   "source": [
    "Q1: Write a python program to scrape data for “Data Analyst” Job position in “Bangalore” location. You\n",
    "have to scrape the job-title, job-location, company_name, experience_required. You have to scrape first 10\n",
    "jobs data."
   ]
  },
  {
   "cell_type": "code",
   "execution_count": 1,
   "id": "77256d00",
   "metadata": {},
   "outputs": [
    {
     "name": "stdout",
     "output_type": "stream",
     "text": [
      "Requirement already satisfied: selenium in c:\\programdata\\anaconda3\\lib\\site-packages (4.1.3)\n",
      "Requirement already satisfied: trio~=0.17 in c:\\programdata\\anaconda3\\lib\\site-packages (from selenium) (0.20.0)\n",
      "Requirement already satisfied: trio-websocket~=0.9 in c:\\programdata\\anaconda3\\lib\\site-packages (from selenium) (0.9.2)\n",
      "Requirement already satisfied: urllib3[secure,socks]~=1.26 in c:\\programdata\\anaconda3\\lib\\site-packages (from selenium) (1.26.7)\n",
      "Requirement already satisfied: idna in c:\\programdata\\anaconda3\\lib\\site-packages (from trio~=0.17->selenium) (3.2)\n",
      "Requirement already satisfied: attrs>=19.2.0 in c:\\programdata\\anaconda3\\lib\\site-packages (from trio~=0.17->selenium) (21.2.0)\n",
      "Requirement already satisfied: sortedcontainers in c:\\programdata\\anaconda3\\lib\\site-packages (from trio~=0.17->selenium) (2.4.0)\n",
      "Requirement already satisfied: sniffio in c:\\programdata\\anaconda3\\lib\\site-packages (from trio~=0.17->selenium) (1.2.0)\n",
      "Requirement already satisfied: outcome in c:\\programdata\\anaconda3\\lib\\site-packages (from trio~=0.17->selenium) (1.1.0)\n",
      "Requirement already satisfied: async-generator>=1.9 in c:\\programdata\\anaconda3\\lib\\site-packages (from trio~=0.17->selenium) (1.10)\n",
      "Requirement already satisfied: cffi>=1.14 in c:\\programdata\\anaconda3\\lib\\site-packages (from trio~=0.17->selenium) (1.14.6)\n",
      "Requirement already satisfied: pycparser in c:\\programdata\\anaconda3\\lib\\site-packages (from cffi>=1.14->trio~=0.17->selenium) (2.20)\n",
      "Requirement already satisfied: wsproto>=0.14 in c:\\programdata\\anaconda3\\lib\\site-packages (from trio-websocket~=0.9->selenium) (1.1.0)\n",
      "Requirement already satisfied: PySocks!=1.5.7,<2.0,>=1.5.6 in c:\\programdata\\anaconda3\\lib\\site-packages (from urllib3[secure,socks]~=1.26->selenium) (1.7.1)\n",
      "Requirement already satisfied: pyOpenSSL>=0.14 in c:\\programdata\\anaconda3\\lib\\site-packages (from urllib3[secure,socks]~=1.26->selenium) (21.0.0)\n",
      "Requirement already satisfied: cryptography>=1.3.4 in c:\\programdata\\anaconda3\\lib\\site-packages (from urllib3[secure,socks]~=1.26->selenium) (3.4.8)\n",
      "Requirement already satisfied: certifi in c:\\programdata\\anaconda3\\lib\\site-packages (from urllib3[secure,socks]~=1.26->selenium) (2021.10.8)\n",
      "Requirement already satisfied: six>=1.5.2 in c:\\programdata\\anaconda3\\lib\\site-packages (from pyOpenSSL>=0.14->urllib3[secure,socks]~=1.26->selenium) (1.16.0)\n",
      "Requirement already satisfied: h11<1,>=0.9.0 in c:\\programdata\\anaconda3\\lib\\site-packages (from wsproto>=0.14->trio-websocket~=0.9->selenium) (0.13.0)\n"
     ]
    }
   ],
   "source": [
    "!pip install selenium"
   ]
  },
  {
   "cell_type": "code",
   "execution_count": 2,
   "id": "69c52d87",
   "metadata": {},
   "outputs": [],
   "source": [
    "# Importing all the required libraries\n",
    "import selenium\n",
    "import pandas as pd\n",
    "from selenium import webdriver\n",
    "import warnings\n",
    "warnings.filterwarnings(\"ignore\")\n",
    "import time"
   ]
  },
  {
   "cell_type": "code",
   "execution_count": 3,
   "id": "2013ed41",
   "metadata": {},
   "outputs": [],
   "source": [
    "# Connecting to the webdriver\n",
    "driver=webdriver.Chrome(r\"C:\\web driver\\chromedriver.exe\")\n",
    "time.sleep(2)"
   ]
  },
  {
   "cell_type": "code",
   "execution_count": 4,
   "id": "d22d666f",
   "metadata": {},
   "outputs": [],
   "source": [
    "#Getting the webpage of mentioned url\n",
    "driver.get('https://www.naukri.com/')"
   ]
  },
  {
   "cell_type": "code",
   "execution_count": 5,
   "id": "0744abe3",
   "metadata": {},
   "outputs": [],
   "source": [
    "# Entering “Data Analyst” in “Skill,Designations,Companies” field \n",
    "search_field_designation=driver.find_element_by_class_name(\"suggestor-input \")\n",
    "search_field_designation.send_keys(\"Data Analyst\")"
   ]
  },
  {
   "cell_type": "code",
   "execution_count": 6,
   "id": "6e90fae2",
   "metadata": {},
   "outputs": [],
   "source": [
    "# Searching the web element for job location by using Xpath\n",
    "search_field_location=driver.find_element_by_xpath('/html/body/div/div[2]/div[3]/div/div/div[3]/div/div/div/input')\n",
    "search_field_location.send_keys(\"Bangalore\")"
   ]
  },
  {
   "cell_type": "code",
   "execution_count": 7,
   "id": "a9d173be",
   "metadata": {},
   "outputs": [],
   "source": [
    "# Clicking on Search button\n",
    "search_button=driver.find_element_by_xpath(\"/html/body/div/div[2]/div[3]/div/div/div[6]\")\n",
    "search_button.click()"
   ]
  },
  {
   "cell_type": "code",
   "execution_count": 8,
   "id": "0f3bd166",
   "metadata": {},
   "outputs": [],
   "source": [
    "#Empty List\n",
    "job_titles=[]\n",
    "company_names=[]\n",
    "location_list=[]\n",
    "experience_list=[]"
   ]
  },
  {
   "cell_type": "code",
   "execution_count": 9,
   "id": "a9fe10a0",
   "metadata": {},
   "outputs": [
    {
     "data": {
      "text/plain": [
       "[<selenium.webdriver.remote.webelement.WebElement (session=\"8d705314eb923d010174e384efc997e6\", element=\"5371814d-3048-4cab-b762-fa6fd652ecbe\")>,\n",
       " <selenium.webdriver.remote.webelement.WebElement (session=\"8d705314eb923d010174e384efc997e6\", element=\"17894ec5-a7a6-42b5-817e-6bb7d0536c33\")>,\n",
       " <selenium.webdriver.remote.webelement.WebElement (session=\"8d705314eb923d010174e384efc997e6\", element=\"2144e9b9-4655-4686-ac92-b676de8f7ec5\")>,\n",
       " <selenium.webdriver.remote.webelement.WebElement (session=\"8d705314eb923d010174e384efc997e6\", element=\"c9e0820f-4c71-4453-aa48-774c8e2094a0\")>,\n",
       " <selenium.webdriver.remote.webelement.WebElement (session=\"8d705314eb923d010174e384efc997e6\", element=\"12dc7247-2692-4e1d-9130-7e02e8b15490\")>,\n",
       " <selenium.webdriver.remote.webelement.WebElement (session=\"8d705314eb923d010174e384efc997e6\", element=\"3bbebd64-724d-41af-8ccc-124fb36d0cde\")>,\n",
       " <selenium.webdriver.remote.webelement.WebElement (session=\"8d705314eb923d010174e384efc997e6\", element=\"4f9580ae-5c76-49b8-ad65-589ead67d3c6\")>,\n",
       " <selenium.webdriver.remote.webelement.WebElement (session=\"8d705314eb923d010174e384efc997e6\", element=\"152c7904-b6bd-4689-bd41-8843db58a7e4\")>,\n",
       " <selenium.webdriver.remote.webelement.WebElement (session=\"8d705314eb923d010174e384efc997e6\", element=\"a3dbe0e3-bf41-4ad3-aba8-322a802a09fe\")>,\n",
       " <selenium.webdriver.remote.webelement.WebElement (session=\"8d705314eb923d010174e384efc997e6\", element=\"cae25171-12dd-47b6-a5b2-68a915f8c28d\")>]"
      ]
     },
     "execution_count": 9,
     "metadata": {},
     "output_type": "execute_result"
    }
   ],
   "source": [
    "# Extracting the data for the first 10 jobs results\n",
    "# Scraping data for job titles\n",
    "titles_tags=driver.find_elements_by_xpath(\"//a[@class='title fw500 ellipsis']\")\n",
    "titles_tags[:10]"
   ]
  },
  {
   "cell_type": "code",
   "execution_count": 10,
   "id": "241dfe38",
   "metadata": {},
   "outputs": [
    {
     "data": {
      "text/plain": [
       "['Senior Data Analyst',\n",
       " 'Data Analyst- customer facing',\n",
       " 'Sr Data Analyst II',\n",
       " 'Data Analyst',\n",
       " 'Hiring For Data Analyst with SAP ABAP & BW - C2H Wipro',\n",
       " 'Senior Business Analyst - Data Sciences and Advanced Analytics',\n",
       " 'Business and Data Analyst',\n",
       " 'Senior Data Analyst | Lululemon',\n",
       " 'Urgent hiring For Senior Data Analyst',\n",
       " 'Senior Data Analyst']"
      ]
     },
     "execution_count": 10,
     "metadata": {},
     "output_type": "execute_result"
    }
   ],
   "source": [
    "for i in titles_tags:\n",
    "    title=i.text\n",
    "    job_titles.append(title)\n",
    "job_titles[:10]"
   ]
  },
  {
   "cell_type": "code",
   "execution_count": 11,
   "id": "4c1eca52",
   "metadata": {},
   "outputs": [
    {
     "data": {
      "text/plain": [
       "[<selenium.webdriver.remote.webelement.WebElement (session=\"8d705314eb923d010174e384efc997e6\", element=\"556ce84a-c757-4a7c-8172-70bf1d1df86d\")>,\n",
       " <selenium.webdriver.remote.webelement.WebElement (session=\"8d705314eb923d010174e384efc997e6\", element=\"6f0ed2b2-db06-4d4d-8b63-8c08e6f075b9\")>,\n",
       " <selenium.webdriver.remote.webelement.WebElement (session=\"8d705314eb923d010174e384efc997e6\", element=\"a0b6d61b-5c7a-4b74-abe0-f28392e55093\")>,\n",
       " <selenium.webdriver.remote.webelement.WebElement (session=\"8d705314eb923d010174e384efc997e6\", element=\"cb256d52-9ce7-4421-9d6b-d1a60680e9c6\")>,\n",
       " <selenium.webdriver.remote.webelement.WebElement (session=\"8d705314eb923d010174e384efc997e6\", element=\"58670465-5f5a-48cb-bb5c-34ba5cfdacf8\")>,\n",
       " <selenium.webdriver.remote.webelement.WebElement (session=\"8d705314eb923d010174e384efc997e6\", element=\"78133fdd-9e73-42d8-84dd-cfbcf05d522e\")>,\n",
       " <selenium.webdriver.remote.webelement.WebElement (session=\"8d705314eb923d010174e384efc997e6\", element=\"d00207c2-1e6a-4cc3-a99c-1247603c0f7c\")>,\n",
       " <selenium.webdriver.remote.webelement.WebElement (session=\"8d705314eb923d010174e384efc997e6\", element=\"e07dd655-c693-4952-be8e-35e47404627f\")>,\n",
       " <selenium.webdriver.remote.webelement.WebElement (session=\"8d705314eb923d010174e384efc997e6\", element=\"0daf5204-5353-4393-9eb8-362d9e7a8066\")>,\n",
       " <selenium.webdriver.remote.webelement.WebElement (session=\"8d705314eb923d010174e384efc997e6\", element=\"338a7068-34b6-4c9a-989d-a9faf27d93db\")>]"
      ]
     },
     "execution_count": 11,
     "metadata": {},
     "output_type": "execute_result"
    }
   ],
   "source": [
    "# Scraping data for Company Name\n",
    "companies_tags=driver.find_elements_by_xpath(\"//a[@class='subTitle ellipsis fleft']\")\n",
    "companies_tags[:10]"
   ]
  },
  {
   "cell_type": "code",
   "execution_count": 12,
   "id": "18b979f3",
   "metadata": {},
   "outputs": [
    {
     "data": {
      "text/plain": [
       "['Thomson Reuters',\n",
       " 'Synamedia',\n",
       " 'IHS Markit',\n",
       " 'VOLVO ASSET FINANCE INDIA PRIVATE LIMITED',\n",
       " 'MILLION MINDS INFOTECH PRIVATE LIMITED',\n",
       " 'Vmware',\n",
       " 'CAREERDOST ENTERPRISE',\n",
       " 'TALENT500 TECH (INDIA) PRIVATE LIMITED',\n",
       " 'upGrad',\n",
       " 'Capco']"
      ]
     },
     "execution_count": 12,
     "metadata": {},
     "output_type": "execute_result"
    }
   ],
   "source": [
    "for i in companies_tags:\n",
    "    company_name=i.text\n",
    "    company_names.append(company_name)\n",
    "company_names[:10]"
   ]
  },
  {
   "cell_type": "code",
   "execution_count": 13,
   "id": "3430683e",
   "metadata": {},
   "outputs": [
    {
     "data": {
      "text/plain": [
       "[<selenium.webdriver.remote.webelement.WebElement (session=\"8d705314eb923d010174e384efc997e6\", element=\"634bbd9d-f79d-4b71-92f1-1642b83482bf\")>,\n",
       " <selenium.webdriver.remote.webelement.WebElement (session=\"8d705314eb923d010174e384efc997e6\", element=\"77b3c6be-78bd-49ea-b728-37003e60baef\")>,\n",
       " <selenium.webdriver.remote.webelement.WebElement (session=\"8d705314eb923d010174e384efc997e6\", element=\"f386012f-e10d-45ba-9aa5-6e3d37587135\")>,\n",
       " <selenium.webdriver.remote.webelement.WebElement (session=\"8d705314eb923d010174e384efc997e6\", element=\"58fa485c-86f6-400f-b3e6-1188b12d74dd\")>,\n",
       " <selenium.webdriver.remote.webelement.WebElement (session=\"8d705314eb923d010174e384efc997e6\", element=\"f33ea5af-2bbf-4cfd-b663-790dccf52485\")>,\n",
       " <selenium.webdriver.remote.webelement.WebElement (session=\"8d705314eb923d010174e384efc997e6\", element=\"36ba4d07-6caf-434a-91ce-957ac77bbed7\")>,\n",
       " <selenium.webdriver.remote.webelement.WebElement (session=\"8d705314eb923d010174e384efc997e6\", element=\"f0f07633-39b1-4ef7-b797-607aa73fddb2\")>,\n",
       " <selenium.webdriver.remote.webelement.WebElement (session=\"8d705314eb923d010174e384efc997e6\", element=\"c1c6fafe-acfe-45fc-b734-c52e7fd29c7c\")>,\n",
       " <selenium.webdriver.remote.webelement.WebElement (session=\"8d705314eb923d010174e384efc997e6\", element=\"60707196-a5d8-4320-b4e6-758488b11ac8\")>,\n",
       " <selenium.webdriver.remote.webelement.WebElement (session=\"8d705314eb923d010174e384efc997e6\", element=\"c3a13bdc-91aa-4847-a6ee-c365bd621af8\")>]"
      ]
     },
     "execution_count": 13,
     "metadata": {},
     "output_type": "execute_result"
    }
   ],
   "source": [
    "# Scraping data for Experience Required \n",
    "experience_tags=driver.find_elements_by_xpath(\"//li[@class='fleft grey-text br2 placeHolderLi experience']/span[1]\")\n",
    "experience_tags[:10]"
   ]
  },
  {
   "cell_type": "code",
   "execution_count": 14,
   "id": "c8b87ebc",
   "metadata": {},
   "outputs": [
    {
     "data": {
      "text/plain": [
       "['2-4 Yrs',\n",
       " '0-3 Yrs',\n",
       " '3-6 Yrs',\n",
       " '2-4 Yrs',\n",
       " '7-10 Yrs',\n",
       " '3-7 Yrs',\n",
       " '0-5 Yrs',\n",
       " '5-8 Yrs',\n",
       " '2-7 Yrs',\n",
       " '7-12 Yrs']"
      ]
     },
     "execution_count": 14,
     "metadata": {},
     "output_type": "execute_result"
    }
   ],
   "source": [
    "for i in experience_tags:\n",
    "    experience=i.text\n",
    "    experience_list.append(experience)\n",
    "experience_list[:10]"
   ]
  },
  {
   "cell_type": "code",
   "execution_count": 15,
   "id": "e5626bcf",
   "metadata": {},
   "outputs": [
    {
     "data": {
      "text/plain": [
       "[<selenium.webdriver.remote.webelement.WebElement (session=\"8d705314eb923d010174e384efc997e6\", element=\"60525b0e-274a-4a21-92b0-c53070e412da\")>,\n",
       " <selenium.webdriver.remote.webelement.WebElement (session=\"8d705314eb923d010174e384efc997e6\", element=\"902e56a2-a79c-4751-ae9c-d086d881645f\")>,\n",
       " <selenium.webdriver.remote.webelement.WebElement (session=\"8d705314eb923d010174e384efc997e6\", element=\"a7d92175-2e1b-4294-a869-21665c1f92da\")>,\n",
       " <selenium.webdriver.remote.webelement.WebElement (session=\"8d705314eb923d010174e384efc997e6\", element=\"fd6320cc-25b6-4624-a468-0c8153bd99ae\")>,\n",
       " <selenium.webdriver.remote.webelement.WebElement (session=\"8d705314eb923d010174e384efc997e6\", element=\"ec63b49a-f527-4647-9607-3f98371c27a7\")>,\n",
       " <selenium.webdriver.remote.webelement.WebElement (session=\"8d705314eb923d010174e384efc997e6\", element=\"d6a905c8-a19d-4c0c-b485-2ba843173019\")>,\n",
       " <selenium.webdriver.remote.webelement.WebElement (session=\"8d705314eb923d010174e384efc997e6\", element=\"eb2ec922-1f1c-4eaa-8eed-a353a1542ac2\")>,\n",
       " <selenium.webdriver.remote.webelement.WebElement (session=\"8d705314eb923d010174e384efc997e6\", element=\"9c19436b-4888-43b7-87ee-4001e02f39c2\")>,\n",
       " <selenium.webdriver.remote.webelement.WebElement (session=\"8d705314eb923d010174e384efc997e6\", element=\"489cc836-6740-43f6-bf9c-78147359e4c7\")>,\n",
       " <selenium.webdriver.remote.webelement.WebElement (session=\"8d705314eb923d010174e384efc997e6\", element=\"203aa49e-da58-4068-9bf7-5675b1a537d9\")>]"
      ]
     },
     "execution_count": 15,
     "metadata": {},
     "output_type": "execute_result"
    }
   ],
   "source": [
    "# Scraping data for job location \n",
    "locations_tags=driver.find_elements_by_xpath(\"//li[@class='fleft grey-text br2 placeHolderLi location']/span[1]\")\n",
    "locations_tags[:10]"
   ]
  },
  {
   "cell_type": "code",
   "execution_count": 16,
   "id": "762587ac",
   "metadata": {},
   "outputs": [
    {
     "data": {
      "text/plain": [
       "['Bangalore/Bengaluru',\n",
       " 'Bangalore/Bengaluru',\n",
       " 'Gurgaon/Gurugram, Bangalore/Bengaluru',\n",
       " 'Bangalore/Bengaluru',\n",
       " 'Bangalore/Bengaluru',\n",
       " 'Bangalore/Bengaluru',\n",
       " 'Bangalore/Bengaluru',\n",
       " 'Bangalore/Bengaluru',\n",
       " 'Bangalore/Bengaluru',\n",
       " 'Pune, Gurgaon/Gurugram, Chennai, Bangalore/Bengaluru']"
      ]
     },
     "execution_count": 16,
     "metadata": {},
     "output_type": "execute_result"
    }
   ],
   "source": [
    "for i in locations_tags:\n",
    "    location=i.text\n",
    "    location_list.append(location)\n",
    "location_list[:10]"
   ]
  },
  {
   "cell_type": "code",
   "execution_count": 17,
   "id": "82d903ee",
   "metadata": {},
   "outputs": [
    {
     "name": "stdout",
     "output_type": "stream",
     "text": [
      "20 20 20 20\n"
     ]
    }
   ],
   "source": [
    "# Checking length of the collected data\n",
    "print(len(job_titles),len(company_names),len(location_list),len(experience_list))"
   ]
  },
  {
   "cell_type": "code",
   "execution_count": 19,
   "id": "3bfbba4b",
   "metadata": {},
   "outputs": [
    {
     "data": {
      "text/html": [
       "<div>\n",
       "<style scoped>\n",
       "    .dataframe tbody tr th:only-of-type {\n",
       "        vertical-align: middle;\n",
       "    }\n",
       "\n",
       "    .dataframe tbody tr th {\n",
       "        vertical-align: top;\n",
       "    }\n",
       "\n",
       "    .dataframe thead th {\n",
       "        text-align: right;\n",
       "    }\n",
       "</style>\n",
       "<table border=\"1\" class=\"dataframe\">\n",
       "  <thead>\n",
       "    <tr style=\"text-align: right;\">\n",
       "      <th></th>\n",
       "      <th>title</th>\n",
       "      <th>company</th>\n",
       "      <th>experience_required</th>\n",
       "      <th>location</th>\n",
       "    </tr>\n",
       "  </thead>\n",
       "  <tbody>\n",
       "    <tr>\n",
       "      <th>0</th>\n",
       "      <td>Senior Data Analyst</td>\n",
       "      <td>Thomson Reuters</td>\n",
       "      <td>2-4 Yrs</td>\n",
       "      <td>Bangalore/Bengaluru</td>\n",
       "    </tr>\n",
       "    <tr>\n",
       "      <th>1</th>\n",
       "      <td>Data Analyst- customer facing</td>\n",
       "      <td>Synamedia</td>\n",
       "      <td>0-3 Yrs</td>\n",
       "      <td>Bangalore/Bengaluru</td>\n",
       "    </tr>\n",
       "    <tr>\n",
       "      <th>2</th>\n",
       "      <td>Sr Data Analyst II</td>\n",
       "      <td>IHS Markit</td>\n",
       "      <td>3-6 Yrs</td>\n",
       "      <td>Gurgaon/Gurugram, Bangalore/Bengaluru</td>\n",
       "    </tr>\n",
       "    <tr>\n",
       "      <th>3</th>\n",
       "      <td>Data Analyst</td>\n",
       "      <td>VOLVO ASSET FINANCE INDIA PRIVATE LIMITED</td>\n",
       "      <td>2-4 Yrs</td>\n",
       "      <td>Bangalore/Bengaluru</td>\n",
       "    </tr>\n",
       "    <tr>\n",
       "      <th>4</th>\n",
       "      <td>Hiring For Data Analyst with SAP ABAP &amp; BW - C...</td>\n",
       "      <td>MILLION MINDS INFOTECH PRIVATE LIMITED</td>\n",
       "      <td>7-10 Yrs</td>\n",
       "      <td>Bangalore/Bengaluru</td>\n",
       "    </tr>\n",
       "    <tr>\n",
       "      <th>5</th>\n",
       "      <td>Senior Business Analyst - Data Sciences and Ad...</td>\n",
       "      <td>Vmware</td>\n",
       "      <td>3-7 Yrs</td>\n",
       "      <td>Bangalore/Bengaluru</td>\n",
       "    </tr>\n",
       "    <tr>\n",
       "      <th>6</th>\n",
       "      <td>Business and Data Analyst</td>\n",
       "      <td>CAREERDOST ENTERPRISE</td>\n",
       "      <td>0-5 Yrs</td>\n",
       "      <td>Bangalore/Bengaluru</td>\n",
       "    </tr>\n",
       "    <tr>\n",
       "      <th>7</th>\n",
       "      <td>Senior Data Analyst | Lululemon</td>\n",
       "      <td>TALENT500 TECH (INDIA) PRIVATE LIMITED</td>\n",
       "      <td>5-8 Yrs</td>\n",
       "      <td>Bangalore/Bengaluru</td>\n",
       "    </tr>\n",
       "    <tr>\n",
       "      <th>8</th>\n",
       "      <td>Urgent hiring For Senior Data Analyst</td>\n",
       "      <td>upGrad</td>\n",
       "      <td>2-7 Yrs</td>\n",
       "      <td>Bangalore/Bengaluru</td>\n",
       "    </tr>\n",
       "    <tr>\n",
       "      <th>9</th>\n",
       "      <td>Senior Data Analyst</td>\n",
       "      <td>Capco</td>\n",
       "      <td>7-12 Yrs</td>\n",
       "      <td>Pune, Gurgaon/Gurugram, Chennai, Bangalore/Ben...</td>\n",
       "    </tr>\n",
       "  </tbody>\n",
       "</table>\n",
       "</div>"
      ],
      "text/plain": [
       "                                               title  \\\n",
       "0                                Senior Data Analyst   \n",
       "1                      Data Analyst- customer facing   \n",
       "2                                 Sr Data Analyst II   \n",
       "3                                       Data Analyst   \n",
       "4  Hiring For Data Analyst with SAP ABAP & BW - C...   \n",
       "5  Senior Business Analyst - Data Sciences and Ad...   \n",
       "6                          Business and Data Analyst   \n",
       "7                    Senior Data Analyst | Lululemon   \n",
       "8              Urgent hiring For Senior Data Analyst   \n",
       "9                                Senior Data Analyst   \n",
       "\n",
       "                                     company experience_required  \\\n",
       "0                            Thomson Reuters             2-4 Yrs   \n",
       "1                                  Synamedia             0-3 Yrs   \n",
       "2                                 IHS Markit             3-6 Yrs   \n",
       "3  VOLVO ASSET FINANCE INDIA PRIVATE LIMITED             2-4 Yrs   \n",
       "4     MILLION MINDS INFOTECH PRIVATE LIMITED            7-10 Yrs   \n",
       "5                                     Vmware             3-7 Yrs   \n",
       "6                      CAREERDOST ENTERPRISE             0-5 Yrs   \n",
       "7     TALENT500 TECH (INDIA) PRIVATE LIMITED             5-8 Yrs   \n",
       "8                                     upGrad             2-7 Yrs   \n",
       "9                                      Capco            7-12 Yrs   \n",
       "\n",
       "                                            location  \n",
       "0                                Bangalore/Bengaluru  \n",
       "1                                Bangalore/Bengaluru  \n",
       "2              Gurgaon/Gurugram, Bangalore/Bengaluru  \n",
       "3                                Bangalore/Bengaluru  \n",
       "4                                Bangalore/Bengaluru  \n",
       "5                                Bangalore/Bengaluru  \n",
       "6                                Bangalore/Bengaluru  \n",
       "7                                Bangalore/Bengaluru  \n",
       "8                                Bangalore/Bengaluru  \n",
       "9  Pune, Gurgaon/Gurugram, Chennai, Bangalore/Ben...  "
      ]
     },
     "execution_count": 19,
     "metadata": {},
     "output_type": "execute_result"
    }
   ],
   "source": [
    "# Creating the DataFrame for the scraped data for first 10 results\n",
    "jobs=pd.DataFrame({})\n",
    "jobs['title']=job_titles[:10]\n",
    "jobs['company']=company_names[:10]\n",
    "jobs['experience_required']=experience_list[:10]\n",
    "jobs['location']=location_list[:10]\n",
    "jobs"
   ]
  },
  {
   "cell_type": "code",
   "execution_count": null,
   "id": "7e4f48d9",
   "metadata": {
    "scrolled": true
   },
   "outputs": [],
   "source": [
    "driver.close()  # to close the webdriver"
   ]
  },
  {
   "cell_type": "markdown",
   "id": "d6505f62",
   "metadata": {},
   "source": [
    "Q2: Write a python program to scrape data for “Data Scientist” Job position in “Bangalore” location. You\n",
    "have to scrape the job-title, job-location, company_name. You have to scrape first 10 jobs data.\n",
    "This task will be done in following steps:"
   ]
  },
  {
   "cell_type": "code",
   "execution_count": 1,
   "id": "f9960c17",
   "metadata": {},
   "outputs": [],
   "source": [
    "# Importing all the required libraries\n",
    "import selenium\n",
    "import pandas as pd\n",
    "from selenium import webdriver\n",
    "import warnings\n",
    "warnings.filterwarnings(\"ignore\")\n",
    "import time"
   ]
  },
  {
   "cell_type": "code",
   "execution_count": 2,
   "id": "cb9ac330",
   "metadata": {},
   "outputs": [],
   "source": [
    "# Connecting to the webdriver\n",
    "driver=webdriver.Chrome(r\"C:\\web driver\\chromedriver.exe\")\n",
    "time.sleep(2)"
   ]
  },
  {
   "cell_type": "code",
   "execution_count": 3,
   "id": "76980ed6",
   "metadata": {},
   "outputs": [],
   "source": [
    "#Getting the webpage of mentioned url\n",
    "driver.get('https://www.naukri.com/')"
   ]
  },
  {
   "cell_type": "code",
   "execution_count": 4,
   "id": "31e126eb",
   "metadata": {},
   "outputs": [],
   "source": [
    "# Entering “Data Scientist” in “Skill,Designations,Companies” field \n",
    "search_field_designation=driver.find_element_by_class_name(\"suggestor-input \")\n",
    "search_field_designation.send_keys(\"Data Scientist\")"
   ]
  },
  {
   "cell_type": "code",
   "execution_count": 5,
   "id": "3dbcffd7",
   "metadata": {},
   "outputs": [],
   "source": [
    "# Searching the web element for job location by using Xpath\n",
    "search_field_location=driver.find_element_by_xpath('/html/body/div/div[2]/div[3]/div/div/div[3]/div/div/div/input')\n",
    "search_field_location.send_keys(\"Bangalore\")"
   ]
  },
  {
   "cell_type": "code",
   "execution_count": 7,
   "id": "cf295b26",
   "metadata": {},
   "outputs": [],
   "source": [
    "# Clicking on Search button\n",
    "search_button=driver.find_element_by_xpath(\"/html/body/div/div[2]/div[3]/div/div/div[6]\")\n",
    "search_button.click()"
   ]
  },
  {
   "cell_type": "code",
   "execution_count": 8,
   "id": "92da0592",
   "metadata": {},
   "outputs": [],
   "source": [
    "#Empty List\n",
    "job_titles=[]\n",
    "company_names=[]\n",
    "location_list=[]"
   ]
  },
  {
   "cell_type": "code",
   "execution_count": 9,
   "id": "b80f9dfe",
   "metadata": {},
   "outputs": [
    {
     "data": {
      "text/plain": [
       "[<selenium.webdriver.remote.webelement.WebElement (session=\"915855971d3b272db9bbda8af11e07b9\", element=\"a7523454-9505-40f8-aa45-4d51a83179be\")>,\n",
       " <selenium.webdriver.remote.webelement.WebElement (session=\"915855971d3b272db9bbda8af11e07b9\", element=\"de88eca5-24a7-49b4-8137-4c8e331e9cb2\")>,\n",
       " <selenium.webdriver.remote.webelement.WebElement (session=\"915855971d3b272db9bbda8af11e07b9\", element=\"0381808d-48c0-4b9b-be29-b881bf71953e\")>,\n",
       " <selenium.webdriver.remote.webelement.WebElement (session=\"915855971d3b272db9bbda8af11e07b9\", element=\"86fb4fdb-1184-4ff4-a102-6f365a9a5c6c\")>,\n",
       " <selenium.webdriver.remote.webelement.WebElement (session=\"915855971d3b272db9bbda8af11e07b9\", element=\"79b26f30-75d9-4e28-84d9-234dafa10443\")>,\n",
       " <selenium.webdriver.remote.webelement.WebElement (session=\"915855971d3b272db9bbda8af11e07b9\", element=\"af8e0dbc-7055-423c-9ae9-fd426fa7ce01\")>,\n",
       " <selenium.webdriver.remote.webelement.WebElement (session=\"915855971d3b272db9bbda8af11e07b9\", element=\"c537e2ca-eb87-4861-a9b4-160ac2e51273\")>,\n",
       " <selenium.webdriver.remote.webelement.WebElement (session=\"915855971d3b272db9bbda8af11e07b9\", element=\"8728b041-de30-4164-bbbd-11d3c01ab9ce\")>,\n",
       " <selenium.webdriver.remote.webelement.WebElement (session=\"915855971d3b272db9bbda8af11e07b9\", element=\"81ca6015-d56d-41eb-aa2e-fad01fd09fe4\")>,\n",
       " <selenium.webdriver.remote.webelement.WebElement (session=\"915855971d3b272db9bbda8af11e07b9\", element=\"a2eb193e-ecbc-4cbc-b8e1-03f129db92f2\")>]"
      ]
     },
     "execution_count": 9,
     "metadata": {},
     "output_type": "execute_result"
    }
   ],
   "source": [
    "# Extracting the data for the first 10 jobs results\n",
    "# Scraping data for job titles\n",
    "titles_tags=driver.find_elements_by_xpath(\"//a[@class='title fw500 ellipsis']\")\n",
    "titles_tags[:10]"
   ]
  },
  {
   "cell_type": "code",
   "execution_count": 10,
   "id": "e8de796e",
   "metadata": {},
   "outputs": [
    {
     "data": {
      "text/plain": [
       "['Senior Data Scientist Grade12',\n",
       " 'Senior Data Scientist Grade12',\n",
       " 'Senior Data Scientist',\n",
       " 'Data Scientist: Advanced Analytics',\n",
       " 'Data Scientist',\n",
       " 'Data Scientist',\n",
       " 'Data Scientist: Artificial Intelligence',\n",
       " 'Data Scientist: Artificial Intelligence',\n",
       " 'Data Scientist: Artificial Intelligence',\n",
       " 'Data Scientist: Artificial Intelligence']"
      ]
     },
     "execution_count": 10,
     "metadata": {},
     "output_type": "execute_result"
    }
   ],
   "source": [
    "for i in titles_tags:\n",
    "    title=i.text\n",
    "    job_titles.append(title)\n",
    "job_titles[:10]"
   ]
  },
  {
   "cell_type": "code",
   "execution_count": 11,
   "id": "2f010a74",
   "metadata": {},
   "outputs": [
    {
     "data": {
      "text/plain": [
       "[<selenium.webdriver.remote.webelement.WebElement (session=\"915855971d3b272db9bbda8af11e07b9\", element=\"8daecf35-034d-4fb3-a8ae-8d6a839c43d1\")>,\n",
       " <selenium.webdriver.remote.webelement.WebElement (session=\"915855971d3b272db9bbda8af11e07b9\", element=\"40fd32a1-84c8-4921-95f1-cafb7abc1496\")>,\n",
       " <selenium.webdriver.remote.webelement.WebElement (session=\"915855971d3b272db9bbda8af11e07b9\", element=\"db555518-9674-4106-9d76-f2f398f49636\")>,\n",
       " <selenium.webdriver.remote.webelement.WebElement (session=\"915855971d3b272db9bbda8af11e07b9\", element=\"c7527cf4-ce14-4574-b35c-6eb01376d339\")>,\n",
       " <selenium.webdriver.remote.webelement.WebElement (session=\"915855971d3b272db9bbda8af11e07b9\", element=\"8cd08a6f-fb37-4984-bf90-663fc0c0ca23\")>,\n",
       " <selenium.webdriver.remote.webelement.WebElement (session=\"915855971d3b272db9bbda8af11e07b9\", element=\"8634ce49-3c82-4281-858a-152b38ba731a\")>,\n",
       " <selenium.webdriver.remote.webelement.WebElement (session=\"915855971d3b272db9bbda8af11e07b9\", element=\"4ecf84ac-3cb0-45f1-a125-18e8e935144c\")>,\n",
       " <selenium.webdriver.remote.webelement.WebElement (session=\"915855971d3b272db9bbda8af11e07b9\", element=\"2543ed9e-2253-4d71-93d1-8b3525af0d07\")>,\n",
       " <selenium.webdriver.remote.webelement.WebElement (session=\"915855971d3b272db9bbda8af11e07b9\", element=\"3e89a9a6-a690-41cf-a1b5-c718dd3481f8\")>,\n",
       " <selenium.webdriver.remote.webelement.WebElement (session=\"915855971d3b272db9bbda8af11e07b9\", element=\"f1d067c3-96dc-408a-8914-4e396d7edd6f\")>]"
      ]
     },
     "execution_count": 11,
     "metadata": {},
     "output_type": "execute_result"
    }
   ],
   "source": [
    "# Scraping data for Company Name\n",
    "companies_tags=driver.find_elements_by_xpath(\"//a[@class='subTitle ellipsis fleft']\")\n",
    "companies_tags[:10]"
   ]
  },
  {
   "cell_type": "code",
   "execution_count": 12,
   "id": "5dcf7dc8",
   "metadata": {},
   "outputs": [
    {
     "data": {
      "text/plain": [
       "['Flipkart',\n",
       " 'Flipkart',\n",
       " 'Fractal Analytics',\n",
       " 'IBM',\n",
       " 'Genpact',\n",
       " 'VISA',\n",
       " 'IBM',\n",
       " 'IBM',\n",
       " 'IBM',\n",
       " 'IBM']"
      ]
     },
     "execution_count": 12,
     "metadata": {},
     "output_type": "execute_result"
    }
   ],
   "source": [
    "for i in companies_tags:\n",
    "    company_name=i.text\n",
    "    company_names.append(company_name)\n",
    "company_names[:10]"
   ]
  },
  {
   "cell_type": "code",
   "execution_count": 13,
   "id": "21a9ebf8",
   "metadata": {},
   "outputs": [
    {
     "data": {
      "text/plain": [
       "[<selenium.webdriver.remote.webelement.WebElement (session=\"915855971d3b272db9bbda8af11e07b9\", element=\"5ae2d3f9-2674-4301-9f2f-3148ee15310a\")>,\n",
       " <selenium.webdriver.remote.webelement.WebElement (session=\"915855971d3b272db9bbda8af11e07b9\", element=\"8ae35c0e-a2fb-4efb-9461-12ec8bcdd67f\")>,\n",
       " <selenium.webdriver.remote.webelement.WebElement (session=\"915855971d3b272db9bbda8af11e07b9\", element=\"3e164951-fdb7-41bc-b917-e48eec6a624e\")>,\n",
       " <selenium.webdriver.remote.webelement.WebElement (session=\"915855971d3b272db9bbda8af11e07b9\", element=\"0a2e2296-db0c-44f1-9501-9f30640cce45\")>,\n",
       " <selenium.webdriver.remote.webelement.WebElement (session=\"915855971d3b272db9bbda8af11e07b9\", element=\"659114a5-fe43-4a04-bbb7-9fb51e8079fe\")>,\n",
       " <selenium.webdriver.remote.webelement.WebElement (session=\"915855971d3b272db9bbda8af11e07b9\", element=\"5d999427-4ceb-4f20-801d-2737c0ef9b90\")>,\n",
       " <selenium.webdriver.remote.webelement.WebElement (session=\"915855971d3b272db9bbda8af11e07b9\", element=\"5d412673-82ce-498a-ade3-ae148f22e342\")>,\n",
       " <selenium.webdriver.remote.webelement.WebElement (session=\"915855971d3b272db9bbda8af11e07b9\", element=\"fe79aa63-4021-46c8-abfa-8448e49c1449\")>,\n",
       " <selenium.webdriver.remote.webelement.WebElement (session=\"915855971d3b272db9bbda8af11e07b9\", element=\"c5d16887-40d7-4074-bb1f-b074270d01d4\")>,\n",
       " <selenium.webdriver.remote.webelement.WebElement (session=\"915855971d3b272db9bbda8af11e07b9\", element=\"3f57e7d0-001d-4a07-a35a-1d2b38ceb4c0\")>]"
      ]
     },
     "execution_count": 13,
     "metadata": {},
     "output_type": "execute_result"
    }
   ],
   "source": [
    "# Scraping data for job location \n",
    "locations_tags=driver.find_elements_by_xpath(\"//li[@class='fleft grey-text br2 placeHolderLi location']/span[1]\")\n",
    "locations_tags[:10]"
   ]
  },
  {
   "cell_type": "code",
   "execution_count": 14,
   "id": "138aa6de",
   "metadata": {
    "scrolled": true
   },
   "outputs": [
    {
     "data": {
      "text/plain": [
       "['Bangalore/Bengaluru',\n",
       " 'Bangalore/Bengaluru',\n",
       " 'Bangalore/Bengaluru',\n",
       " 'Bengaluru/Bangalore',\n",
       " 'Hyderabad/Secunderabad, Bangalore/Bengaluru, Delhi / NCR',\n",
       " 'Bangalore/Bengaluru',\n",
       " 'Bangalore/Bengaluru',\n",
       " 'Bengaluru/Bangalore',\n",
       " 'Bengaluru/Bangalore',\n",
       " 'Bengaluru/Bangalore']"
      ]
     },
     "execution_count": 14,
     "metadata": {},
     "output_type": "execute_result"
    }
   ],
   "source": [
    "for i in locations_tags:\n",
    "    location=i.text\n",
    "    location_list.append(location)\n",
    "location_list[:10]"
   ]
  },
  {
   "cell_type": "code",
   "execution_count": 16,
   "id": "fec4b36a",
   "metadata": {},
   "outputs": [
    {
     "name": "stdout",
     "output_type": "stream",
     "text": [
      "20 20 20\n"
     ]
    }
   ],
   "source": [
    "# Checking length of the collected data\n",
    "print(len(job_titles),len(company_names),len(location_list))"
   ]
  },
  {
   "cell_type": "code",
   "execution_count": 18,
   "id": "ea7a9881",
   "metadata": {},
   "outputs": [
    {
     "data": {
      "text/html": [
       "<div>\n",
       "<style scoped>\n",
       "    .dataframe tbody tr th:only-of-type {\n",
       "        vertical-align: middle;\n",
       "    }\n",
       "\n",
       "    .dataframe tbody tr th {\n",
       "        vertical-align: top;\n",
       "    }\n",
       "\n",
       "    .dataframe thead th {\n",
       "        text-align: right;\n",
       "    }\n",
       "</style>\n",
       "<table border=\"1\" class=\"dataframe\">\n",
       "  <thead>\n",
       "    <tr style=\"text-align: right;\">\n",
       "      <th></th>\n",
       "      <th>title</th>\n",
       "      <th>company</th>\n",
       "      <th>location</th>\n",
       "    </tr>\n",
       "  </thead>\n",
       "  <tbody>\n",
       "    <tr>\n",
       "      <th>0</th>\n",
       "      <td>Senior Data Scientist Grade12</td>\n",
       "      <td>Flipkart</td>\n",
       "      <td>Bangalore/Bengaluru</td>\n",
       "    </tr>\n",
       "    <tr>\n",
       "      <th>1</th>\n",
       "      <td>Senior Data Scientist Grade12</td>\n",
       "      <td>Flipkart</td>\n",
       "      <td>Bangalore/Bengaluru</td>\n",
       "    </tr>\n",
       "    <tr>\n",
       "      <th>2</th>\n",
       "      <td>Senior Data Scientist</td>\n",
       "      <td>Fractal Analytics</td>\n",
       "      <td>Bangalore/Bengaluru</td>\n",
       "    </tr>\n",
       "    <tr>\n",
       "      <th>3</th>\n",
       "      <td>Data Scientist: Advanced Analytics</td>\n",
       "      <td>IBM</td>\n",
       "      <td>Bengaluru/Bangalore</td>\n",
       "    </tr>\n",
       "    <tr>\n",
       "      <th>4</th>\n",
       "      <td>Data Scientist</td>\n",
       "      <td>Genpact</td>\n",
       "      <td>Hyderabad/Secunderabad, Bangalore/Bengaluru, D...</td>\n",
       "    </tr>\n",
       "    <tr>\n",
       "      <th>5</th>\n",
       "      <td>Data Scientist</td>\n",
       "      <td>VISA</td>\n",
       "      <td>Bangalore/Bengaluru</td>\n",
       "    </tr>\n",
       "    <tr>\n",
       "      <th>6</th>\n",
       "      <td>Data Scientist: Artificial Intelligence</td>\n",
       "      <td>IBM</td>\n",
       "      <td>Bangalore/Bengaluru</td>\n",
       "    </tr>\n",
       "    <tr>\n",
       "      <th>7</th>\n",
       "      <td>Data Scientist: Artificial Intelligence</td>\n",
       "      <td>IBM</td>\n",
       "      <td>Bengaluru/Bangalore</td>\n",
       "    </tr>\n",
       "    <tr>\n",
       "      <th>8</th>\n",
       "      <td>Data Scientist: Artificial Intelligence</td>\n",
       "      <td>IBM</td>\n",
       "      <td>Bengaluru/Bangalore</td>\n",
       "    </tr>\n",
       "    <tr>\n",
       "      <th>9</th>\n",
       "      <td>Data Scientist: Artificial Intelligence</td>\n",
       "      <td>IBM</td>\n",
       "      <td>Bengaluru/Bangalore</td>\n",
       "    </tr>\n",
       "  </tbody>\n",
       "</table>\n",
       "</div>"
      ],
      "text/plain": [
       "                                     title            company  \\\n",
       "0            Senior Data Scientist Grade12           Flipkart   \n",
       "1            Senior Data Scientist Grade12           Flipkart   \n",
       "2                    Senior Data Scientist  Fractal Analytics   \n",
       "3       Data Scientist: Advanced Analytics                IBM   \n",
       "4                           Data Scientist            Genpact   \n",
       "5                           Data Scientist               VISA   \n",
       "6  Data Scientist: Artificial Intelligence                IBM   \n",
       "7  Data Scientist: Artificial Intelligence                IBM   \n",
       "8  Data Scientist: Artificial Intelligence                IBM   \n",
       "9  Data Scientist: Artificial Intelligence                IBM   \n",
       "\n",
       "                                            location  \n",
       "0                                Bangalore/Bengaluru  \n",
       "1                                Bangalore/Bengaluru  \n",
       "2                                Bangalore/Bengaluru  \n",
       "3                                Bengaluru/Bangalore  \n",
       "4  Hyderabad/Secunderabad, Bangalore/Bengaluru, D...  \n",
       "5                                Bangalore/Bengaluru  \n",
       "6                                Bangalore/Bengaluru  \n",
       "7                                Bengaluru/Bangalore  \n",
       "8                                Bengaluru/Bangalore  \n",
       "9                                Bengaluru/Bangalore  "
      ]
     },
     "execution_count": 18,
     "metadata": {},
     "output_type": "execute_result"
    }
   ],
   "source": [
    "# Creating the DataFrame for the scraped data for first 10 results\n",
    "jobs=pd.DataFrame({})\n",
    "jobs['title']=job_titles[:10]\n",
    "jobs['company']=company_names[:10]\n",
    "jobs['location']=location_list[:10]\n",
    "jobs"
   ]
  },
  {
   "cell_type": "code",
   "execution_count": 19,
   "id": "72594ba6",
   "metadata": {},
   "outputs": [],
   "source": [
    "driver.close()"
   ]
  },
  {
   "cell_type": "markdown",
   "id": "3ea06c03",
   "metadata": {},
   "source": [
    "Q3: In this question you have to scrape data using the filters available on the webpage as shown below:\n"
   ]
  },
  {
   "cell_type": "code",
   "execution_count": 42,
   "id": "b3f1c48a",
   "metadata": {},
   "outputs": [],
   "source": [
    "# Importing all the required libraries\n",
    "import selenium\n",
    "import pandas as pd\n",
    "from selenium import webdriver\n",
    "import warnings\n",
    "warnings.filterwarnings(\"ignore\")\n",
    "import time"
   ]
  },
  {
   "cell_type": "code",
   "execution_count": 27,
   "id": "dc2eda16",
   "metadata": {},
   "outputs": [],
   "source": [
    "# Connecting to the webdriver\n",
    "driver=webdriver.Chrome(r\"C:\\web driver\\chromedriver.exe\")\n",
    "time.sleep(2)"
   ]
  },
  {
   "cell_type": "code",
   "execution_count": 44,
   "id": "9847cae4",
   "metadata": {},
   "outputs": [],
   "source": [
    "#Getting the webpage of mentioned url\n",
    "driver.get('https://www.naukri.com/')"
   ]
  },
  {
   "cell_type": "code",
   "execution_count": 45,
   "id": "0c325450",
   "metadata": {},
   "outputs": [],
   "source": [
    "# Entering “Data Scientist” in “Skill,Designations,Companies” field \n",
    "search_field_designation=driver.find_element_by_class_name(\"suggestor-input \")\n",
    "search_field_designation.send_keys(\"Data Scientist\")"
   ]
  },
  {
   "cell_type": "code",
   "execution_count": 46,
   "id": "8d4eee0c",
   "metadata": {},
   "outputs": [],
   "source": [
    "# Clicking on Search button\n",
    "search_button=driver.find_element_by_xpath(\"/html/body/div/div[2]/div[3]/div/div/div[6]\")\n",
    "search_button.click()"
   ]
  },
  {
   "cell_type": "code",
   "execution_count": 47,
   "id": "fe208185",
   "metadata": {},
   "outputs": [],
   "source": [
    "#clicking on location filter by using xpath\n",
    "location_filter = driver.find_element_by_xpath('/html/body/div[1]/div[3]/div[2]/section[1]/div[2]/div[4]/div[2]/div[3]/label/p/span[1]')\n",
    "location_filter.click()"
   ]
  },
  {
   "cell_type": "code",
   "execution_count": 48,
   "id": "668046ea",
   "metadata": {},
   "outputs": [],
   "source": [
    "#clicking on salary filter by using xpath\n",
    "salary_filter = driver.find_element_by_xpath('/html/body/div[1]/div[3]/div[2]/section[1]/div[2]/div[5]/div[2]/div[2]/label/p/span[1]')\n",
    "salary_filter.click()"
   ]
  },
  {
   "cell_type": "code",
   "execution_count": 49,
   "id": "388c8f68",
   "metadata": {},
   "outputs": [],
   "source": [
    "#Empty List Creation\n",
    "job_titles=[]\n",
    "company_names=[]\n",
    "location_list=[]\n",
    "experience_list=[]"
   ]
  },
  {
   "cell_type": "code",
   "execution_count": 50,
   "id": "1357db2b",
   "metadata": {},
   "outputs": [
    {
     "data": {
      "text/plain": [
       "['Data Scientist',\n",
       " 'Junior Data Scientist',\n",
       " 'Associate Data Scientist',\n",
       " 'Associate Scientist - Data Engineering',\n",
       " 'Data Scientist || Software Company || Immediate Joiners To max 30 Days',\n",
       " 'Data Scientist/ Machine Learning, 2022 Passout Can also apply',\n",
       " 'Hiring For Data Analyst and Data Scientist For Gurgaon Location',\n",
       " 'Data Scientist (freelance)',\n",
       " 'Data Scientists',\n",
       " 'Data Scientist']"
      ]
     },
     "execution_count": 50,
     "metadata": {},
     "output_type": "execute_result"
    }
   ],
   "source": [
    "# Extracting the data for the first 10 jobs results\n",
    "# Scraping data for job titles\n",
    "titles_tags=driver.find_elements_by_xpath(\"//a[@class='title fw500 ellipsis']\")\n",
    "titles_tags[:10]\n",
    "for i in titles_tags:\n",
    "    title=i.text\n",
    "    job_titles.append(title)\n",
    "    if len(job_titles)==10:\n",
    "        break\n",
    "job_titles"
   ]
  },
  {
   "cell_type": "code",
   "execution_count": 51,
   "id": "6f07d51d",
   "metadata": {},
   "outputs": [
    {
     "data": {
      "text/plain": [
       "['Ashkom Media India Private Limited',\n",
       " 'EASY DATA ANALYTICS TECHNOLOGY PRIVATE LIMITED',\n",
       " 'Optum',\n",
       " 'AXA Technology Services India Pvt. Ltd',\n",
       " 'Skyleaf Consultants',\n",
       " 'Creative Hands HR Consultancy',\n",
       " 'Shadow Placements',\n",
       " '2Coms',\n",
       " 'Nibha Infotech Private Limited',\n",
       " 'BlackBuck']"
      ]
     },
     "execution_count": 51,
     "metadata": {},
     "output_type": "execute_result"
    }
   ],
   "source": [
    "# Scraping data for company name\n",
    "companies_tags=driver.find_elements_by_xpath(\"//a[@class='subTitle ellipsis fleft']\")\n",
    "companies_tags[:10]\n",
    "for i in companies_tags:\n",
    "    company_name=i.text\n",
    "    company_names.append(company_name)\n",
    "    if len(company_names)==10:\n",
    "        break\n",
    "company_names"
   ]
  },
  {
   "cell_type": "code",
   "execution_count": 52,
   "id": "f4bc4b3f",
   "metadata": {},
   "outputs": [
    {
     "data": {
      "text/plain": [
       "['Noida, Bangalore/Bengaluru',\n",
       " 'Noida',\n",
       " 'Gurgaon/Gurugram',\n",
       " 'Gurgaon/Gurugram',\n",
       " 'Gurgaon/Gurugram, Bangalore/Bengaluru',\n",
       " 'Hyderabad/Secunderabad, Pune, Chennai, Delhi / NCR, Vadodara, Mumbai (All Areas)',\n",
       " 'Noida, Gurgaon/Gurugram, Delhi / NCR',\n",
       " 'New Delhi, Delhi',\n",
       " 'Gurgaon/Gurugram',\n",
       " 'Gurgaon, Bengaluru']"
      ]
     },
     "execution_count": 52,
     "metadata": {},
     "output_type": "execute_result"
    }
   ],
   "source": [
    "# Scraping data for job location \n",
    "locations_tags=driver.find_elements_by_xpath(\"//li[@class='fleft grey-text br2 placeHolderLi location']/span[1]\")\n",
    "locations_tags[:10]\n",
    "for i in locations_tags:\n",
    "    location=i.text\n",
    "    location_list.append(location)\n",
    "    if len(location_list)==10:\n",
    "        break\n",
    "location_list"
   ]
  },
  {
   "cell_type": "code",
   "execution_count": 53,
   "id": "cc35df05",
   "metadata": {},
   "outputs": [
    {
     "data": {
      "text/plain": [
       "['3-6 Yrs',\n",
       " '1-2 Yrs',\n",
       " '1-5 Yrs',\n",
       " '2-5 Yrs',\n",
       " '3-8 Yrs',\n",
       " '0-4 Yrs',\n",
       " '3-7 Yrs',\n",
       " '2-7 Yrs',\n",
       " '5-8 Yrs',\n",
       " '3-7 Yrs']"
      ]
     },
     "execution_count": 53,
     "metadata": {},
     "output_type": "execute_result"
    }
   ],
   "source": [
    "# Scraping data for experinece\n",
    "experience_tags=driver.find_elements_by_xpath(\"//li[@class='fleft grey-text br2 placeHolderLi experience']/span[1]\")\n",
    "experience_tags[:10]\n",
    "for i in experience_tags:\n",
    "    experience=i.text\n",
    "    experience_list.append(experience)\n",
    "    if len(experience_list)==10:\n",
    "        break\n",
    "experience_list"
   ]
  },
  {
   "cell_type": "code",
   "execution_count": 54,
   "id": "bc304c4d",
   "metadata": {},
   "outputs": [
    {
     "name": "stdout",
     "output_type": "stream",
     "text": [
      "10 10 10 10\n"
     ]
    }
   ],
   "source": [
    "print(len(job_titles),len(company_names),len(location_list),len(experience_list))"
   ]
  },
  {
   "cell_type": "code",
   "execution_count": 55,
   "id": "39a1077c",
   "metadata": {},
   "outputs": [
    {
     "data": {
      "text/html": [
       "<div>\n",
       "<style scoped>\n",
       "    .dataframe tbody tr th:only-of-type {\n",
       "        vertical-align: middle;\n",
       "    }\n",
       "\n",
       "    .dataframe tbody tr th {\n",
       "        vertical-align: top;\n",
       "    }\n",
       "\n",
       "    .dataframe thead th {\n",
       "        text-align: right;\n",
       "    }\n",
       "</style>\n",
       "<table border=\"1\" class=\"dataframe\">\n",
       "  <thead>\n",
       "    <tr style=\"text-align: right;\">\n",
       "      <th></th>\n",
       "      <th>title</th>\n",
       "      <th>company</th>\n",
       "      <th>location</th>\n",
       "      <th>experience</th>\n",
       "    </tr>\n",
       "  </thead>\n",
       "  <tbody>\n",
       "    <tr>\n",
       "      <th>0</th>\n",
       "      <td>Data Scientist</td>\n",
       "      <td>Ashkom Media India Private Limited</td>\n",
       "      <td>Noida, Bangalore/Bengaluru</td>\n",
       "      <td>3-6 Yrs</td>\n",
       "    </tr>\n",
       "    <tr>\n",
       "      <th>1</th>\n",
       "      <td>Junior Data Scientist</td>\n",
       "      <td>EASY DATA ANALYTICS TECHNOLOGY PRIVATE LIMITED</td>\n",
       "      <td>Noida</td>\n",
       "      <td>1-2 Yrs</td>\n",
       "    </tr>\n",
       "    <tr>\n",
       "      <th>2</th>\n",
       "      <td>Associate Data Scientist</td>\n",
       "      <td>Optum</td>\n",
       "      <td>Gurgaon/Gurugram</td>\n",
       "      <td>1-5 Yrs</td>\n",
       "    </tr>\n",
       "    <tr>\n",
       "      <th>3</th>\n",
       "      <td>Associate Scientist - Data Engineering</td>\n",
       "      <td>AXA Technology Services India Pvt. Ltd</td>\n",
       "      <td>Gurgaon/Gurugram</td>\n",
       "      <td>2-5 Yrs</td>\n",
       "    </tr>\n",
       "    <tr>\n",
       "      <th>4</th>\n",
       "      <td>Data Scientist || Software Company || Immediat...</td>\n",
       "      <td>Skyleaf Consultants</td>\n",
       "      <td>Gurgaon/Gurugram, Bangalore/Bengaluru</td>\n",
       "      <td>3-8 Yrs</td>\n",
       "    </tr>\n",
       "    <tr>\n",
       "      <th>5</th>\n",
       "      <td>Data Scientist/ Machine Learning, 2022 Passout...</td>\n",
       "      <td>Creative Hands HR Consultancy</td>\n",
       "      <td>Hyderabad/Secunderabad, Pune, Chennai, Delhi /...</td>\n",
       "      <td>0-4 Yrs</td>\n",
       "    </tr>\n",
       "    <tr>\n",
       "      <th>6</th>\n",
       "      <td>Hiring For Data Analyst and Data Scientist For...</td>\n",
       "      <td>Shadow Placements</td>\n",
       "      <td>Noida, Gurgaon/Gurugram, Delhi / NCR</td>\n",
       "      <td>3-7 Yrs</td>\n",
       "    </tr>\n",
       "    <tr>\n",
       "      <th>7</th>\n",
       "      <td>Data Scientist (freelance)</td>\n",
       "      <td>2Coms</td>\n",
       "      <td>New Delhi, Delhi</td>\n",
       "      <td>2-7 Yrs</td>\n",
       "    </tr>\n",
       "    <tr>\n",
       "      <th>8</th>\n",
       "      <td>Data Scientists</td>\n",
       "      <td>Nibha Infotech Private Limited</td>\n",
       "      <td>Gurgaon/Gurugram</td>\n",
       "      <td>5-8 Yrs</td>\n",
       "    </tr>\n",
       "    <tr>\n",
       "      <th>9</th>\n",
       "      <td>Data Scientist</td>\n",
       "      <td>BlackBuck</td>\n",
       "      <td>Gurgaon, Bengaluru</td>\n",
       "      <td>3-7 Yrs</td>\n",
       "    </tr>\n",
       "  </tbody>\n",
       "</table>\n",
       "</div>"
      ],
      "text/plain": [
       "                                               title  \\\n",
       "0                                     Data Scientist   \n",
       "1                              Junior Data Scientist   \n",
       "2                           Associate Data Scientist   \n",
       "3             Associate Scientist - Data Engineering   \n",
       "4  Data Scientist || Software Company || Immediat...   \n",
       "5  Data Scientist/ Machine Learning, 2022 Passout...   \n",
       "6  Hiring For Data Analyst and Data Scientist For...   \n",
       "7                         Data Scientist (freelance)   \n",
       "8                                    Data Scientists   \n",
       "9                                     Data Scientist   \n",
       "\n",
       "                                          company  \\\n",
       "0              Ashkom Media India Private Limited   \n",
       "1  EASY DATA ANALYTICS TECHNOLOGY PRIVATE LIMITED   \n",
       "2                                           Optum   \n",
       "3          AXA Technology Services India Pvt. Ltd   \n",
       "4                             Skyleaf Consultants   \n",
       "5                   Creative Hands HR Consultancy   \n",
       "6                               Shadow Placements   \n",
       "7                                           2Coms   \n",
       "8                  Nibha Infotech Private Limited   \n",
       "9                                       BlackBuck   \n",
       "\n",
       "                                            location experience  \n",
       "0                         Noida, Bangalore/Bengaluru    3-6 Yrs  \n",
       "1                                              Noida    1-2 Yrs  \n",
       "2                                   Gurgaon/Gurugram    1-5 Yrs  \n",
       "3                                   Gurgaon/Gurugram    2-5 Yrs  \n",
       "4              Gurgaon/Gurugram, Bangalore/Bengaluru    3-8 Yrs  \n",
       "5  Hyderabad/Secunderabad, Pune, Chennai, Delhi /...    0-4 Yrs  \n",
       "6               Noida, Gurgaon/Gurugram, Delhi / NCR    3-7 Yrs  \n",
       "7                                   New Delhi, Delhi    2-7 Yrs  \n",
       "8                                   Gurgaon/Gurugram    5-8 Yrs  \n",
       "9                                 Gurgaon, Bengaluru    3-7 Yrs  "
      ]
     },
     "execution_count": 55,
     "metadata": {},
     "output_type": "execute_result"
    }
   ],
   "source": [
    "jobs=pd.DataFrame({})\n",
    "jobs['title']=job_titles\n",
    "jobs['company']=company_names\n",
    "jobs['location']=location_list\n",
    "jobs['experience']=experience_list\n",
    "jobs"
   ]
  },
  {
   "cell_type": "code",
   "execution_count": 56,
   "id": "ca95eec1",
   "metadata": {},
   "outputs": [],
   "source": [
    "driver.close()"
   ]
  },
  {
   "cell_type": "markdown",
   "id": "c673d6a1",
   "metadata": {},
   "source": [
    "Q4: Scrape data of first 100 sunglasses listings on flipkart.com. You have to scrape four attributes:\n",
    "1. Brand\n",
    "2. Product Description\n",
    "3. Price\n",
    "The attributes which you have to scrape is ticked marked in the below image"
   ]
  },
  {
   "cell_type": "code",
   "execution_count": 1,
   "id": "1be644a9",
   "metadata": {},
   "outputs": [],
   "source": [
    "# Importing all the required libraries\n",
    "import selenium\n",
    "import pandas as pd\n",
    "from selenium import webdriver\n",
    "import warnings\n",
    "warnings.filterwarnings(\"ignore\")\n",
    "import time"
   ]
  },
  {
   "cell_type": "code",
   "execution_count": 2,
   "id": "f47dea0c",
   "metadata": {},
   "outputs": [],
   "source": [
    "# Connecting to the webdriver\n",
    "driver=webdriver.Chrome(r\"C:\\web driver\\chromedriver.exe\")\n",
    "time.sleep(2)"
   ]
  },
  {
   "cell_type": "code",
   "execution_count": 3,
   "id": "7a0ed230",
   "metadata": {},
   "outputs": [],
   "source": [
    "#Getting the webpage of mentioned url\n",
    "driver.get('https://www.flipkart.com/')"
   ]
  },
  {
   "cell_type": "code",
   "execution_count": 4,
   "id": "8fcd2c15",
   "metadata": {},
   "outputs": [],
   "source": [
    "# Entering “Sunglassses” in search field \n",
    "search_glasses=driver.find_element_by_xpath(\"//input[@class='_3704LK']\")\n",
    "search_glasses.send_keys(\"Sunglasses\")"
   ]
  },
  {
   "cell_type": "code",
   "execution_count": 5,
   "id": "5a2a34b1",
   "metadata": {},
   "outputs": [],
   "source": [
    "# Clicking on Search button\n",
    "search_button=driver.find_element_by_xpath(\"/html/body/div[1]/div/div[1]/div[1]/div[2]/div[2]/form/div/button\")\n",
    "search_button.click()"
   ]
  },
  {
   "cell_type": "code",
   "execution_count": 6,
   "id": "ef79ad55",
   "metadata": {},
   "outputs": [],
   "source": [
    "glass_brand=[]\n",
    "Product_description=[]\n",
    "Price_product=[]\n",
    "Product_discount=[]"
   ]
  },
  {
   "cell_type": "code",
   "execution_count": 7,
   "id": "3ed80b3e",
   "metadata": {
    "scrolled": true
   },
   "outputs": [
    {
     "data": {
      "text/plain": [
       "['PIRASO',\n",
       " 'VINCENT CHASE',\n",
       " 'Fastrack',\n",
       " 'Fastrack',\n",
       " 'PIRASO',\n",
       " 'SUNBEE',\n",
       " 'Elligator',\n",
       " 'VINCENT CHASE',\n",
       " 'Lee Topper',\n",
       " 'DAHAAZIL',\n",
       " 'Elligator',\n",
       " 'ROZZETTA CRAFT',\n",
       " 'New Specs',\n",
       " 'PIRASO',\n",
       " 'PIRASO',\n",
       " 'john jacobs',\n",
       " 'PIRASO',\n",
       " 'ROZZETTA CRAFT',\n",
       " 'PIRASO',\n",
       " 'PIRASO',\n",
       " 'SHAAH COLLECTIONS',\n",
       " 'ROZZETTA CRAFT',\n",
       " 'SRPM',\n",
       " 'PIRASO',\n",
       " 'Fastrack',\n",
       " 'ROYAL SON',\n",
       " 'kingsunglasses',\n",
       " 'Resist',\n",
       " 'SRPM',\n",
       " 'SUNBEE',\n",
       " 'DEIXELS',\n",
       " 'PIRASO',\n",
       " 'Elligator',\n",
       " 'Fastrack',\n",
       " 'Lee Topper',\n",
       " 'PIRASO',\n",
       " 'PIRASO',\n",
       " 'Fastrack',\n",
       " 'New Specs',\n",
       " 'Rich Club']"
      ]
     },
     "execution_count": 7,
     "metadata": {},
     "output_type": "execute_result"
    }
   ],
   "source": [
    "brands=driver.find_elements_by_xpath(\"//div[@class='_2WkVRV']\")\n",
    "for i in brands:\n",
    "    brand=i.text\n",
    "    glass_brand.append(brand)\n",
    "    if len(glass_brand)==40:\n",
    "        break\n",
    "glass_brand"
   ]
  },
  {
   "cell_type": "code",
   "execution_count": 8,
   "id": "6fa3a6b6",
   "metadata": {},
   "outputs": [
    {
     "data": {
      "text/plain": [
       "['UV Protection Over-sized Sunglasses (64)',\n",
       " 'UV Protection Cat-eye Sunglasses (54)',\n",
       " 'UV Protection Wayfarer Sunglasses (Free Size)',\n",
       " 'UV Protection Rectangular Sunglasses (Free Size)',\n",
       " 'UV Protection Aviator Sunglasses (54)',\n",
       " 'UV Protection, Polarized Wayfarer Sunglasses (Free Size...',\n",
       " 'UV Protection Round Sunglasses (54)',\n",
       " 'UV Protection Rectangular Sunglasses (50)',\n",
       " 'Riding Glasses Wrap-around Sunglasses (Free Size)',\n",
       " 'UV Protection, Night Vision, Riding Glasses Wayfarer, W...',\n",
       " 'UV Protection Wayfarer Sunglasses (53)',\n",
       " 'UV Protection, Gradient Rectangular Sunglasses (Free Si...',\n",
       " 'UV Protection Rectangular Sunglasses (Free Size)',\n",
       " 'UV Protection Wayfarer Sunglasses (32)',\n",
       " 'UV Protection Aviator Sunglasses (54)',\n",
       " 'UV Protection Round Sunglasses (54)',\n",
       " 'UV Protection Aviator Sunglasses (54)',\n",
       " 'UV Protection, Gradient Rectangular Sunglasses (Free Si...',\n",
       " 'UV Protection Rectangular Sunglasses (52)',\n",
       " 'UV Protection Aviator Sunglasses (55)',\n",
       " 'UV Protection, Polarized, Mirrored Rectangular Sunglass...',\n",
       " 'Polarized, Riding Glasses Sports, Wrap-around Sunglasse...',\n",
       " 'UV Protection Wayfarer Sunglasses (50)',\n",
       " 'UV Protection Over-sized Sunglasses (60)',\n",
       " 'UV Protection Aviator Sunglasses (Free Size)',\n",
       " 'Mirrored Aviator Sunglasses (Free Size)',\n",
       " 'UV Protection, Riding Glasses, Mirrored Wayfarer Sungla...',\n",
       " 'UV Protection, Riding Glasses, Toughened Glass Lens, Gr...',\n",
       " 'UV Protection Wayfarer Sunglasses (53)',\n",
       " 'UV Protection, Polarized, Mirrored Retro Square Sunglas...',\n",
       " 'UV Protection Aviator, Wayfarer Sunglasses (Free Size)',\n",
       " 'UV Protection Rectangular, Over-sized Sunglasses (Free ...',\n",
       " 'UV Protection Aviator Sunglasses (55)',\n",
       " 'UV Protection Shield Sunglasses (Free Size)',\n",
       " 'UV Protection Rectangular Sunglasses (Free Size)',\n",
       " 'Mirrored Aviator Sunglasses (32)',\n",
       " 'UV Protection Aviator Sunglasses (58)',\n",
       " 'UV Protection Aviator Sunglasses (58)',\n",
       " 'Mirrored, UV Protection, Riding Glasses, Others Round S...',\n",
       " 'UV Protection, Polarized Round Sunglasses (50)']"
      ]
     },
     "execution_count": 8,
     "metadata": {},
     "output_type": "execute_result"
    }
   ],
   "source": [
    "products=driver.find_elements_by_xpath(\"//a[@class='IRpwTa']\")\n",
    "for i in products:\n",
    "    product=i.text\n",
    "    Product_description.append(product)\n",
    "    if len(Product_description)==40:\n",
    "        break\n",
    "Product_description"
   ]
  },
  {
   "cell_type": "code",
   "execution_count": 9,
   "id": "bacb8b9d",
   "metadata": {},
   "outputs": [
    {
     "data": {
      "text/plain": [
       "['₹349',\n",
       " '₹599',\n",
       " '₹669',\n",
       " '₹589',\n",
       " '₹199',\n",
       " '₹233',\n",
       " '₹245',\n",
       " '₹599',\n",
       " '₹249',\n",
       " '₹169',\n",
       " '₹174',\n",
       " '₹399',\n",
       " '₹215',\n",
       " '₹175',\n",
       " '₹174',\n",
       " '₹2,200',\n",
       " '₹174',\n",
       " '₹329',\n",
       " '₹230',\n",
       " '₹200',\n",
       " '₹145',\n",
       " '₹424',\n",
       " '₹199',\n",
       " '₹349',\n",
       " '₹589',\n",
       " '₹349',\n",
       " '₹159',\n",
       " '₹850',\n",
       " '₹171',\n",
       " '₹209',\n",
       " '₹199',\n",
       " '₹275',\n",
       " '₹283',\n",
       " '₹759',\n",
       " '₹169',\n",
       " '₹149',\n",
       " '₹299',\n",
       " '₹989',\n",
       " '₹249',\n",
       " '₹305']"
      ]
     },
     "execution_count": 9,
     "metadata": {},
     "output_type": "execute_result"
    }
   ],
   "source": [
    "price=driver.find_elements_by_xpath(\"//div[@class='_30jeq3']\")\n",
    "for i in price:\n",
    "    price=i.text\n",
    "    Price_product.append(price)\n",
    "    if len(Price_product)==40:\n",
    "        break\n",
    "Price_product"
   ]
  },
  {
   "cell_type": "code",
   "execution_count": 10,
   "id": "94dd18d9",
   "metadata": {
    "scrolled": true
   },
   "outputs": [
    {
     "data": {
      "text/plain": [
       "['86% off',\n",
       " '70% off',\n",
       " '25% off',\n",
       " '26% off',\n",
       " '87% off',\n",
       " '82% off',\n",
       " '90% off',\n",
       " '70% off',\n",
       " '90% off',\n",
       " '83% off',\n",
       " '86% off',\n",
       " '80% off',\n",
       " '89% off',\n",
       " '89% off',\n",
       " '89% off',\n",
       " '56% off',\n",
       " '89% off',\n",
       " '83% off',\n",
       " '91% off',\n",
       " '87% off',\n",
       " '91% off',\n",
       " '78% off',\n",
       " '84% off',\n",
       " '86% off',\n",
       " '26% off',\n",
       " '76% off',\n",
       " '86% off',\n",
       " '57% off',\n",
       " '82% off',\n",
       " '83% off',\n",
       " '83% off',\n",
       " '90% off',\n",
       " '85% off',\n",
       " '15% off',\n",
       " '83% off',\n",
       " '90% off',\n",
       " '88% off',\n",
       " '23% off',\n",
       " '82% off',\n",
       " '69% off']"
      ]
     },
     "execution_count": 10,
     "metadata": {},
     "output_type": "execute_result"
    }
   ],
   "source": [
    "discount=driver.find_elements_by_xpath(\"//div[@class='_3Ay6Sb']\")\n",
    "for i in discount:\n",
    "    discount=i.text\n",
    "    Product_discount.append(discount)\n",
    "    if len(Product_discount)==40:\n",
    "        break\n",
    "Product_discount"
   ]
  },
  {
   "cell_type": "code",
   "execution_count": 11,
   "id": "c376fa0c",
   "metadata": {},
   "outputs": [
    {
     "name": "stdout",
     "output_type": "stream",
     "text": [
      "40 40 40 40\n"
     ]
    }
   ],
   "source": [
    "print(len(glass_brand),len(Product_description),len(Price_product),len(Product_discount))"
   ]
  },
  {
   "cell_type": "code",
   "execution_count": 12,
   "id": "7b78b03e",
   "metadata": {},
   "outputs": [],
   "source": [
    "next_button=driver.find_element_by_xpath(\"/html/body/div[1]/div/div[3]/div[1]/div[2]/div[12]/div/div/nav/a[11]/span\")\n",
    "next_button.click()\n",
    "time.sleep(5)"
   ]
  },
  {
   "cell_type": "code",
   "execution_count": 13,
   "id": "971d8dba",
   "metadata": {},
   "outputs": [
    {
     "data": {
      "text/plain": [
       "['Fastrack',\n",
       " 'Mi',\n",
       " 'ROZZETTA CRAFT',\n",
       " 'NuVew',\n",
       " 'Fastrack',\n",
       " 'Poloport',\n",
       " 'HIPPON',\n",
       " 'PIRASO',\n",
       " 'ROZZETTA CRAFT',\n",
       " 'Mi',\n",
       " 'Fastrack',\n",
       " 'PIRASO',\n",
       " 'kingsunglasses',\n",
       " 'hipe',\n",
       " 'maxa',\n",
       " 'PIRASO',\n",
       " 'Lee Topper',\n",
       " 'Fastrack',\n",
       " 'AISLIN',\n",
       " 'VINCENT CHASE',\n",
       " 'AISLIN',\n",
       " 'Fastrack',\n",
       " 'Fastrack',\n",
       " 'AISLIN',\n",
       " 'PIRASO',\n",
       " 'New Specs',\n",
       " 'Fastrack',\n",
       " 'VINCENT CHASE',\n",
       " 'PIRASO',\n",
       " 'Rich Club',\n",
       " 'Silver Kartz',\n",
       " 'AISLIN',\n",
       " 'ROYAL SON',\n",
       " 'kingsunglasses',\n",
       " 'kingsunglasses',\n",
       " 'PIRASO',\n",
       " 'Fastrack',\n",
       " 'elegante',\n",
       " 'Fastrack',\n",
       " 'VINCENT CHASE']"
      ]
     },
     "execution_count": 13,
     "metadata": {},
     "output_type": "execute_result"
    }
   ],
   "source": [
    "glass_brand1=[]\n",
    "brand1=driver.find_elements_by_xpath(\"//div[@class='_2WkVRV']\")\n",
    "for i in brand1:\n",
    "    brand1=i.text\n",
    "    glass_brand1.append(brand1)\n",
    "glass_brand1"
   ]
  },
  {
   "cell_type": "code",
   "execution_count": 14,
   "id": "f9a4142f",
   "metadata": {},
   "outputs": [
    {
     "data": {
      "text/plain": [
       "['UV Protection Aviator Sunglasses (58)',\n",
       " 'Polarized Aviator Sunglasses (Free Size)',\n",
       " 'UV Protection Retro Square Sunglasses (Free Size)',\n",
       " 'UV Protection Retro Square, Wayfarer Sunglasses (58)',\n",
       " 'UV Protection Wayfarer Sunglasses (Free Size)',\n",
       " 'UV Protection Wayfarer Sunglasses (Free Size)',\n",
       " 'UV Protection Wayfarer Sunglasses (55)',\n",
       " 'UV Protection Butterfly Sunglasses (60)',\n",
       " 'UV Protection, Gradient Retro Square Sunglasses (Free S...',\n",
       " 'Polarized Wayfarer Sunglasses (Free Size)',\n",
       " 'Gradient, UV Protection Wayfarer Sunglasses (Free Size)',\n",
       " 'UV Protection Butterfly Sunglasses (60)',\n",
       " 'UV Protection Round Sunglasses (54)',\n",
       " 'Gradient, UV Protection Round Sunglasses (Free Size)',\n",
       " 'UV Protection, Riding Glasses Rectangular, Wayfarer, Ov...',\n",
       " 'UV Protection Aviator Sunglasses (58)',\n",
       " 'Riding Glasses, Night Vision Wrap-around Sunglasses (Fr...',\n",
       " 'UV Protection Wayfarer Sunglasses (Free Size)',\n",
       " 'Toughened Glass Lens, UV Protection Wayfarer, Rectangul...',\n",
       " 'by Lenskart Polarized, UV Protection Aviator Sunglasses...',\n",
       " 'UV Protection, Gradient Round, Cat-eye Sunglasses (60)',\n",
       " 'Gradient, UV Protection Wayfarer Sunglasses (Free Size)',\n",
       " 'UV Protection Aviator Sunglasses (57)',\n",
       " 'UV Protection, Gradient Butterfly, Over-sized Sunglasse...',\n",
       " 'UV Protection Aviator Sunglasses (Free Size)',\n",
       " 'UV Protection Round Sunglasses (Free Size)',\n",
       " 'Mirrored, UV Protection Wayfarer Sunglasses (Free Size)',\n",
       " 'by Lenskart Polarized, UV Protection Round Sunglasses (...',\n",
       " 'UV Protection Over-sized Sunglasses (65)',\n",
       " 'UV Protection Round Sunglasses (48)',\n",
       " 'UV Protection Wayfarer Sunglasses (Free Size)',\n",
       " 'UV Protection, Gradient Oval Sunglasses (58)',\n",
       " 'UV Protection Rectangular, Retro Square Sunglasses (58)',\n",
       " 'UV Protection Round Sunglasses (Free Size)',\n",
       " 'UV Protection Rectangular Sunglasses (55)',\n",
       " 'UV Protection Aviator Sunglasses (56)',\n",
       " 'UV Protection Wayfarer Sunglasses (Free Size)',\n",
       " 'Polarized, Riding Glasses, Night Vision Sports, Wrap-ar...',\n",
       " 'Gradient, UV Protection Wayfarer Sunglasses (Free Size)',\n",
       " 'UV Protection Rectangular Sunglasses (52)']"
      ]
     },
     "execution_count": 14,
     "metadata": {},
     "output_type": "execute_result"
    }
   ],
   "source": [
    "Product_description1=[]\n",
    "products1=driver.find_elements_by_xpath(\"//a[@class='IRpwTa']\")\n",
    "for i in products1:\n",
    "    product1=i.text\n",
    "    Product_description1.append(product1)\n",
    "Product_description1"
   ]
  },
  {
   "cell_type": "code",
   "execution_count": 15,
   "id": "2a469520",
   "metadata": {
    "scrolled": true
   },
   "outputs": [
    {
     "data": {
      "text/plain": [
       "['₹939',\n",
       " '₹959',\n",
       " '₹449',\n",
       " '₹225',\n",
       " '₹525',\n",
       " '₹229',\n",
       " '₹121',\n",
       " '₹349',\n",
       " '₹299',\n",
       " '₹799',\n",
       " '₹589',\n",
       " '₹360',\n",
       " '₹166',\n",
       " '₹127',\n",
       " '₹139',\n",
       " '₹299',\n",
       " '₹226',\n",
       " '₹589',\n",
       " '₹725',\n",
       " '₹804',\n",
       " '₹448',\n",
       " '₹589',\n",
       " '₹589',\n",
       " '₹448',\n",
       " '₹299',\n",
       " '₹214',\n",
       " '₹749',\n",
       " '₹849',\n",
       " '₹360',\n",
       " '₹210',\n",
       " '₹238',\n",
       " '₹448',\n",
       " '₹449',\n",
       " '₹279',\n",
       " '₹139',\n",
       " '₹299',\n",
       " '₹669',\n",
       " '₹449',\n",
       " '₹669',\n",
       " '₹599']"
      ]
     },
     "execution_count": 15,
     "metadata": {},
     "output_type": "execute_result"
    }
   ],
   "source": [
    "Price_product1=[]\n",
    "price1=driver.find_elements_by_xpath(\"//div[@class='_30jeq3']\")\n",
    "for i in price1:\n",
    "    price1=i.text\n",
    "    Price_product1.append(price1)\n",
    "Price_product1"
   ]
  },
  {
   "cell_type": "code",
   "execution_count": 16,
   "id": "d10c49a2",
   "metadata": {},
   "outputs": [
    {
     "data": {
      "text/plain": [
       "['27% off',\n",
       " '20% off',\n",
       " '79% off',\n",
       " '78% off',\n",
       " '34% off',\n",
       " '88% off',\n",
       " '87% off',\n",
       " '86% off',\n",
       " '85% off',\n",
       " '20% off',\n",
       " '26% off',\n",
       " '86% off',\n",
       " '84% off',\n",
       " '90% off',\n",
       " '80% off',\n",
       " '88% off',\n",
       " '90% off',\n",
       " '26% off',\n",
       " '80% off',\n",
       " '59% off',\n",
       " '73% off',\n",
       " '26% off',\n",
       " '26% off',\n",
       " '79% off',\n",
       " '81% off',\n",
       " '83% off',\n",
       " '25% off',\n",
       " '57% off',\n",
       " '86% off',\n",
       " '73% off',\n",
       " '84% off',\n",
       " '70% off',\n",
       " '70% off',\n",
       " '82% off',\n",
       " '89% off',\n",
       " '88% off',\n",
       " '25% off',\n",
       " '80% off',\n",
       " '25% off',\n",
       " '70% off']"
      ]
     },
     "execution_count": 16,
     "metadata": {},
     "output_type": "execute_result"
    }
   ],
   "source": [
    "Product_discount1=[]\n",
    "discount1=driver.find_elements_by_xpath(\"//div[@class='_3Ay6Sb']\")\n",
    "for i in discount1:\n",
    "    discount1=i.text\n",
    "    Product_discount1.append(discount1)\n",
    "Product_discount1"
   ]
  },
  {
   "cell_type": "code",
   "execution_count": 17,
   "id": "0d0e4467",
   "metadata": {},
   "outputs": [
    {
     "name": "stdout",
     "output_type": "stream",
     "text": [
      "40 40 40 40\n"
     ]
    }
   ],
   "source": [
    "# Checking length of the collected data\n",
    "print(len(glass_brand1),len(Product_description1),len(Price_product1),len(Product_discount1))"
   ]
  },
  {
   "cell_type": "code",
   "execution_count": 19,
   "id": "b4068c32",
   "metadata": {},
   "outputs": [],
   "source": [
    "#moving to next page\n",
    "next_button=driver.find_element_by_xpath(\"/html/body/div[1]/div/div[3]/div[1]/div[2]/div[12]/div/div/nav/a[12]/span\")\n",
    "next_button.click()\n",
    "time.sleep(5)"
   ]
  },
  {
   "cell_type": "code",
   "execution_count": 20,
   "id": "eebfe88e",
   "metadata": {},
   "outputs": [
    {
     "data": {
      "text/plain": [
       "['hipe',\n",
       " 'Singco India',\n",
       " 'SHAAH COLLECTIONS',\n",
       " 'VINCENT CHASE',\n",
       " 'PHENOMENAL',\n",
       " 'PIRASO',\n",
       " 'Urbanic',\n",
       " 'VINCENT CHASE',\n",
       " 'PHENOMENAL',\n",
       " 'Fastrack',\n",
       " 'NuVew',\n",
       " 'john jacobs',\n",
       " 'hipe',\n",
       " 'Elligator',\n",
       " 'ROZZETTA CRAFT',\n",
       " 'Resist',\n",
       " 'Fastrack',\n",
       " 'PHENOMENAL',\n",
       " 'New Specs',\n",
       " 'PIRASO',\n",
       " 'kingsunglasses',\n",
       " 'Elligator',\n",
       " 'elegante',\n",
       " 'Rich Club',\n",
       " 'VINCENT CHASE',\n",
       " 'VINCENT CHASE',\n",
       " 'VINCENT CHASE',\n",
       " 'PIRASO',\n",
       " 'ROYAL SON',\n",
       " 'agera',\n",
       " 'PHENOMENAL',\n",
       " 'NuVew',\n",
       " 'kingsunglasses',\n",
       " 'PIRASO',\n",
       " 'Singco India',\n",
       " 'PIRASO',\n",
       " 'ROZZETTA CRAFT',\n",
       " 'SHAAH COLLECTIONS',\n",
       " 'AISLIN',\n",
       " 'AISLIN']"
      ]
     },
     "execution_count": 20,
     "metadata": {},
     "output_type": "execute_result"
    }
   ],
   "source": [
    "#Srcapping data of 2nd page\n",
    "#Scrapping Brand Name\n",
    "glass_brand2=[]\n",
    "brand2=driver.find_elements_by_xpath(\"//div[@class='_2WkVRV']\")\n",
    "for i in brand2:\n",
    "    brand2=i.text\n",
    "    glass_brand2.append(brand2)\n",
    "glass_brand2"
   ]
  },
  {
   "cell_type": "code",
   "execution_count": 21,
   "id": "8136ffbc",
   "metadata": {},
   "outputs": [
    {
     "data": {
      "text/plain": [
       "['Mirrored Wayfarer Sunglasses (55)',\n",
       " 'Gradient, Toughened Glass Lens, UV Protection Retro Squ...',\n",
       " 'UV Protection, Polarized, Mirrored Rectangular Sunglass...',\n",
       " 'UV Protection Cat-eye Sunglasses (54)',\n",
       " 'UV Protection, Mirrored Clubmaster Sunglasses (Free Siz...',\n",
       " 'UV Protection Aviator Sunglasses (54)',\n",
       " 'Others Retro Square Sunglasses (Free Size)',\n",
       " 'UV Protection Rectangular Sunglasses (50)',\n",
       " 'UV Protection Retro Square Sunglasses (Free Size)',\n",
       " 'UV Protection Aviator Sunglasses (Free Size)',\n",
       " 'UV Protection Sports Sunglasses (62)',\n",
       " 'UV Protection Round Sunglasses (54)',\n",
       " 'UV Protection, Night Vision, Riding Glasses, Gradient, ...',\n",
       " 'UV Protection Retro Square, Round Sunglasses (54)',\n",
       " 'UV Protection Round Sunglasses (Free Size)',\n",
       " 'UV Protection, Riding Glasses, Toughened Glass Lens, Gr...',\n",
       " 'UV Protection Sports Sunglasses (Free Size)',\n",
       " 'UV Protection, Mirrored Retro Square Sunglasses (53)',\n",
       " 'UV Protection, Mirrored Sports Sunglasses (Free Size)',\n",
       " 'UV Protection Aviator Sunglasses (54)',\n",
       " 'Mirrored, UV Protection Wayfarer Sunglasses (Free Size)',\n",
       " 'UV Protection, Riding Glasses Rectangular, Retro Square...',\n",
       " 'Polarized, Riding Glasses, Night Vision Sports, Wrap-ar...',\n",
       " 'UV Protection, Polarized Round Sunglasses (50)',\n",
       " 'by Lenskart Polarized, UV Protection Wayfarer Sunglasse...',\n",
       " 'by Lenskart Polarized, UV Protection Cat-eye Sunglasses...',\n",
       " 'by Lenskart Polarized, UV Protection Round Sunglasses (...',\n",
       " 'UV Protection Butterfly Sunglasses (60)',\n",
       " 'Mirrored Aviator Sunglasses (55)',\n",
       " 'Gradient Aviator Sunglasses (55)',\n",
       " 'UV Protection Retro Square Sunglasses (53)',\n",
       " 'UV Protection Retro Square, Wayfarer Sunglasses (58)',\n",
       " 'UV Protection, Others Round, Aviator Sunglasses (54)',\n",
       " 'UV Protection Aviator Sunglasses (56)',\n",
       " 'Riding Glasses, UV Protection, Others Aviator Sunglasse...',\n",
       " 'UV Protection Butterfly Sunglasses (60)',\n",
       " 'UV Protection, Riding Glasses Rectangular Sunglasses (F...',\n",
       " 'UV Protection Round Sunglasses (Free Size)',\n",
       " 'UV Protection, Gradient Oval Sunglasses (58)',\n",
       " 'UV Protection, Gradient Butterfly, Over-sized Sunglasse...']"
      ]
     },
     "execution_count": 21,
     "metadata": {},
     "output_type": "execute_result"
    }
   ],
   "source": [
    "#Scrapping data for product description of 2nd page\n",
    "Product_description2=[]\n",
    "products2=driver.find_elements_by_xpath(\"//a[@class='IRpwTa']\")\n",
    "for i in products2:\n",
    "    product2=i.text\n",
    "    Product_description2.append(product2)\n",
    "Product_description2"
   ]
  },
  {
   "cell_type": "code",
   "execution_count": 29,
   "id": "c1203fc4",
   "metadata": {},
   "outputs": [
    {
     "data": {
      "text/plain": [
       "[]"
      ]
     },
     "execution_count": 29,
     "metadata": {},
     "output_type": "execute_result"
    }
   ],
   "source": [
    "Price_product2=[]\n",
    "price2=driver.find_elements_by_xpath(\"//div[@class='_30jeq3']\")\n",
    "for i in price2:\n",
    "    price2=i.text\n",
    "    Price_product2.append(price2)\n",
    "Price_product2"
   ]
  },
  {
   "cell_type": "code",
   "execution_count": 24,
   "id": "f4315d25",
   "metadata": {},
   "outputs": [
    {
     "data": {
      "text/plain": [
       "['81% off',\n",
       " '80% off',\n",
       " '83% off',\n",
       " '70% off',\n",
       " '84% off',\n",
       " '89% off',\n",
       " '52% off',\n",
       " '70% off',\n",
       " '84% off',\n",
       " '33% off',\n",
       " '76% off',\n",
       " '56% off',\n",
       " '90% off',\n",
       " '84% off',\n",
       " '83% off',\n",
       " '57% off',\n",
       " '21% off',\n",
       " '84% off',\n",
       " '89% off',\n",
       " '87% off',\n",
       " '89% off',\n",
       " '79% off',\n",
       " '80% off',\n",
       " '69% off',\n",
       " '72% off',\n",
       " '57% off',\n",
       " '49% off',\n",
       " '86% off',\n",
       " '76% off',\n",
       " '84% off',\n",
       " '73% off',\n",
       " '78% off',\n",
       " '83% off',\n",
       " '88% off',\n",
       " '86% off',\n",
       " '86% off',\n",
       " '84% off',\n",
       " '83% off',\n",
       " '70% off',\n",
       " '79% off']"
      ]
     },
     "execution_count": 24,
     "metadata": {},
     "output_type": "execute_result"
    }
   ],
   "source": [
    "#Scrapping data for discount of 2nd page\n",
    "Product_discount2=[]\n",
    "discount2=driver.find_elements_by_xpath(\"//div[@class='_3Ay6Sb']\")\n",
    "for i in discount2:\n",
    "    discount2=i.text\n",
    "    Product_discount2.append(discount2)\n",
    "Product_discount2"
   ]
  },
  {
   "cell_type": "code",
   "execution_count": 25,
   "id": "cef12c4a",
   "metadata": {},
   "outputs": [],
   "source": [
    "#Combining data of all 3 pages\n",
    "Brand_Name=glass_brand+glass_brand1+glass_brand2\n",
    "Product_Description=Product_description+Product_description1+Product_description2\n",
    "Price=Price_product+Price_product1+Price_product2\n",
    "Discount=Product_discount+Product_discount1+Product_discount2"
   ]
  },
  {
   "cell_type": "code",
   "execution_count": 26,
   "id": "1238a960",
   "metadata": {},
   "outputs": [
    {
     "data": {
      "text/html": [
       "<div>\n",
       "<style scoped>\n",
       "    .dataframe tbody tr th:only-of-type {\n",
       "        vertical-align: middle;\n",
       "    }\n",
       "\n",
       "    .dataframe tbody tr th {\n",
       "        vertical-align: top;\n",
       "    }\n",
       "\n",
       "    .dataframe thead th {\n",
       "        text-align: right;\n",
       "    }\n",
       "</style>\n",
       "<table border=\"1\" class=\"dataframe\">\n",
       "  <thead>\n",
       "    <tr style=\"text-align: right;\">\n",
       "      <th></th>\n",
       "      <th>Brand_Name</th>\n",
       "      <th>Product_Description</th>\n",
       "      <th>Price</th>\n",
       "      <th>Discount_Offered</th>\n",
       "    </tr>\n",
       "  </thead>\n",
       "  <tbody>\n",
       "    <tr>\n",
       "      <th>0</th>\n",
       "      <td>PIRASO</td>\n",
       "      <td>UV Protection Over-sized Sunglasses (64)</td>\n",
       "      <td>₹349</td>\n",
       "      <td>86% off</td>\n",
       "    </tr>\n",
       "    <tr>\n",
       "      <th>1</th>\n",
       "      <td>VINCENT CHASE</td>\n",
       "      <td>UV Protection Cat-eye Sunglasses (54)</td>\n",
       "      <td>₹599</td>\n",
       "      <td>70% off</td>\n",
       "    </tr>\n",
       "    <tr>\n",
       "      <th>2</th>\n",
       "      <td>Fastrack</td>\n",
       "      <td>UV Protection Wayfarer Sunglasses (Free Size)</td>\n",
       "      <td>₹669</td>\n",
       "      <td>25% off</td>\n",
       "    </tr>\n",
       "    <tr>\n",
       "      <th>3</th>\n",
       "      <td>Fastrack</td>\n",
       "      <td>UV Protection Rectangular Sunglasses (Free Size)</td>\n",
       "      <td>₹589</td>\n",
       "      <td>26% off</td>\n",
       "    </tr>\n",
       "    <tr>\n",
       "      <th>4</th>\n",
       "      <td>PIRASO</td>\n",
       "      <td>UV Protection Aviator Sunglasses (54)</td>\n",
       "      <td>₹199</td>\n",
       "      <td>87% off</td>\n",
       "    </tr>\n",
       "    <tr>\n",
       "      <th>...</th>\n",
       "      <td>...</td>\n",
       "      <td>...</td>\n",
       "      <td>...</td>\n",
       "      <td>...</td>\n",
       "    </tr>\n",
       "    <tr>\n",
       "      <th>95</th>\n",
       "      <td>Resist</td>\n",
       "      <td>UV Protection, Riding Glasses, Toughened Glass...</td>\n",
       "      <td>₹850</td>\n",
       "      <td>57% off</td>\n",
       "    </tr>\n",
       "    <tr>\n",
       "      <th>96</th>\n",
       "      <td>Fastrack</td>\n",
       "      <td>UV Protection Sports Sunglasses (Free Size)</td>\n",
       "      <td>₹709</td>\n",
       "      <td>21% off</td>\n",
       "    </tr>\n",
       "    <tr>\n",
       "      <th>97</th>\n",
       "      <td>PHENOMENAL</td>\n",
       "      <td>UV Protection, Mirrored Retro Square Sunglasse...</td>\n",
       "      <td>₹303</td>\n",
       "      <td>84% off</td>\n",
       "    </tr>\n",
       "    <tr>\n",
       "      <th>98</th>\n",
       "      <td>New Specs</td>\n",
       "      <td>UV Protection, Mirrored Sports Sunglasses (Fre...</td>\n",
       "      <td>₹135</td>\n",
       "      <td>89% off</td>\n",
       "    </tr>\n",
       "    <tr>\n",
       "      <th>99</th>\n",
       "      <td>PIRASO</td>\n",
       "      <td>UV Protection Aviator Sunglasses (54)</td>\n",
       "      <td>₹199</td>\n",
       "      <td>87% off</td>\n",
       "    </tr>\n",
       "  </tbody>\n",
       "</table>\n",
       "<p>100 rows × 4 columns</p>\n",
       "</div>"
      ],
      "text/plain": [
       "       Brand_Name                                Product_Description Price  \\\n",
       "0          PIRASO           UV Protection Over-sized Sunglasses (64)  ₹349   \n",
       "1   VINCENT CHASE              UV Protection Cat-eye Sunglasses (54)  ₹599   \n",
       "2        Fastrack      UV Protection Wayfarer Sunglasses (Free Size)  ₹669   \n",
       "3        Fastrack   UV Protection Rectangular Sunglasses (Free Size)  ₹589   \n",
       "4          PIRASO              UV Protection Aviator Sunglasses (54)  ₹199   \n",
       "..            ...                                                ...   ...   \n",
       "95         Resist  UV Protection, Riding Glasses, Toughened Glass...  ₹850   \n",
       "96       Fastrack        UV Protection Sports Sunglasses (Free Size)  ₹709   \n",
       "97     PHENOMENAL  UV Protection, Mirrored Retro Square Sunglasse...  ₹303   \n",
       "98      New Specs  UV Protection, Mirrored Sports Sunglasses (Fre...  ₹135   \n",
       "99         PIRASO              UV Protection Aviator Sunglasses (54)  ₹199   \n",
       "\n",
       "   Discount_Offered  \n",
       "0           86% off  \n",
       "1           70% off  \n",
       "2           25% off  \n",
       "3           26% off  \n",
       "4           87% off  \n",
       "..              ...  \n",
       "95          57% off  \n",
       "96          21% off  \n",
       "97          84% off  \n",
       "98          89% off  \n",
       "99          87% off  \n",
       "\n",
       "[100 rows x 4 columns]"
      ]
     },
     "execution_count": 26,
     "metadata": {},
     "output_type": "execute_result"
    }
   ],
   "source": [
    "#\n",
    "Flipkart=pd.DataFrame({})\n",
    "Flipkart['Brand_Name']=Brand_Name[0:100]\n",
    "Flipkart['Product_Description']=Product_Description[0:100]\n",
    "Flipkart['Price']=Price[0:100]\n",
    "Flipkart['Discount_Offered']=Discount[0:100]\n",
    "Flipkart"
   ]
  },
  {
   "cell_type": "code",
   "execution_count": null,
   "id": "fd509cd7",
   "metadata": {},
   "outputs": [],
   "source": [
    "driver.close()"
   ]
  },
  {
   "cell_type": "markdown",
   "id": "8be64a33",
   "metadata": {},
   "source": [
    "Q5: Scrape 100 reviews data from flipkart.com for iphone11 phone. You have to go the link:\n",
    "https://www.flipkart.com/apple-iphone-11-black-64-gb-includes- earpods-power\u0002adapter/p/itm0f37c2240b217?pid=MOBFKCTSVZAXUHGR&lid=LSTMOBFKC\n",
    "TSVZAXUHGREPBFGI&marketplace"
   ]
  },
  {
   "cell_type": "code",
   "execution_count": 450,
   "id": "4b3b3dc1",
   "metadata": {},
   "outputs": [],
   "source": [
    "# Importing all the required libraries\n",
    "import selenium\n",
    "import pandas as pd\n",
    "from selenium import webdriver\n",
    "import warnings\n",
    "warnings.filterwarnings(\"ignore\")\n",
    "import time"
   ]
  },
  {
   "cell_type": "code",
   "execution_count": 451,
   "id": "cd28f38b",
   "metadata": {},
   "outputs": [],
   "source": [
    "driver=webdriver.Chrome(r\"C:\\web driver\\chromedriver.exe\")\n",
    "time.sleep(2)"
   ]
  },
  {
   "cell_type": "code",
   "execution_count": 453,
   "id": "598bf26c",
   "metadata": {},
   "outputs": [],
   "source": [
    "#Getting the webpage of mentioned url\n",
    "driver.get('https://www.flipkart.com/apple-iphone-11-black-64-gb-includes-%20earpods-power%02adapter/p/itm0f37c2240b217?pid=MOBFKCTSVZAXUHGR&lid=LSTMOBFKC%20TSVZAXUHGREPBFGI&marketplace.')"
   ]
  },
  {
   "cell_type": "code",
   "execution_count": 454,
   "id": "f31078d0",
   "metadata": {},
   "outputs": [
    {
     "data": {
      "text/plain": [
       "['The Best Phone for the Money\\n\\nThe iPhone 11 offers superb cameras, a more durable design and excellent battery life for an affordable price.\\n\\nCompelling ultra-wide camera\\nNew Night mode is excellent\\nLong battery life',\n",
       " 'Really satisfied with the Product I received... It’s totally genuine and the packaging was also really good so if ur planning to buy just go for it.',\n",
       " 'Great iPhone very snappy experience as apple kind. Upgraded from iPhone 7.\\nPros\\n-Camera top class\\n- Battery top performed\\n-Chipset no need to say as apple kind\\n-Security as you expect from apple\\n- Display super bright industry leading colour\\naccuracy and super responsive\\n-Build quality as expect from apple sturdy\\npremium durable beautiful stylish.\\n-Os most stable os in smartphone industry\\n\\nCons\\n-No 5G\\n-Display is not based on OLED technology\\n-Charger headphones and 1 apple stic...\\nREAD MORE',\n",
       " 'Amazing phone with great cameras and better battery which gives you the best performance. I just love the camera .',\n",
       " 'This is my first iOS phone. I am very happy with this product. Very much satisfied with this. I love this phone.',\n",
       " 'Previously I was using one plus 3t it was a great phone\\nAnd then I decided to upgrade I am stuck between Samsung s10 plus or iPhone 11\\nI have seen the specs and everything were good except the display it’s somewhere between 720-1080 and it’s not even an amoled it’s an LCD display\\nBut I decided to go with iPhone because I have never used an IOS device I have Been an android user from the past 9 years I ordered IPhone 11 (128gb) product red\\nMy experience after using 3 weeks\\n1. The delivery ...\\nREAD MORE',\n",
       " 'Amazing Powerful and Durable Gadget.\\n\\nI’m am very happy with the camera picture quality, Amazing face id unlocked in dark room, Strong battery with perfect screen size as you can carry easily in pocket. This is my third iPhone.\\n\\nI shifted from android Samsung Note series to iPhone because of the strong build quality and peace of mind for next 3-4 years.\\n\\nDon’t think to much just go for it and I suggest you to go for minimum 128gb variant or more 256gb.\\n\\nI’ve attached my puppy pics and no fi...\\nREAD MORE',\n",
       " 'What a camera .....just awesome ..you can feel this iPhone just awesome . Good for gaming also ...try pubg in hd it’s just wow',\n",
       " 'i11 is worthy to buy, too much happy with the product. Thank u flipkart I received the item on time..loved it..',\n",
       " 'iphone 11 is a very good phone to buy only if you can compromise for the display. The display on this is device is pretty good but you can get other options with better displays in this price segment.\\nIf you can survive with an HD+ LCD panel with thicker bezels and a notch up top then this is a very good phone for you.\\nCameras are awesome, battery backup excellent, great performance and a decent premium look. Good job Apple !']"
      ]
     },
     "execution_count": 454,
     "metadata": {},
     "output_type": "execute_result"
    }
   ],
   "source": [
    "ratings=[]\n",
    "rating=driver.find_elements_by_xpath(\"//div[@class='_3LWZlK _1BLPMq']\")\n",
    "for i in rating:\n",
    "    rating=i.text\n",
    "    ratings.append(rating)\n",
    "ratings[0:10]\n",
    "review_summary=[]\n",
    "summary=driver.find_elements_by_xpath(\"//p[@class='_2-N8zT']\")\n",
    "for i in summary:\n",
    "    summary=i.text\n",
    "    review_summary.append(summary)\n",
    "review_summary[0:10]\n",
    "full_review=[]\n",
    "review=driver.find_elements_by_xpath(\"//div[@class='t-ZTKy']\")\n",
    "for i in review:\n",
    "    review=i.text\n",
    "    full_review.append(review)\n",
    "full_review[0:10]"
   ]
  },
  {
   "cell_type": "code",
   "execution_count": 455,
   "id": "bb0c5a75",
   "metadata": {},
   "outputs": [
    {
     "name": "stdout",
     "output_type": "stream",
     "text": [
      "10 10 10\n"
     ]
    }
   ],
   "source": [
    "print(len(ratings),len(review_summary),len(full_review))"
   ]
  },
  {
   "cell_type": "code",
   "execution_count": 456,
   "id": "4d202b73",
   "metadata": {},
   "outputs": [],
   "source": [
    "next_button=driver.find_element_by_xpath(\"/html/body/div[1]/div/div[3]/div/div/div[2]/div[13]/div/div/nav/a[11]/span\")\n",
    "next_button.click()\n",
    "time.sleep(5)"
   ]
  },
  {
   "cell_type": "code",
   "execution_count": 457,
   "id": "118e4c76",
   "metadata": {},
   "outputs": [
    {
     "data": {
      "text/plain": [
       "['It’s a must buy who is looking for an upgrade from previous generation of iPhones. If you are using XR then still you can hold on for sometime and upgrade to 2020 model else this phone is a must buy . Camera quality is amazing and wide angle is something to count upon. Performance wise it’s amazing and feels premium while holding in hand. So a big YES for this device. Go for 128 GB variant as the 4K videos will occupy lots of space and the storage can get over very quickly. Try to buy it with...\\nREAD MORE',\n",
       " 'Value for money❤️❤️\\nIts awesome mobile phone in the world ...\\nDisplay was very good and bright ..\\nTrust me freinds you r never regret after Buying..\\nJust go for it....\\nI love this phone and i switch to iphone x to 11',\n",
       " 'Smooth like butter, camera like fantabulous, sound is crystal clear & its red color is damn attractive, i am just loving it. Must buy if you love photography.\\n\\nLucky to get it in sale, thank you Flipkart.',\n",
       " \"It's my first time to use iOS phone and I am loving my upgradation 😍😍 I love the color, I love the assebility of the phone....I need to learn more about its functionality, but as far as I have seen, it's quite easy and it has a lot of functions to work on, specially if you are a content writer or a blogger you get a lot of content creation platforms and they are really amazing.\\n\\nThis phone not only for good quality photography but a lot of other task too.😍💯\",\n",
       " \"Iphone is just awesome.. battery backup is very very nice.. continuously for 10 hours we can use it.camera is just awesome.. display is just fab.i love it alot..i had to wait 15 days for it as i pre ordered it..overalll it's worth the price..these all images are clicked by my iPhone..and i love it.\",\n",
       " 'Best budget Iphone till date ❤️ go for it guys without second thought. Let me explain you guys about Camera, Display, battery, and performance.\\n\\nCamera: at this price range there is no comparison of camera, you’ll love the picture quality as well as video quality. I am a Vlogger I wanted an iPhone with 4k video by front camera and I got this phone and I am more than happy 😃\\n\\nBattery: I use this phone roughly as I am active social media person and I have a youtube channel. so the battery ba...\\nREAD MORE',\n",
       " 'Excellent camera, good performance, no lag. The lcd display is also good.. but difference come when we watch movie in prime and Netflix, the colours are not vibrant.. as we see in amoled display.. and the charger in box is of 5 watts.. takes more than 3 hours to charge from 0 to 100.. so guys be prepare to buy 18 watts charger . Finally I am an android user, it was my first Iapple phone, I promise u guys the iOS is so smooth.. overall the phone is damn good.... close eyes to buy it.. thanks t...\\nREAD MORE',\n",
       " 'Totally in love with this ❤ the camera quality is amazing just love it 😘😘😘 itsss dammnnnnnn amazing... Must buy iPhone 11 this is my best experience ever ☀👌👌🧡🧡🧡🧡🧡 thanku apple ❤',\n",
       " 'Really worth of money. i just love it. It is the best phone ever.',\n",
       " 'It’s been almost a month since I have been using this phone. I upgraded from an iPhone 8. The main issue with my 8 was battery and this phone is just awesome when it comes to battery. It lasts a day and a half for me with my regular use , internet connected always with 4g\\nCan’t move forward without saying this. Battery of this phone is a life saver when I am traveling or at work when I don’t get the option to charge\\nCamera is superb. Front cam selfies and back cam photos are just awesome.\\n...\\nREAD MORE']"
      ]
     },
     "execution_count": 457,
     "metadata": {},
     "output_type": "execute_result"
    }
   ],
   "source": [
    "ratings1=[]\n",
    "rating1=driver.find_elements_by_xpath(\"//div[@class='_3LWZlK _1BLPMq']\")\n",
    "for i in rating1:\n",
    "    rating1=i.text\n",
    "    ratings1.append(rating1)\n",
    "ratings1[0:10]\n",
    "review_summary1=[]\n",
    "summary1=driver.find_elements_by_xpath(\"//p[@class='_2-N8zT']\")\n",
    "for i in summary1:\n",
    "    summary1=i.text\n",
    "    review_summary1.append(summary1)\n",
    "review_summary1[0:10]\n",
    "full_review1=[]\n",
    "review1=driver.find_elements_by_xpath(\"//div[@class='t-ZTKy']\")\n",
    "for i in review1:\n",
    "    review1=i.text\n",
    "    full_review1.append(review1)\n",
    "full_review1[0:10]"
   ]
  },
  {
   "cell_type": "code",
   "execution_count": 458,
   "id": "bf265f48",
   "metadata": {},
   "outputs": [
    {
     "name": "stdout",
     "output_type": "stream",
     "text": [
      "10 10 10\n"
     ]
    }
   ],
   "source": [
    "print(len(ratings1),len(review_summary1),len(full_review1))"
   ]
  },
  {
   "cell_type": "code",
   "execution_count": 459,
   "id": "23cc3d50",
   "metadata": {},
   "outputs": [],
   "source": [
    "next_button=driver.find_element_by_xpath(\"/html/body/div[1]/div/div[3]/div/div/div[2]/div[13]/div/div/nav/a[12]/span\")\n",
    "next_button.click()\n",
    "time.sleep(5)"
   ]
  },
  {
   "cell_type": "code",
   "execution_count": 460,
   "id": "e3278140",
   "metadata": {},
   "outputs": [
    {
     "data": {
      "text/plain": [
       "['This is my first ever I phone. Before this I was using my google nexus 5. But moving from android to iOS is a great experience. It’s worth at this price. I will highly recommend it if you want to move to iOS. The best part of this phone is it’s camera and it’s battery life. This two things have won my heart. I loved it. Happy to have it in my hand. Still exploring its features. And can’t forget to mention Flipkart service. Very prompt service and fast delivery.',\n",
       " 'It is just awesome mobile for this price from Apple,\\n\\nAfter 10 days review\\n\\nBattery enough for 1 day even 24*7 Internet will be on and mostly internet usage\\n\\nCamera is just awesome cool , android 64 MP is equal to this just 12 MP\\n\\nA13 Bionic chip will give more high performance without hanging\\n\\nAudio stereo speakers will give Dolby atoms sound with crystal clear\\n\\nVideo recording is like cinematic shots of every sec can be a 4K 60fps. Just awesome this phone\\niPhone 11 loved one',\n",
       " 'I have migrated from OP 7pro... and trust me, iPhone 11 is totally worth it.. following are the reasons:-\\n1)there is ABSOLUTELY NO ISSUE WITH THE DISPLAY... its crisp, sharp and I found it to be much much better than OP7 pro. Netflix, Prime video all run crisply... you won’t miss a thing. True Tone works flawlessly...the display brightness is perfect. OP have not calibrated their screens properly.\\n2) iPhone 11 series have really good cameras... others have spoken in depth about them.\\n3) bat...\\nREAD MORE',\n",
       " 'Superb Product !!!\\nA big and worthy upgrade from mi 3S to iphone 11 .\\nTotally loved it !',\n",
       " 'Battery backup is extraordinary, camera is decent & performance offered by A13 bionic is awsome. The display is good in practical usage like the visibility of display is very good in direct sun light compare to pro models. Iam extremely satisfied for the money I spent.',\n",
       " 'It’s an amazing product from apple and the camera is simply superb. Phone is faster.Night shot is simply superb and detailing and colour differentiation from camera is an added advantage\\n\\nThis review I have written from iPhone 11 only and I am glad to say outside.\\n\\nCons wise if we see HD+ display only, no battery percentage indicator as in older iPhone 8.\\nNo assistive touch control button in it\\nNo oleophobic coating on back panel glass and finger prints are visible but since I bought mint gr...\\nREAD MORE',\n",
       " \"Again back to apple iphone after a gap of 2-3 years. It's pleasure to use iOS and the quality product by Apple. Iphone 11 still works like a beast in 2021 also. It really capable of doing day to day usage as well as hard core gaming. Battery is awesome. I'm really too much satisfied with it. Apart fto the very gorgious IPS LCD (AMOLED will be better) everything is mind boggling. Iphone💕.\",\n",
       " 'awesome phone to have. it has got many smart features apart from mind blowing looks, camera, display, battery and sound. have fallen in love with this phone. must buy phone if you have got enough money. thanks to flipkart and apple of course..',\n",
       " 'Best Apple iPhone that i have bought at a very reasonable price, camera quality is next level just awesome n of superior quality android phones not even close(RIP) to that and also battery is really good but packaging by Flipkart of iPhone was very poor of such a expensive product, firstly im bit worried about the quality of product if i purchased it through online how was the product but i think now this was mine best decision to bought it through Flipkart online because i got genuine Apple...\\nREAD MORE',\n",
       " 'After 1 month use I found camera quality best compared to my previous Samsung note 10+.Display not good as note 10 also charging too slow.Apple should add fast charger like 11 plus and pro.Best phone for daily use']"
      ]
     },
     "execution_count": 460,
     "metadata": {},
     "output_type": "execute_result"
    }
   ],
   "source": [
    "ratings2=[]\n",
    "rating2=driver.find_elements_by_xpath(\"//div[@class='_3LWZlK _1BLPMq']\")\n",
    "for i in rating2:\n",
    "    rating2=i.text\n",
    "    ratings2.append(rating2)\n",
    "ratings2[0:10]\n",
    "review_summary2=[]\n",
    "summary2=driver.find_elements_by_xpath(\"//p[@class='_2-N8zT']\")\n",
    "for i in summary2:\n",
    "    summary2=i.text\n",
    "    review_summary2.append(summary2)\n",
    "review_summary2[0:10]\n",
    "full_review2=[]\n",
    "review2=driver.find_elements_by_xpath(\"//div[@class='t-ZTKy']\")\n",
    "for i in review2:\n",
    "    review2=i.text\n",
    "    full_review2.append(review2)\n",
    "full_review2[0:10]"
   ]
  },
  {
   "cell_type": "code",
   "execution_count": 461,
   "id": "93681acd",
   "metadata": {},
   "outputs": [
    {
     "name": "stdout",
     "output_type": "stream",
     "text": [
      "10 10 10\n"
     ]
    }
   ],
   "source": [
    "print(len(ratings2),len(review_summary2),len(full_review2))"
   ]
  },
  {
   "cell_type": "code",
   "execution_count": 462,
   "id": "eabe6f21",
   "metadata": {},
   "outputs": [],
   "source": [
    "next_button=driver.find_element_by_xpath(\"/html/body/div[1]/div/div[3]/div/div/div[2]/div[13]/div/div/nav/a[12]/span\")\n",
    "next_button.click()\n",
    "time.sleep(5)"
   ]
  },
  {
   "cell_type": "code",
   "execution_count": 463,
   "id": "3e49b236",
   "metadata": {},
   "outputs": [
    {
     "data": {
      "text/plain": [
       "[\"It's very high performances devise i am like the service of flipkart delevary very fast and packing very nice perfect phone\",\n",
       " 'I just directly switch from iphone 6s to iphone 11 .The best premium smartphone I recommend to everyone. Excellent quality and colors the iphone have in 11 series.\\nCamera quality is just awesome and the major feel when we hold in our hands. The sound quality and volume is also higher then the previous models.\\nI will recommend to buy iphone 11 instead of pro models , there is nothing much difference as this model contains everything which fulfill our needs.\\n\\nOnly one thing that I dislike abo...\\nREAD MORE',\n",
       " 'Upgraded from iphone 6 to 11 best phone for iphone users battery is much better than other iphones camera is awesome love to use it.camera is so clear in night.',\n",
       " 'The built quality is not very premium.\\nThe battery back is great .\\nThe LCD panel is not so sharp but the brightness level is very High .\\nCamera is super duper awesome.\\nThe red colour which people think is bright is actually very soothing and excellent colour to choose from .\\nThe A13 Bionic chip is really a flagship processor and can beat any phone which even has 12 gb ram .\\nCamera module is very great and looks very stylish.',\n",
       " 'Well you all know the specifications . One of a kind. Best iPhone till date. Many enhancements to the camera app with many options. Love the glass body with matte finish in the lens area on the back. Lovely colours to choose from. Best battery in an iPhone till date, enough to last more than a day in normal usage. I tested my iPhone 11 battery and lasted for than 24 hours after full charge still with 30% battery charge left. Watched movies for some time. Normal usage on calls, browsing, musi...\\nREAD MORE',\n",
       " 'Amazing camera and feel super machine I am not describe my feeling but this is amazing Phone I am so lucky I have this',\n",
       " 'This will help you more. See if you are planning to buy iPhone 11. I will say. Yes. But there are some plans I just want to disclose before you buy. 1) If you are an existing iPhone X/XS/XS Max/ XR user, better you guys do not think it to buy. You guys have more or less better gadget. 2) If you are an android user and planning to buy premium phone. I will suggest them to please buy iPhone instead of buying an Android. I bet you will never go back to android after using IOS. Now I want to shar...\\nREAD MORE',\n",
       " 'Really good actually this is my first apple product am using its really awesome performance wise excellent. Am really happy with this iphone11',\n",
       " 'In love with this iphone great performance,camera ,battery everything. Go for it have a uncompareble battery backup, no doubts in iPhone camera here You can see the picture which is shot on my iPhone In love with this iphone great performance,camera ,battery everything. Go for it have a uncompareble battery backup, no doubts in iPhone camera here You can see the picture which is shot on my iPhone In love with this iphone great performance,camera ,battery everything. Go for it have a uncompare...\\nREAD MORE',\n",
       " 'We are on apple ecosystem for almost eight years now with couple of iPads and iPhones, including Xr.\\n\\nBought iPhone 11 as a gift to my daughter who loves it. We chose for a purple coloured one. Believe me it is gorgeous and towards the lighter shade. Dazzling and brilliant!\\n\\nThe phone is great and does excellent RAM management like any other Apple device.\\n\\nThe screen, though a LCD and lesser ppi as compared to other flagship phones of competitor brands, is a delight to watch with perfect re...\\nREAD MORE']"
      ]
     },
     "execution_count": 463,
     "metadata": {},
     "output_type": "execute_result"
    }
   ],
   "source": [
    "ratings3=[]\n",
    "rating3=driver.find_elements_by_xpath(\"//div[@class='_3LWZlK _1BLPMq']\")\n",
    "for i in rating3:\n",
    "    rating3=i.text\n",
    "    ratings3.append(rating3)\n",
    "ratings3[0:10]\n",
    "review_summary3=[]\n",
    "summary3=driver.find_elements_by_xpath(\"//p[@class='_2-N8zT']\")\n",
    "for i in summary3:\n",
    "    summary3=i.text\n",
    "    review_summary3.append(summary3)\n",
    "review_summary3[0:10]\n",
    "full_review3=[]\n",
    "review3=driver.find_elements_by_xpath(\"//div[@class='t-ZTKy']\")\n",
    "for i in review3:\n",
    "    review3=i.text\n",
    "    full_review3.append(review3)\n",
    "full_review3[0:10]"
   ]
  },
  {
   "cell_type": "code",
   "execution_count": 464,
   "id": "0bc9cf1a",
   "metadata": {},
   "outputs": [
    {
     "name": "stdout",
     "output_type": "stream",
     "text": [
      "10 10 10\n"
     ]
    }
   ],
   "source": [
    "print(len(ratings3),len(review_summary3),len(full_review3))"
   ]
  },
  {
   "cell_type": "code",
   "execution_count": 465,
   "id": "e47e78af",
   "metadata": {},
   "outputs": [],
   "source": [
    "next_button=driver.find_element_by_xpath(\"/html/body/div[1]/div/div[3]/div/div/div[2]/div[13]/div/div/nav/a[12]/span\")\n",
    "next_button.click()\n",
    "time.sleep(5)"
   ]
  },
  {
   "cell_type": "code",
   "execution_count": 466,
   "id": "1e34c814",
   "metadata": {},
   "outputs": [
    {
     "data": {
      "text/plain": [
       "[\"It's very high performances devise i am like the service of flipkart delevary very fast and packing very nice perfect phone\",\n",
       " 'I just directly switch from iphone 6s to iphone 11 .The best premium smartphone I recommend to everyone. Excellent quality and colors the iphone have in 11 series.\\nCamera quality is just awesome and the major feel when we hold in our hands. The sound quality and volume is also higher then the previous models.\\nI will recommend to buy iphone 11 instead of pro models , there is nothing much difference as this model contains everything which fulfill our needs.\\n\\nOnly one thing that I dislike abo...\\nREAD MORE',\n",
       " 'Upgraded from iphone 6 to 11 best phone for iphone users battery is much better than other iphones camera is awesome love to use it.camera is so clear in night.',\n",
       " 'The built quality is not very premium.\\nThe battery back is great .\\nThe LCD panel is not so sharp but the brightness level is very High .\\nCamera is super duper awesome.\\nThe red colour which people think is bright is actually very soothing and excellent colour to choose from .\\nThe A13 Bionic chip is really a flagship processor and can beat any phone which even has 12 gb ram .\\nCamera module is very great and looks very stylish.',\n",
       " 'Well you all know the specifications . One of a kind. Best iPhone till date. Many enhancements to the camera app with many options. Love the glass body with matte finish in the lens area on the back. Lovely colours to choose from. Best battery in an iPhone till date, enough to last more than a day in normal usage. I tested my iPhone 11 battery and lasted for than 24 hours after full charge still with 30% battery charge left. Watched movies for some time. Normal usage on calls, browsing, musi...\\nREAD MORE',\n",
       " 'Amazing camera and feel super machine I am not describe my feeling but this is amazing Phone I am so lucky I have this',\n",
       " 'This will help you more. See if you are planning to buy iPhone 11. I will say. Yes. But there are some plans I just want to disclose before you buy. 1) If you are an existing iPhone X/XS/XS Max/ XR user, better you guys do not think it to buy. You guys have more or less better gadget. 2) If you are an android user and planning to buy premium phone. I will suggest them to please buy iPhone instead of buying an Android. I bet you will never go back to android after using IOS. Now I want to shar...\\nREAD MORE',\n",
       " 'Really good actually this is my first apple product am using its really awesome performance wise excellent. Am really happy with this iphone11',\n",
       " 'In love with this iphone great performance,camera ,battery everything. Go for it have a uncompareble battery backup, no doubts in iPhone camera here You can see the picture which is shot on my iPhone In love with this iphone great performance,camera ,battery everything. Go for it have a uncompareble battery backup, no doubts in iPhone camera here You can see the picture which is shot on my iPhone In love with this iphone great performance,camera ,battery everything. Go for it have a uncompare...\\nREAD MORE',\n",
       " 'We are on apple ecosystem for almost eight years now with couple of iPads and iPhones, including Xr.\\n\\nBought iPhone 11 as a gift to my daughter who loves it. We chose for a purple coloured one. Believe me it is gorgeous and towards the lighter shade. Dazzling and brilliant!\\n\\nThe phone is great and does excellent RAM management like any other Apple device.\\n\\nThe screen, though a LCD and lesser ppi as compared to other flagship phones of competitor brands, is a delight to watch with perfect re...\\nREAD MORE']"
      ]
     },
     "execution_count": 466,
     "metadata": {},
     "output_type": "execute_result"
    }
   ],
   "source": [
    "ratings4=[]\n",
    "rating4=driver.find_elements_by_xpath(\"//div[@class='_3LWZlK _1BLPMq']\")\n",
    "for i in rating4:\n",
    "    rating4=i.text\n",
    "    ratings4.append(rating4)\n",
    "ratings4[0:10]\n",
    "review_summary4=[]\n",
    "summary4=driver.find_elements_by_xpath(\"//p[@class='_2-N8zT']\")\n",
    "for i in summary4:\n",
    "    summary4=i.text\n",
    "    review_summary4.append(summary4)\n",
    "review_summary4[0:10]\n",
    "full_review4=[]\n",
    "review4=driver.find_elements_by_xpath(\"//div[@class='t-ZTKy']\")\n",
    "for i in review4:\n",
    "    review4=i.text\n",
    "    full_review4.append(review4)\n",
    "full_review3[0:10]"
   ]
  },
  {
   "cell_type": "code",
   "execution_count": 467,
   "id": "c495ba60",
   "metadata": {},
   "outputs": [
    {
     "name": "stdout",
     "output_type": "stream",
     "text": [
      "10 10 10\n"
     ]
    }
   ],
   "source": [
    "print(len(ratings4),len(review_summary4),len(full_review4))"
   ]
  },
  {
   "cell_type": "code",
   "execution_count": 468,
   "id": "87e6660d",
   "metadata": {},
   "outputs": [],
   "source": [
    "next_button=driver.find_element_by_xpath(\"/html/body/div[1]/div/div[3]/div/div/div[2]/div[13]/div/div/nav/a[12]/span\")\n",
    "next_button.click()\n",
    "time.sleep(5)"
   ]
  },
  {
   "cell_type": "code",
   "execution_count": 469,
   "id": "162fabc3",
   "metadata": {},
   "outputs": [
    {
     "data": {
      "text/plain": [
       "['Best in class. Battery backup is good especially when you play games like Pubg COD. But it is sort of heavy when you hold in hands. Portrait mode is best to click pictures. Stage light effect is awesome. Try to click photos outside in nature because photos inside home or room will not give you the quality in any phone even in DSLR.',\n",
       " 'Very excited to have this phone. This phone has the real power unlike the android phones having SD 855 . The battery life is very good and the camera quality is excellent as comapred to redmi and other phones except google pixel. I M enjoying every single bit of it. Would recommed only if you have the budget.',\n",
       " 'Excellent camera 📸 And Display touching very Nice And Smooth and very improvement against\\nI phone 11 and new processor is very fast',\n",
       " 'Its Very awesome product working and good camera quality and all about best product and also flipkart is very great deal and offer nice price',\n",
       " 'I am using this phone for 5 days and its one of the best camera out there ❤️ the screen is not oled and i am coming from iphone xs so its little bit not up to the mark i would say\\nBut overall value for money💕😍the battery back up is far better than my iphone xs and its worth in my apple ecosystem💫❤️if u are an apple User and have the eco system then go for it❤️though i will be getting the new iphone but its pretty good💫',\n",
       " 'Best and amazing product.....phone looks so premium.... battary is also good as expected .... Wide angle camera is so addictive ...if you are a IOS lover....then this phone will be the best choice for you all!!💯🔥',\n",
       " 'Excellent camera and display touching very nice and smooth very improvement against iPhone XR and new processor is very fast',\n",
       " \"I got this beast today. And I must say the picture quality of its camera is awesome. Both the cameras works fine.\\n\\nAs for as the processing is concerned, it runs without any lag. You can play and do whatever you want without a glitch.\\n\\nThe battery runs for a day with medium and high workload.\\n\\nThe display is good and the speakers are working fine.\\n\\nThe earphones doesn't have any base and you can use it for calling mostly.\\n\\nThe charging time is approximately for 90 minutes for full charging...\\nREAD MORE\",\n",
       " 'Awesome purchase. Amazing phone with good battery backup. It’s a top notch device. White colour looks amazing. Phone has a few extra feature than iPhone XR. Overall, this is value for money',\n",
       " 'Always love the apple products, upgraded from old iPhone 6S plus to this after having my first baby. I just love to click baby’s photos with it. Overall I just love this phone. Battery back up is okay, sound quality is good. Haven’t tested yet waterproof yet. Only one thing I hate is apple could have given charger & headphones in box.']"
      ]
     },
     "execution_count": 469,
     "metadata": {},
     "output_type": "execute_result"
    }
   ],
   "source": [
    "ratings5=[]\n",
    "rating5=driver.find_elements_by_xpath(\"//div[@class='_3LWZlK _1BLPMq']\")\n",
    "for i in rating5:\n",
    "    rating5=i.text\n",
    "    ratings5.append(rating5)\n",
    "ratings5[0:10]\n",
    "review_summary5=[]\n",
    "summary5=driver.find_elements_by_xpath(\"//p[@class='_2-N8zT']\")\n",
    "for i in summary5:\n",
    "    summary5=i.text\n",
    "    review_summary5.append(summary5)\n",
    "review_summary5[0:10]\n",
    "full_review5=[]\n",
    "review5=driver.find_elements_by_xpath(\"//div[@class='t-ZTKy']\")\n",
    "for i in review5:\n",
    "    review5=i.text\n",
    "    full_review5.append(review5)\n",
    "full_review5[0:10]"
   ]
  },
  {
   "cell_type": "code",
   "execution_count": 470,
   "id": "79b93327",
   "metadata": {},
   "outputs": [
    {
     "name": "stdout",
     "output_type": "stream",
     "text": [
      "10 10 10\n"
     ]
    }
   ],
   "source": [
    "print(len(ratings5),len(review_summary5),len(full_review5))"
   ]
  },
  {
   "cell_type": "code",
   "execution_count": 471,
   "id": "f6365b71",
   "metadata": {},
   "outputs": [],
   "source": [
    "next_button=driver.find_element_by_xpath(\"/html/body/div[1]/div/div[3]/div/div/div[2]/div[13]/div/div/nav/a[12]/span\")\n",
    "next_button.click()\n",
    "time.sleep(5)"
   ]
  },
  {
   "cell_type": "code",
   "execution_count": 473,
   "id": "50a94391",
   "metadata": {},
   "outputs": [
    {
     "data": {
      "text/plain": [
       "['Best in class. Battery backup is good especially when you play games like Pubg COD. But it is sort of heavy when you hold in hands. Portrait mode is best to click pictures. Stage light effect is awesome. Try to click photos outside in nature because photos inside home or room will not give you the quality in any phone even in DSLR.',\n",
       " 'Very excited to have this phone. This phone has the real power unlike the android phones having SD 855 . The battery life is very good and the camera quality is excellent as comapred to redmi and other phones except google pixel. I M enjoying every single bit of it. Would recommed only if you have the budget.',\n",
       " 'Excellent camera 📸 And Display touching very Nice And Smooth and very improvement against\\nI phone 11 and new processor is very fast',\n",
       " 'Its Very awesome product working and good camera quality and all about best product and also flipkart is very great deal and offer nice price',\n",
       " 'I am using this phone for 5 days and its one of the best camera out there ❤️ the screen is not oled and i am coming from iphone xs so its little bit not up to the mark i would say\\nBut overall value for money💕😍the battery back up is far better than my iphone xs and its worth in my apple ecosystem💫❤️if u are an apple User and have the eco system then go for it❤️though i will be getting the new iphone but its pretty good💫',\n",
       " 'Best and amazing product.....phone looks so premium.... battary is also good as expected .... Wide angle camera is so addictive ...if you are a IOS lover....then this phone will be the best choice for you all!!💯🔥',\n",
       " 'Excellent camera and display touching very nice and smooth very improvement against iPhone XR and new processor is very fast',\n",
       " \"I got this beast today. And I must say the picture quality of its camera is awesome. Both the cameras works fine.\\n\\nAs for as the processing is concerned, it runs without any lag. You can play and do whatever you want without a glitch.\\n\\nThe battery runs for a day with medium and high workload.\\n\\nThe display is good and the speakers are working fine.\\n\\nThe earphones doesn't have any base and you can use it for calling mostly.\\n\\nThe charging time is approximately for 90 minutes for full charging...\\nREAD MORE\",\n",
       " 'Awesome purchase. Amazing phone with good battery backup. It’s a top notch device. White colour looks amazing. Phone has a few extra feature than iPhone XR. Overall, this is value for money',\n",
       " 'Always love the apple products, upgraded from old iPhone 6S plus to this after having my first baby. I just love to click baby’s photos with it. Overall I just love this phone. Battery back up is okay, sound quality is good. Haven’t tested yet waterproof yet. Only one thing I hate is apple could have given charger & headphones in box.']"
      ]
     },
     "execution_count": 473,
     "metadata": {},
     "output_type": "execute_result"
    }
   ],
   "source": [
    "ratings6=[]\n",
    "rating6=driver.find_elements_by_xpath(\"//div[@class='_3LWZlK _1BLPMq']\")\n",
    "for i in rating6:\n",
    "    rating6=i.text\n",
    "    ratings6.append(rating6)\n",
    "ratings6[0:10]\n",
    "review_summary6=[]\n",
    "summary6=driver.find_elements_by_xpath(\"//p[@class='_2-N8zT']\")\n",
    "for i in summary6:\n",
    "    summary6=i.text\n",
    "    review_summary6.append(summary6)\n",
    "review_summary6[0:10]\n",
    "full_review6=[]\n",
    "review6=driver.find_elements_by_xpath(\"//div[@class='t-ZTKy']\")\n",
    "for i in review6:\n",
    "    review6=i.text\n",
    "    full_review6.append(review6)\n",
    "full_review5[0:10]"
   ]
  },
  {
   "cell_type": "code",
   "execution_count": 474,
   "id": "336b9d36",
   "metadata": {},
   "outputs": [
    {
     "name": "stdout",
     "output_type": "stream",
     "text": [
      "10 10 10\n"
     ]
    }
   ],
   "source": [
    "print(len(ratings6),len(review_summary6),len(full_review6))"
   ]
  },
  {
   "cell_type": "code",
   "execution_count": 475,
   "id": "8cf16ac9",
   "metadata": {},
   "outputs": [],
   "source": [
    "next_button=driver.find_element_by_xpath(\"/html/body/div[1]/div/div[3]/div/div/div[2]/div[13]/div/div/nav/a[12]/span\")\n",
    "next_button.click()\n",
    "time.sleep(5)"
   ]
  },
  {
   "cell_type": "code",
   "execution_count": 477,
   "id": "68a53870",
   "metadata": {},
   "outputs": [
    {
     "data": {
      "text/plain": [
       "['I dreamt about this day from a long time.... Getting an iPhone with my own money.... Super happy and worth spending every penny',\n",
       " 'Great iphone.\\nI am writing this review after 2 months of usage.\\nCamera is excellent, especially the nightmode\\nDisplay perfect\\nBattery backup awesome\\nSound quality very good\\nOverall Apple gives you a perfect iphone in this range.\\nReally in love with iPhone 11',\n",
       " 'Did an upgrade from 6s plus to iphone 11.\\nAo far the experience is well and good. Felt smoother than 6s plus. The camera quality is superb. Battery backup is descent. Not a heavy user, and gets power more than a day. Go for it if you need an alrounder iphone in a competitve price.',\n",
       " 'Gifted my man on his 30th birthday 🎂 He loves it.. Him happy so i am more than happy 😍😘❤️🥰',\n",
       " 'Here is the thing\\n\\nThe only reason why you should buy this phone is for the camera, iOS, and if you have headaches looking at AMOLED display.\\n\\nI’m not an avid gamer but watch a lot of movies on smartphone. However, my migraine attacks increased considerably after using AMOLED Smartphone. That’s why I made a calculated decision to buy iPhone 11. It has the best LCD display and the blacks, though not as natural as an AMOLED, is better than some of the other smartphones.\\n\\nAdding to this the ste...\\nREAD MORE',\n",
       " \"It was amazing experience for me. Honestly i am using iPhone first time so I don't have that much past experience about that. But after using 7 days this mobile i want to give some honest feedback.\\n1- Display 9 out of 10\\n2- Camera 9.5 out of 10\\n3- Battery 7 out of 10\\n4- Performance 9.5 out of 10\\n5- Features & Functions 10 out of 10\\n6- Outer looks and colour 10 out of 10\\nRest i think i will understand after using this for few months.\\nI will highly recommend you guys if you have budget then you...\\nREAD MORE\",\n",
       " 'awesome Phone Smooth Touch Too good Sexyy looks one word Awesome',\n",
       " 'A wort full value for money decision it’s . Simply go for it in 2021 its still a good decision . Awesome camera , Super smothered performance, Heck of build quality. And Most important it protects your privacy.',\n",
       " 'Gift this to your loved ones fabulous product and amazing super fast delivery by flipkart',\n",
       " 'I bought iPhone 11 On March 2021, And I am Writing this review after using the phone for 4 Months. I would Say Everything is fine, Top Performance, Nice Camera as Anyone would Expect from any series of iPhone but when the Question comes to Battery it is complicated. The Battery is fully optimised and it comes 3110 mAh capacity but the problem is with the charger. Honestly Apple Removed charger from in Box items in the name of Environment and they are also forcing us to buy any 20W PD 3rd part...\\nREAD MORE']"
      ]
     },
     "execution_count": 477,
     "metadata": {},
     "output_type": "execute_result"
    }
   ],
   "source": [
    "ratings7=[]\n",
    "rating7=driver.find_elements_by_xpath(\"//div[@class='_3LWZlK _1BLPMq']\")\n",
    "for i in rating7:\n",
    "    rating7=i.text\n",
    "    ratings7.append(rating7)\n",
    "ratings7[0:10]\n",
    "review_summary7=[]\n",
    "summary7=driver.find_elements_by_xpath(\"//p[@class='_2-N8zT']\")\n",
    "for i in summary7:\n",
    "    summary7=i.text\n",
    "    review_summary7.append(summary7)\n",
    "review_summary7[0:10]\n",
    "full_review7=[]\n",
    "review7=driver.find_elements_by_xpath(\"//div[@class='t-ZTKy']\")\n",
    "for i in review7:\n",
    "    review7=i.text\n",
    "    full_review7.append(review7)\n",
    "full_review7[0:10]"
   ]
  },
  {
   "cell_type": "code",
   "execution_count": 478,
   "id": "1e26c443",
   "metadata": {},
   "outputs": [
    {
     "name": "stdout",
     "output_type": "stream",
     "text": [
      "10 10 10\n"
     ]
    }
   ],
   "source": [
    "print(len(ratings7),len(review_summary7),len(full_review7))"
   ]
  },
  {
   "cell_type": "code",
   "execution_count": 479,
   "id": "152b1ae5",
   "metadata": {},
   "outputs": [],
   "source": [
    "next_button=driver.find_element_by_xpath(\"/html/body/div[1]/div/div[3]/div/div/div[2]/div[13]/div/div/nav/a[12]/span\")\n",
    "next_button.click()\n",
    "time.sleep(5)"
   ]
  },
  {
   "cell_type": "code",
   "execution_count": 480,
   "id": "d520e189",
   "metadata": {},
   "outputs": [
    {
     "data": {
      "text/plain": [
       "[\"Just go for it.\\nThis phone is really amazing. I ordered it for my wife and we click photos on this thing which are better than dslr. I own OnePlus 6t but it's camera sucks. iPhone is really amazing when it comes to camera. It's worth spending 50k on this. Cons- only display is lcd. While using u don't feel it but if u compare with other phone then u can see difference quite easily.\\nChanging from Android to iphone is bit difficult coz most of things u don't know but I liked it. Some of the a...\\nREAD MORE\",\n",
       " 'A perfect phone and a good battery super camera and the sound is dynamic overall the phone is perfect for upgrading from lower iPhone model to iPhone 11',\n",
       " 'This is my first ever iPhone.\\nAnd I truly don’t regret switching to IOS from my Android.\\n\\nIt is easily an alternative to a DSLR camera.\\nIf you’re obsessed with photos and videos, just don’t think twice or don’t compare to other androids(Samsung S10 lite or OnePlus 8/8T), as it’s far better from them in every field.\\nComparing will only make you confused.\\n\\nI am getting an average Screen on Time of around 10 hours with 30 percent left. I haven’t let my device discharged below 30 % as it aff...\\nREAD MORE',\n",
       " 'Undoubtedly Iphone 11 is the most successful model till now and its performance is extraordinary and the security features are very impressive, display is more vibrant sound quality Camera Quality 5*****, but Iphone should add accessories too and act like scrooge.',\n",
       " 'I purchased the iPhone 11 a month back. I must say Apple has impressed me yet again . I have been an Apple user for past 5 years . The phone is power packed with amazing features . What impressed me the most was the battery backup the phone offers . Battery can easily run upto 1.5 days in single charge with moderate to\\nHeavy usage . If you’re looking for a value for money device , I don’t see any other phone in the price range which can match the iPhone 11 .\\nOne thing I didn’t like was that ...\\nREAD MORE',\n",
       " 'Don’t expect much from front camera… especially who loves beauty mode and filters.. back cameras are good…video department is always plus point in iPhones… battery capacity is really surprising lasts for one day at least… performance always good and smooth… speaker’s quality is good…built quality best and haptic feedback is enjoyable…\\nNote : images are good after you edit',\n",
       " 'Nice value for money good and best price I phone mind blowing camera processor very fast other android mobile I am happy India top selling phone 2020',\n",
       " 'Can’t beat the software and hardware integration of apple.\\nPerforms like a beast. Great quality camera\\n6-7 hours screen on time which is good. Nothing much to complaint about the screen. Good connectivity speeds.\\nGreat buy and Flipkart’s delivery top notch as usual',\n",
       " 'I use a Note10+ and have been using both iOS and Android devices.\\n\\nCamera has really good features and portraits are super good, better than Samsung flagship. Overall camera setup can still be enhanced and hopeful for better upgrades on software in next release\\n\\nOperating system is quite a breeze and user experience of daily usage is very high as compared to Android. I moved to iOS very swiftly in 2 days for all my office work from Note10+\\n\\nBattery holds up quite well with 4 hrs of call and ...\\nREAD MORE',\n",
       " 'The phone is completely good\\nAs far as camera Apple is king of it\\nAnd its a beast in performance\\nAnd the battery is pretty good too']"
      ]
     },
     "execution_count": 480,
     "metadata": {},
     "output_type": "execute_result"
    }
   ],
   "source": [
    "ratings8=[]\n",
    "rating8=driver.find_elements_by_xpath(\"//div[@class='_3LWZlK _1BLPMq']\")\n",
    "for i in rating8:\n",
    "    rating8=i.text\n",
    "    ratings8.append(rating8)\n",
    "ratings8[0:10]\n",
    "review_summary8=[]\n",
    "summary8=driver.find_elements_by_xpath(\"//p[@class='_2-N8zT']\")\n",
    "for i in summary8:\n",
    "    summary8=i.text\n",
    "    review_summary8.append(summary8)\n",
    "review_summary8[0:10]\n",
    "full_review8=[]\n",
    "review8=driver.find_elements_by_xpath(\"//div[@class='t-ZTKy']\")\n",
    "for i in review8:\n",
    "    review8=i.text\n",
    "    full_review8.append(review8)\n",
    "full_review8[0:10]"
   ]
  },
  {
   "cell_type": "code",
   "execution_count": 481,
   "id": "2e86a5c8",
   "metadata": {},
   "outputs": [
    {
     "name": "stdout",
     "output_type": "stream",
     "text": [
      "10 10 10\n"
     ]
    }
   ],
   "source": [
    "print(len(ratings8),len(review_summary8),len(full_review8))"
   ]
  },
  {
   "cell_type": "code",
   "execution_count": 483,
   "id": "737cf7c1",
   "metadata": {},
   "outputs": [],
   "source": [
    "next_button=driver.find_element_by_xpath(\"/html/body/div[1]/div/div[3]/div/div/div[2]/div[13]/div/div/nav/a[12]/span\")\n",
    "next_button.click()\n",
    "time.sleep(5)"
   ]
  },
  {
   "cell_type": "code",
   "execution_count": 484,
   "id": "0cfc8d09",
   "metadata": {},
   "outputs": [
    {
     "data": {
      "text/plain": [
       "['Absolutely powerful gadget. Loved it’s look! Soo glassy and classy. I would definitely recommend this model of Apple. Only disappointed with the 5W charger, one should purchase an 18W adapter for fast charging. Though battery backup is great. Bought it in September 2020, reviewing after so long so I’m gonna put the genuine review here.✅',\n",
       " 'iPhone is delivered on time. Display is great u won’t feel that it’s a hd panel. Quality is excellent. Sounds is great it has stereo setup. Camera is good. iOS 14.2 comes in the box. U roughly get 113 gb free if u buy 128 gb. This is my second iPhone and i love it. Value for money.',\n",
       " \"It is better to buy iPhone 11 over iPhone 12 if you prioritize the camera,Its because the difference isn’t significantly huge except lowlight performance and Go for 128 GB variant rather than 64 GB because the system data alone contains 20 GB of data .\\nEven though it's 720p LCD display but it's better than todays Android's 1080p display. My phone was a 64GB mint green model and this one is really pretty especially in the real life. I can still get almost everything out of what i paid for at a...\\nREAD MORE\",\n",
       " 'Really very nice... my dad gifted me really I am soo happy with this phone love it 😇',\n",
       " 'I got this phone for good price hence 5 star for it , and over quality is good because the price to buy iphone was worth at 41000',\n",
       " 'Good product nice experience with Flipkart but I am unhappy with the packaging part because such a valuable product comes under normal cover without any additional wrapping and that too for Plus customers. Expecting good Packaging in future from Sellers.',\n",
       " \"Camera is excellent just lack of telephoto mode frankly dose not needed either night mode is just 🙏🙏 12 12 12 mp (2back 1 front) camera lover just don't miss the deal\\nDisplay lcd but feel like super amoled\\nAt46999 with no cost EMI just a best deal\",\n",
       " 'Seller - SuperComNet ( my trust in you has grown deeper. Thanks for the genuine product )\\nThe package came packed perfectly. The box was sealed which gave me a big relief.\\n\\nApple needs no introduction since its the dominant market player. I just love the way how IPhone 11 stands out so boldly. The moment I took it out from the box, I could feel the premium intensity. The body is remarkable and crafted for giving you a elite vibe.\\n\\nCamera is to die for. There is no other phone that can beat...\\nREAD MORE',\n",
       " \"i was confused between 11 and 11 pro. i was going towards 11 pro, but the screen size was not enough for me.\\nAnd i saw 11 in the showroom. i didn't find much difference in screen quality.And cameras seems to be ok with me. And i saw offer's in flipkart and made the purchase.\\nthe device is fabulous. The hardware and software quality is excellent. The new iOS is something you need to experience yourself. The drawback i found was absence of fast charger, but the pricing can compensate that. Am...\\nREAD MORE\",\n",
       " \"It's a great phone. From camera to display everything is best for the price.\\nBest camera , best performance. I think everyone should buy it . This phone has best battery life so far in iphone series which I had used earlier. Happy to have it. Thanks Flipkart\"]"
      ]
     },
     "execution_count": 484,
     "metadata": {},
     "output_type": "execute_result"
    }
   ],
   "source": [
    "ratings9=[]\n",
    "rating9=driver.find_elements_by_xpath(\"//div[@class='_3LWZlK _1BLPMq']\")\n",
    "for i in rating9:\n",
    "    rating9=i.text\n",
    "    ratings9.append(rating9)\n",
    "ratings9[0:10]\n",
    "review_summary9=[]\n",
    "summary9=driver.find_elements_by_xpath(\"//p[@class='_2-N8zT']\")\n",
    "for i in summary9:\n",
    "    summary9=i.text\n",
    "    review_summary9.append(summary9)\n",
    "review_summary9[0:10]\n",
    "full_review9=[]\n",
    "review9=driver.find_elements_by_xpath(\"//div[@class='t-ZTKy']\")\n",
    "for i in review9:\n",
    "    review9=i.text\n",
    "    full_review9.append(review9)\n",
    "full_review9[0:10]"
   ]
  },
  {
   "cell_type": "code",
   "execution_count": 485,
   "id": "a14ab24e",
   "metadata": {},
   "outputs": [
    {
     "name": "stdout",
     "output_type": "stream",
     "text": [
      "10 10 10\n"
     ]
    }
   ],
   "source": [
    "print(len(ratings9),len(review_summary9),len(full_review9))"
   ]
  },
  {
   "cell_type": "code",
   "execution_count": 486,
   "id": "6a669ad6",
   "metadata": {},
   "outputs": [],
   "source": [
    "Ratings=ratings+ratings1+ratings2+ratings3+ratings4+ratings5+ratings6+ratings7+ratings8+ratings9\n",
    "Review_Summary=review_summary+review_summary1+review_summary2+review_summary3+review_summary4+review_summary5+review_summary6+review_summary7+review_summary8+review_summary9\n",
    "Full_Review=full_review+full_review1+full_review2+full_review3+full_review4+full_review5+full_review6+full_review7+full_review8+full_review9"
   ]
  },
  {
   "cell_type": "code",
   "execution_count": 488,
   "id": "772392d9",
   "metadata": {
    "scrolled": true
   },
   "outputs": [
    {
     "data": {
      "text/html": [
       "<div>\n",
       "<style scoped>\n",
       "    .dataframe tbody tr th:only-of-type {\n",
       "        vertical-align: middle;\n",
       "    }\n",
       "\n",
       "    .dataframe tbody tr th {\n",
       "        vertical-align: top;\n",
       "    }\n",
       "\n",
       "    .dataframe thead th {\n",
       "        text-align: right;\n",
       "    }\n",
       "</style>\n",
       "<table border=\"1\" class=\"dataframe\">\n",
       "  <thead>\n",
       "    <tr style=\"text-align: right;\">\n",
       "      <th></th>\n",
       "      <th>Ratings</th>\n",
       "      <th>Review_Summary</th>\n",
       "      <th>Full_Review</th>\n",
       "    </tr>\n",
       "  </thead>\n",
       "  <tbody>\n",
       "    <tr>\n",
       "      <th>0</th>\n",
       "      <td>5</td>\n",
       "      <td>Brilliant</td>\n",
       "      <td>The Best Phone for the Money\\n\\nThe iPhone 11 ...</td>\n",
       "    </tr>\n",
       "    <tr>\n",
       "      <th>1</th>\n",
       "      <td>5</td>\n",
       "      <td>Simply awesome</td>\n",
       "      <td>Really satisfied with the Product I received.....</td>\n",
       "    </tr>\n",
       "    <tr>\n",
       "      <th>2</th>\n",
       "      <td>5</td>\n",
       "      <td>Best in the market!</td>\n",
       "      <td>Great iPhone very snappy experience as apple k...</td>\n",
       "    </tr>\n",
       "    <tr>\n",
       "      <th>3</th>\n",
       "      <td>5</td>\n",
       "      <td>Perfect product!</td>\n",
       "      <td>Amazing phone with great cameras and better ba...</td>\n",
       "    </tr>\n",
       "    <tr>\n",
       "      <th>4</th>\n",
       "      <td>5</td>\n",
       "      <td>Fabulous!</td>\n",
       "      <td>This is my first iOS phone. I am very happy wi...</td>\n",
       "    </tr>\n",
       "    <tr>\n",
       "      <th>...</th>\n",
       "      <td>...</td>\n",
       "      <td>...</td>\n",
       "      <td>...</td>\n",
       "    </tr>\n",
       "    <tr>\n",
       "      <th>95</th>\n",
       "      <td>5</td>\n",
       "      <td>Fabulous!</td>\n",
       "      <td>Good product nice experience with Flipkart but...</td>\n",
       "    </tr>\n",
       "    <tr>\n",
       "      <th>96</th>\n",
       "      <td>5</td>\n",
       "      <td>Must buy!</td>\n",
       "      <td>Camera is excellent just lack of telephoto mod...</td>\n",
       "    </tr>\n",
       "    <tr>\n",
       "      <th>97</th>\n",
       "      <td>5</td>\n",
       "      <td>Excellent</td>\n",
       "      <td>Seller - SuperComNet ( my trust in you has gro...</td>\n",
       "    </tr>\n",
       "    <tr>\n",
       "      <th>98</th>\n",
       "      <td>5</td>\n",
       "      <td>Mind-blowing purchase</td>\n",
       "      <td>i was confused between 11 and 11 pro. i was go...</td>\n",
       "    </tr>\n",
       "    <tr>\n",
       "      <th>99</th>\n",
       "      <td>5</td>\n",
       "      <td>Super!</td>\n",
       "      <td>It's a great phone. From camera to display eve...</td>\n",
       "    </tr>\n",
       "  </tbody>\n",
       "</table>\n",
       "<p>100 rows × 3 columns</p>\n",
       "</div>"
      ],
      "text/plain": [
       "   Ratings         Review_Summary  \\\n",
       "0        5              Brilliant   \n",
       "1        5         Simply awesome   \n",
       "2        5    Best in the market!   \n",
       "3        5       Perfect product!   \n",
       "4        5              Fabulous!   \n",
       "..     ...                    ...   \n",
       "95       5              Fabulous!   \n",
       "96       5              Must buy!   \n",
       "97       5              Excellent   \n",
       "98       5  Mind-blowing purchase   \n",
       "99       5                 Super!   \n",
       "\n",
       "                                          Full_Review  \n",
       "0   The Best Phone for the Money\\n\\nThe iPhone 11 ...  \n",
       "1   Really satisfied with the Product I received.....  \n",
       "2   Great iPhone very snappy experience as apple k...  \n",
       "3   Amazing phone with great cameras and better ba...  \n",
       "4   This is my first iOS phone. I am very happy wi...  \n",
       "..                                                ...  \n",
       "95  Good product nice experience with Flipkart but...  \n",
       "96  Camera is excellent just lack of telephoto mod...  \n",
       "97  Seller - SuperComNet ( my trust in you has gro...  \n",
       "98  i was confused between 11 and 11 pro. i was go...  \n",
       "99  It's a great phone. From camera to display eve...  \n",
       "\n",
       "[100 rows x 3 columns]"
      ]
     },
     "execution_count": 488,
     "metadata": {},
     "output_type": "execute_result"
    }
   ],
   "source": [
    "iPhone=pd.DataFrame({})\n",
    "iPhone['Ratings']=Ratings[0:100]\n",
    "iPhone['Review_Summary']=Review_Summary[0:100]\n",
    "iPhone['Full_Review']=Full_Review[0:100]\n",
    "iPhone"
   ]
  },
  {
   "cell_type": "markdown",
   "id": "9f63aec8",
   "metadata": {},
   "source": [
    "Q6: Scrape data for first 100 sneakers you find when you visit flipkart.com andsearch for “sneakers” in the\n",
    "search field.\n",
    "You have to scrape 4 attributes of each sneaker:\n",
    "1. Brand\n",
    "2. Product Description\n",
    "3. Price\n",
    "As shown in the below image, you have to scrape the tick marked attributes"
   ]
  },
  {
   "cell_type": "code",
   "execution_count": 24,
   "id": "29db6ed9",
   "metadata": {},
   "outputs": [],
   "source": [
    "import selenium\n",
    "import pandas as pd\n",
    "from selenium import webdriver\n",
    "import warnings\n",
    "warnings.filterwarnings(\"ignore\")\n",
    "import time"
   ]
  },
  {
   "cell_type": "code",
   "execution_count": 25,
   "id": "bff0ce35",
   "metadata": {},
   "outputs": [],
   "source": [
    "driver=webdriver.Chrome(r\"C:\\web driver\\chromedriver.exe\")\n",
    "time.sleep(2)"
   ]
  },
  {
   "cell_type": "code",
   "execution_count": 26,
   "id": "de252e3c",
   "metadata": {},
   "outputs": [],
   "source": [
    "driver.get(\"https://www.flipkart.com/\")"
   ]
  },
  {
   "cell_type": "code",
   "execution_count": 27,
   "id": "11b99180",
   "metadata": {},
   "outputs": [],
   "source": [
    "search_field=driver.find_element_by_class_name(\"_3704LK\")\n",
    "search_field.send_keys(\"sneakers\")"
   ]
  },
  {
   "cell_type": "code",
   "execution_count": 28,
   "id": "4f1dceed",
   "metadata": {},
   "outputs": [],
   "source": [
    "search_button=driver.find_element_by_xpath(\"/html/body/div[1]/div/div[1]/div[1]/div[2]/div[2]/form/div/button\")\n",
    "search_button.click()"
   ]
  },
  {
   "cell_type": "code",
   "execution_count": 29,
   "id": "e158cad8",
   "metadata": {},
   "outputs": [],
   "source": [
    "product_tag=driver.find_elements_by_xpath('//div[@class=\"_2WkVRV\"]')\n",
    "title_name=[]\n",
    "for i in product_tag:\n",
    "    title_name.append(i.text)\n",
    "title_name\n",
    "price_tags=driver.find_elements_by_xpath('//div[@class=\"_30jeq3\"]')\n",
    "prices=[]\n",
    "for i in price_tags:\n",
    "    prices.append(i.text)\n",
    "prices\n",
    "des_tag=driver.find_elements_by_xpath('//a[@class=\"IRpwTa\"]')\n",
    "des=[]\n",
    "for i in des_tag:\n",
    "    des.append(i.text)\n",
    "dis_tag=driver.find_elements_by_xpath('//div[@class=\"_3Ay6Sb\"]')\n",
    "discount=[]\n",
    "for i in dis_tag:\n",
    "    discount.append(i.text)\n",
    "discount\n",
    "df=pd.DataFrame({'Product Name':title_name[0:25] , 'Description' :des[0:25], 'Price' :prices[0:25],'Discount':discount[0:25]})"
   ]
  },
  {
   "cell_type": "code",
   "execution_count": 30,
   "id": "6ac57446",
   "metadata": {},
   "outputs": [],
   "source": [
    "driver.find_element_by_xpath('/html/body/div[1]/div/div[3]/div[1]/div[2]/div[12]/div/div/nav/a[11]/span').click()"
   ]
  },
  {
   "cell_type": "code",
   "execution_count": 31,
   "id": "f93b937d",
   "metadata": {},
   "outputs": [],
   "source": [
    "product_tag=driver.find_elements_by_xpath('//div[@class=\"_2WkVRV\"]')\n",
    "title_name1=[]\n",
    "for i in product_tag:\n",
    "    title_name1.append(i.text)\n",
    "title_name\n",
    "price_tags=driver.find_elements_by_xpath('//div[@class=\"_30jeq3\"]')\n",
    "prices1=[]\n",
    "for i in price_tags:\n",
    "    prices1.append(i.text)\n",
    "prices\n",
    "des_tag=driver.find_elements_by_xpath('//a[@class=\"IRpwTa\"]')\n",
    "des1=[]\n",
    "for i in des_tag:\n",
    "    des1.append(i.text)\n",
    "dis_tag=driver.find_elements_by_xpath('//div[@class=\"_3Ay6Sb\"]')\n",
    "discount1=[]\n",
    "for i in dis_tag:\n",
    "    discount1.append(i.text)\n",
    "discount\n",
    "df1=pd.DataFrame({'Product Name':title_name1[0:25] , 'Description' :des1[0:25], 'Price' :prices1[0:25],'Discount':discount1[0:25]})"
   ]
  },
  {
   "cell_type": "code",
   "execution_count": 32,
   "id": "44d1e4bd",
   "metadata": {},
   "outputs": [],
   "source": [
    "df2=df.append(df1, ignore_index = True)"
   ]
  },
  {
   "cell_type": "code",
   "execution_count": 33,
   "id": "0876765c",
   "metadata": {},
   "outputs": [],
   "source": [
    "driver.find_element_by_xpath('/html/body/div[1]/div/div[3]/div[1]/div[2]/div[12]/div/div/nav/a[12]/span').click()"
   ]
  },
  {
   "cell_type": "code",
   "execution_count": 34,
   "id": "86586261",
   "metadata": {},
   "outputs": [],
   "source": [
    "product_tag=driver.find_elements_by_xpath('//div[@class=\"_2WkVRV\"]')\n",
    "title_name2=[]\n",
    "for i in product_tag:\n",
    "    title_name2.append(i.text)\n",
    "title_name\n",
    "price_tags=driver.find_elements_by_xpath('//div[@class=\"_30jeq3\"]')\n",
    "prices2=[]\n",
    "for i in price_tags:\n",
    "    prices2.append(i.text)\n",
    "prices\n",
    "des_tag=driver.find_elements_by_xpath('//a[@class=\"IRpwTa\"]')\n",
    "des2=[]\n",
    "for i in des_tag:\n",
    "    des2.append(i.text)\n",
    "dis_tag=driver.find_elements_by_xpath('//div[@class=\"_3Ay6Sb\"]')\n",
    "discount2=[]\n",
    "for i in dis_tag:\n",
    "    discount2.append(i.text)\n",
    "discount\n",
    "df3=pd.DataFrame({'Product Name':title_name2[0:25] , 'Description' :des2[0:25], 'Price' :prices2[0:25],'Discount':discount2[0:25]})"
   ]
  },
  {
   "cell_type": "code",
   "execution_count": 35,
   "id": "668b7905",
   "metadata": {},
   "outputs": [],
   "source": [
    "df=df3.append(df2, ignore_index = True)"
   ]
  },
  {
   "cell_type": "code",
   "execution_count": 36,
   "id": "e5b65274",
   "metadata": {},
   "outputs": [],
   "source": [
    "driver.find_element_by_xpath('/html/body/div[1]/div/div[3]/div[1]/div[2]/div[12]/div/div/nav/a[12]/span').click()"
   ]
  },
  {
   "cell_type": "code",
   "execution_count": 38,
   "id": "7871747b",
   "metadata": {},
   "outputs": [],
   "source": [
    "product_tag=driver.find_elements_by_xpath('//div[@class=\"_2WkVRV\"]')\n",
    "title_name3=[]\n",
    "for i in product_tag:\n",
    "    title_name3.append(i.text)\n",
    "title_name\n",
    "price_tags=driver.find_elements_by_xpath('//div[@class=\"_30jeq3\"]')\n",
    "prices3=[]\n",
    "for i in price_tags:\n",
    "    prices3.append(i.text)\n",
    "prices\n",
    "des_tag=driver.find_elements_by_xpath('//a[@class=\"IRpwTa\"]')\n",
    "des3=[]\n",
    "for i in des_tag:\n",
    "    des3.append(i.text)\n",
    "dis_tag=driver.find_elements_by_xpath('//div[@class=\"_3Ay6Sb\"]')\n",
    "discount3=[]\n",
    "for i in dis_tag:\n",
    "    discount3.append(i.text)\n",
    "discount\n",
    "df4=pd.DataFrame({'Product Name':title_name3[0:25] , 'Description' :des3[0:25], 'Price' :prices3[0:25],'Discount':discount3[0:25]})"
   ]
  },
  {
   "cell_type": "code",
   "execution_count": 39,
   "id": "f7d32fe5",
   "metadata": {},
   "outputs": [
    {
     "data": {
      "text/html": [
       "<div>\n",
       "<style scoped>\n",
       "    .dataframe tbody tr th:only-of-type {\n",
       "        vertical-align: middle;\n",
       "    }\n",
       "\n",
       "    .dataframe tbody tr th {\n",
       "        vertical-align: top;\n",
       "    }\n",
       "\n",
       "    .dataframe thead th {\n",
       "        text-align: right;\n",
       "    }\n",
       "</style>\n",
       "<table border=\"1\" class=\"dataframe\">\n",
       "  <thead>\n",
       "    <tr style=\"text-align: right;\">\n",
       "      <th></th>\n",
       "      <th>Product Name</th>\n",
       "      <th>Description</th>\n",
       "      <th>Price</th>\n",
       "      <th>Discount</th>\n",
       "    </tr>\n",
       "  </thead>\n",
       "  <tbody>\n",
       "    <tr>\n",
       "      <th>0</th>\n",
       "      <td>PUMA</td>\n",
       "      <td>Smash Vulc Sneakers For Men</td>\n",
       "      <td>₹1,849</td>\n",
       "      <td>51% off</td>\n",
       "    </tr>\n",
       "    <tr>\n",
       "      <th>1</th>\n",
       "      <td>PUMA</td>\n",
       "      <td>Mirage Tech Sneakers For Men</td>\n",
       "      <td>₹7,949</td>\n",
       "      <td>37% off</td>\n",
       "    </tr>\n",
       "    <tr>\n",
       "      <th>2</th>\n",
       "      <td>SPADE CLUB</td>\n",
       "      <td>Sneakers For Men</td>\n",
       "      <td>₹624</td>\n",
       "      <td>55% off</td>\n",
       "    </tr>\n",
       "    <tr>\n",
       "      <th>3</th>\n",
       "      <td>Labbin</td>\n",
       "      <td>Sneakers For Men</td>\n",
       "      <td>₹449</td>\n",
       "      <td>62% off</td>\n",
       "    </tr>\n",
       "    <tr>\n",
       "      <th>4</th>\n",
       "      <td>DUCATI</td>\n",
       "      <td>Original Luxury Branded Fashionable Men's Casu...</td>\n",
       "      <td>₹1,239</td>\n",
       "      <td>78% off</td>\n",
       "    </tr>\n",
       "    <tr>\n",
       "      <th>...</th>\n",
       "      <td>...</td>\n",
       "      <td>...</td>\n",
       "      <td>...</td>\n",
       "      <td>...</td>\n",
       "    </tr>\n",
       "    <tr>\n",
       "      <th>95</th>\n",
       "      <td>T-ROCK</td>\n",
       "      <td>Super Stylish &amp; Trendy Combo Pack of 02 Pairs ...</td>\n",
       "      <td>₹249</td>\n",
       "      <td>75% off</td>\n",
       "    </tr>\n",
       "    <tr>\n",
       "      <th>96</th>\n",
       "      <td>Hida</td>\n",
       "      <td>STR2 Sneakers For Men</td>\n",
       "      <td>₹599</td>\n",
       "      <td>40% off</td>\n",
       "    </tr>\n",
       "    <tr>\n",
       "      <th>97</th>\n",
       "      <td>Hida</td>\n",
       "      <td>WATERPROOF-05cFULLWHITE Sneakers For Men</td>\n",
       "      <td>₹599</td>\n",
       "      <td>40% off</td>\n",
       "    </tr>\n",
       "    <tr>\n",
       "      <th>98</th>\n",
       "      <td>WHITE WALKERS</td>\n",
       "      <td>Sneakers For Men</td>\n",
       "      <td>₹549</td>\n",
       "      <td>54% off</td>\n",
       "    </tr>\n",
       "    <tr>\n",
       "      <th>99</th>\n",
       "      <td>Kraasa</td>\n",
       "      <td>Shark-41 Sneakers For Men</td>\n",
       "      <td>₹410</td>\n",
       "      <td>58% off</td>\n",
       "    </tr>\n",
       "  </tbody>\n",
       "</table>\n",
       "<p>100 rows × 4 columns</p>\n",
       "</div>"
      ],
      "text/plain": [
       "     Product Name                                        Description   Price  \\\n",
       "0            PUMA                        Smash Vulc Sneakers For Men  ₹1,849   \n",
       "1            PUMA                       Mirage Tech Sneakers For Men  ₹7,949   \n",
       "2      SPADE CLUB                                   Sneakers For Men    ₹624   \n",
       "3          Labbin                                   Sneakers For Men    ₹449   \n",
       "4          DUCATI  Original Luxury Branded Fashionable Men's Casu...  ₹1,239   \n",
       "..            ...                                                ...     ...   \n",
       "95         T-ROCK  Super Stylish & Trendy Combo Pack of 02 Pairs ...    ₹249   \n",
       "96           Hida                              STR2 Sneakers For Men    ₹599   \n",
       "97           Hida           WATERPROOF-05cFULLWHITE Sneakers For Men    ₹599   \n",
       "98  WHITE WALKERS                                   Sneakers For Men    ₹549   \n",
       "99         Kraasa                          Shark-41 Sneakers For Men    ₹410   \n",
       "\n",
       "   Discount  \n",
       "0   51% off  \n",
       "1   37% off  \n",
       "2   55% off  \n",
       "3   62% off  \n",
       "4   78% off  \n",
       "..      ...  \n",
       "95  75% off  \n",
       "96  40% off  \n",
       "97  40% off  \n",
       "98  54% off  \n",
       "99  58% off  \n",
       "\n",
       "[100 rows x 4 columns]"
      ]
     },
     "execution_count": 39,
     "metadata": {},
     "output_type": "execute_result"
    }
   ],
   "source": [
    "df4.append(df, ignore_index = True)"
   ]
  },
  {
   "cell_type": "code",
   "execution_count": null,
   "id": "b295b688",
   "metadata": {},
   "outputs": [],
   "source": [
    "driver.close()"
   ]
  },
  {
   "cell_type": "markdown",
   "id": "541f5940",
   "metadata": {},
   "source": [
    "Q7: Go to the link - https://www.myntra.com/shoes\n",
    "Set Price filter to “Rs. 7149 to Rs. 14099 ” , Color filter to “Black”, as shown inthe below image.\n",
    "And then scrape First 100 shoes data you get. The data should include “Brand” of the shoes , Short Shoe\n",
    "description, price of the shoe as shown in the below image"
   ]
  },
  {
   "cell_type": "code",
   "execution_count": 108,
   "id": "544e0c67",
   "metadata": {},
   "outputs": [],
   "source": [
    "import selenium\n",
    "import pandas as pd\n",
    "from selenium import webdriver\n",
    "import warnings\n",
    "warnings.filterwarnings(\"ignore\")\n",
    "import time"
   ]
  },
  {
   "cell_type": "code",
   "execution_count": 109,
   "id": "7e9808fa",
   "metadata": {},
   "outputs": [],
   "source": [
    "driver=webdriver.Chrome(r\"C:\\web driver\\chromedriver.exe\")\n",
    "time.sleep(2)"
   ]
  },
  {
   "cell_type": "code",
   "execution_count": 110,
   "id": "b32250f5",
   "metadata": {},
   "outputs": [],
   "source": [
    "driver.get(\"https://www.myntra.com/shoes\")"
   ]
  },
  {
   "cell_type": "code",
   "execution_count": 113,
   "id": "e5a88d8a",
   "metadata": {},
   "outputs": [],
   "source": [
    "price_filter = driver.find_element_by_xpath('/html/body/div[2]/div/div[1]/main/div[3]/div[1]/section/div/div[5]/ul/li[2]/label/div')\n",
    "price_filter.click()"
   ]
  },
  {
   "cell_type": "code",
   "execution_count": 111,
   "id": "9229a0b4",
   "metadata": {},
   "outputs": [],
   "source": [
    "color_filter = driver.find_element_by_xpath('/html/body/div[2]/div/div[1]/main/div[3]/div[1]/section/div/div[6]/ul/li[1]/label/div')\n",
    "color_filter.click()"
   ]
  },
  {
   "cell_type": "code",
   "execution_count": 115,
   "id": "fc3d6a18",
   "metadata": {},
   "outputs": [],
   "source": [
    "title_tag=driver.find_elements_by_xpath('//h3[@class=\"product-brand\"]')\n",
    "title_name=[]\n",
    "for i in title_tag:\n",
    "    title_name.append(i.text)\n",
    "title_name\n",
    "product_des=driver.find_elements_by_xpath('//h4[@class=\"product-product\"]')\n",
    "des=[]\n",
    "for i in product_des:\n",
    "    des.append(i.text)\n",
    "des\n",
    "price=driver.find_elements_by_xpath('//span[@class=\"product-strike\"]')\n",
    "prices=[]\n",
    "for i in price:\n",
    "    prices.append(i.text)\n",
    "prices\n",
    "df=pd.DataFrame({'Product Brand':title_name[0:20] , 'Product_Description' :des[0:20], 'Original Price' :prices[0:20]})"
   ]
  },
  {
   "cell_type": "code",
   "execution_count": 116,
   "id": "c2471b43",
   "metadata": {},
   "outputs": [],
   "source": [
    "driver.find_element_by_xpath('/html/body/div[2]/div/div[1]/main/div[3]/div[2]/div/div[2]/section/div[2]/ul/li[12]/a').click()"
   ]
  },
  {
   "cell_type": "code",
   "execution_count": 118,
   "id": "1873eae1",
   "metadata": {},
   "outputs": [],
   "source": [
    "title_tag=driver.find_elements_by_xpath('//h3[@class=\"product-brand\"]')\n",
    "title_name=[]\n",
    "for i in title_tag:\n",
    "    title_name.append(i.text)\n",
    "title_name\n",
    "product_des=driver.find_elements_by_xpath('//h4[@class=\"product-product\"]')\n",
    "des=[]\n",
    "for i in product_des:\n",
    "    des.append(i.text)\n",
    "des\n",
    "price=driver.find_elements_by_xpath('//span[@class=\"product-strike\"]')\n",
    "prices=[]\n",
    "for i in price:\n",
    "    prices.append(i.text)\n",
    "prices\n",
    "dis_price=driver.find_elements_by_xpath('//span[@class=\"product-discountedPrice\"]')\n",
    "df1=pd.DataFrame({'Product Brand':title_name[0:15] , 'Product_Description' :des[0:15], 'Original Price' :prices[0:15]})"
   ]
  },
  {
   "cell_type": "code",
   "execution_count": 119,
   "id": "e7e240e1",
   "metadata": {},
   "outputs": [],
   "source": [
    "df2=df.append(df1, ignore_index = True)"
   ]
  },
  {
   "cell_type": "code",
   "execution_count": 120,
   "id": "63ee0671",
   "metadata": {},
   "outputs": [],
   "source": [
    "driver.find_element_by_xpath('/html/body/div[2]/div/div[1]/main/div[3]/div[2]/div/div[2]/section/div[2]/ul/li[8]/a').click()"
   ]
  },
  {
   "cell_type": "code",
   "execution_count": 121,
   "id": "bfccc15e",
   "metadata": {},
   "outputs": [],
   "source": [
    "title_tag=driver.find_elements_by_xpath('//h3[@class=\"product-brand\"]')\n",
    "title_name=[]\n",
    "for i in title_tag:\n",
    "    title_name.append(i.text)\n",
    "title_name\n",
    "product_des=driver.find_elements_by_xpath('//h4[@class=\"product-product\"]')\n",
    "des=[]\n",
    "for i in product_des:\n",
    "    des.append(i.text)\n",
    "des\n",
    "price=driver.find_elements_by_xpath('//span[@class=\"product-strike\"]')\n",
    "prices=[]\n",
    "for i in price:\n",
    "    prices.append(i.text)\n",
    "prices\n",
    "dis_price=driver.find_elements_by_xpath('//span[@class=\"product-discountedPrice\"]')\n",
    "df3=pd.DataFrame({'Product Brand':title_name[0:15] , 'Product_Description' :des[0:15], 'Original Price' :prices[0:15]})"
   ]
  },
  {
   "cell_type": "code",
   "execution_count": 122,
   "id": "11cdb596",
   "metadata": {},
   "outputs": [],
   "source": [
    "df4=df2.append(df3, ignore_index = True)"
   ]
  },
  {
   "cell_type": "code",
   "execution_count": 123,
   "id": "706c3b11",
   "metadata": {},
   "outputs": [],
   "source": [
    "driver.find_element_by_xpath('/html/body/div[2]/div/div[1]/main/div[3]/div[2]/div/div[2]/section/div[2]/ul/li[8]/a').click()"
   ]
  },
  {
   "cell_type": "code",
   "execution_count": 124,
   "id": "92b7a467",
   "metadata": {},
   "outputs": [],
   "source": [
    "title_tag=driver.find_elements_by_xpath('//h3[@class=\"product-brand\"]')\n",
    "title_name=[]\n",
    "for i in title_tag:\n",
    "    title_name.append(i.text)\n",
    "title_name\n",
    "product_des=driver.find_elements_by_xpath('//h4[@class=\"product-product\"]')\n",
    "des=[]\n",
    "for i in product_des:\n",
    "    des.append(i.text)\n",
    "des\n",
    "price=driver.find_elements_by_xpath('//span[@class=\"product-strike\"]')\n",
    "prices=[]\n",
    "for i in price:\n",
    "    prices.append(i.text)\n",
    "prices\n",
    "dis_price=driver.find_elements_by_xpath('//span[@class=\"product-discountedPrice\"]')\n",
    "df5=pd.DataFrame({'Product Brand':title_name[0:15] , 'Product_Description' :des[0:15], 'Original Price' :prices[0:15]})"
   ]
  },
  {
   "cell_type": "code",
   "execution_count": 125,
   "id": "c6425c06",
   "metadata": {},
   "outputs": [],
   "source": [
    "df6=df4.append(df5, ignore_index = True)"
   ]
  },
  {
   "cell_type": "code",
   "execution_count": 126,
   "id": "c7e5429e",
   "metadata": {},
   "outputs": [],
   "source": [
    "driver.find_element_by_xpath('/html/body/div[2]/div/div[1]/main/div[3]/div[2]/div/div[2]/section/div[2]/ul/li[8]/a').click()"
   ]
  },
  {
   "cell_type": "code",
   "execution_count": 127,
   "id": "d350b750",
   "metadata": {},
   "outputs": [],
   "source": [
    "title_tag=driver.find_elements_by_xpath('//h3[@class=\"product-brand\"]')\n",
    "title_name=[]\n",
    "for i in title_tag:\n",
    "    title_name.append(i.text)\n",
    "title_name\n",
    "product_des=driver.find_elements_by_xpath('//h4[@class=\"product-product\"]')\n",
    "des=[]\n",
    "for i in product_des:\n",
    "    des.append(i.text)\n",
    "des\n",
    "price=driver.find_elements_by_xpath('//span[@class=\"product-strike\"]')\n",
    "prices=[]\n",
    "for i in price:\n",
    "    prices.append(i.text)\n",
    "prices\n",
    "dis_price=driver.find_elements_by_xpath('//span[@class=\"product-discountedPrice\"]')\n",
    "df7=pd.DataFrame({'Product Brand':title_name[0:15] , 'Product_Description' :des[0:15], 'Original Price' :prices[0:15]})\n",
    "df7\n",
    "df8=df6.append(df7, ignore_index = True)"
   ]
  },
  {
   "cell_type": "code",
   "execution_count": 128,
   "id": "2fd6c4ba",
   "metadata": {},
   "outputs": [],
   "source": [
    "driver.find_element_by_xpath('/html/body/div[2]/div/div[1]/main/div[3]/div[2]/div/div[2]/section/div[2]/ul/li[11]/a').click()"
   ]
  },
  {
   "cell_type": "code",
   "execution_count": 131,
   "id": "9d17f301",
   "metadata": {},
   "outputs": [],
   "source": [
    "title_tag=driver.find_elements_by_xpath('//h3[@class=\"product-brand\"]')\n",
    "title_name=[]\n",
    "for i in title_tag:\n",
    "    title_name.append(i.text)\n",
    "title_name\n",
    "product_des=driver.find_elements_by_xpath('//h4[@class=\"product-product\"]')\n",
    "des=[]\n",
    "for i in product_des:\n",
    "    des.append(i.text)\n",
    "des\n",
    "price=driver.find_elements_by_xpath('//span[@class=\"product-strike\"]')\n",
    "prices=[]\n",
    "for i in price:\n",
    "    prices.append(i.text)\n",
    "prices\n",
    "dis_price=driver.find_elements_by_xpath('//span[@class=\"product-discountedPrice\"]')\n",
    "df9=pd.DataFrame({'Product Brand':title_name[0:15] , 'Product_Description' :des[0:15], 'Original Price' :prices[0:15]})\n",
    "df9\n",
    "df10=df8.append(df9, ignore_index = True)"
   ]
  },
  {
   "cell_type": "code",
   "execution_count": 135,
   "id": "08d00eef",
   "metadata": {},
   "outputs": [
    {
     "data": {
      "text/html": [
       "<div>\n",
       "<style scoped>\n",
       "    .dataframe tbody tr th:only-of-type {\n",
       "        vertical-align: middle;\n",
       "    }\n",
       "\n",
       "    .dataframe tbody tr th {\n",
       "        vertical-align: top;\n",
       "    }\n",
       "\n",
       "    .dataframe thead th {\n",
       "        text-align: right;\n",
       "    }\n",
       "</style>\n",
       "<table border=\"1\" class=\"dataframe\">\n",
       "  <thead>\n",
       "    <tr style=\"text-align: right;\">\n",
       "      <th></th>\n",
       "      <th>Product Brand</th>\n",
       "      <th>Product_Description</th>\n",
       "      <th>Original Price</th>\n",
       "    </tr>\n",
       "  </thead>\n",
       "  <tbody>\n",
       "    <tr>\n",
       "      <th>0</th>\n",
       "      <td>Skechers</td>\n",
       "      <td>Men Max Cushioning Running</td>\n",
       "      <td>Rs. 8999</td>\n",
       "    </tr>\n",
       "    <tr>\n",
       "      <th>1</th>\n",
       "      <td>ALDO</td>\n",
       "      <td>Men Sneakers</td>\n",
       "      <td>Rs. 10495</td>\n",
       "    </tr>\n",
       "    <tr>\n",
       "      <th>2</th>\n",
       "      <td>Nike</td>\n",
       "      <td>Men React Miler2 Running Shoes</td>\n",
       "      <td>Rs. 10999</td>\n",
       "    </tr>\n",
       "    <tr>\n",
       "      <th>3</th>\n",
       "      <td>UNDER ARMOUR</td>\n",
       "      <td>Men Charged Rouge 3 Run Shoes</td>\n",
       "      <td>Rs. 9499</td>\n",
       "    </tr>\n",
       "    <tr>\n",
       "      <th>4</th>\n",
       "      <td>Nike</td>\n",
       "      <td>Women React MR 3 Running Shoes</td>\n",
       "      <td>Rs. 9999</td>\n",
       "    </tr>\n",
       "    <tr>\n",
       "      <th>...</th>\n",
       "      <td>...</td>\n",
       "      <td>...</td>\n",
       "      <td>...</td>\n",
       "    </tr>\n",
       "    <tr>\n",
       "      <th>95</th>\n",
       "      <td>ROSSO BRUNELLO</td>\n",
       "      <td>Men Leather Loafers</td>\n",
       "      <td>Rs. 10999</td>\n",
       "    </tr>\n",
       "    <tr>\n",
       "      <th>96</th>\n",
       "      <td>ROSSO BRUNELLO</td>\n",
       "      <td>Men Textured Leather Loafers</td>\n",
       "      <td>Rs. 10999</td>\n",
       "    </tr>\n",
       "    <tr>\n",
       "      <th>97</th>\n",
       "      <td>ROSSO BRUNELLO</td>\n",
       "      <td>Men Leather Loafers</td>\n",
       "      <td>Rs. 9999</td>\n",
       "    </tr>\n",
       "    <tr>\n",
       "      <th>98</th>\n",
       "      <td>ECCO</td>\n",
       "      <td>Women Heeled Formal Shoes</td>\n",
       "      <td>Rs. 9999</td>\n",
       "    </tr>\n",
       "    <tr>\n",
       "      <th>99</th>\n",
       "      <td>Saint G</td>\n",
       "      <td>Block Heeled Boots</td>\n",
       "      <td>Rs. 11999</td>\n",
       "    </tr>\n",
       "  </tbody>\n",
       "</table>\n",
       "<p>100 rows × 3 columns</p>\n",
       "</div>"
      ],
      "text/plain": [
       "     Product Brand             Product_Description Original Price\n",
       "0         Skechers      Men Max Cushioning Running       Rs. 8999\n",
       "1             ALDO                    Men Sneakers      Rs. 10495\n",
       "2             Nike  Men React Miler2 Running Shoes      Rs. 10999\n",
       "3     UNDER ARMOUR   Men Charged Rouge 3 Run Shoes       Rs. 9499\n",
       "4             Nike  Women React MR 3 Running Shoes       Rs. 9999\n",
       "..             ...                             ...            ...\n",
       "95  ROSSO BRUNELLO             Men Leather Loafers      Rs. 10999\n",
       "96  ROSSO BRUNELLO    Men Textured Leather Loafers      Rs. 10999\n",
       "97  ROSSO BRUNELLO             Men Leather Loafers       Rs. 9999\n",
       "98            ECCO       Women Heeled Formal Shoes       Rs. 9999\n",
       "99         Saint G              Block Heeled Boots      Rs. 11999\n",
       "\n",
       "[100 rows x 3 columns]"
      ]
     },
     "execution_count": 135,
     "metadata": {},
     "output_type": "execute_result"
    }
   ],
   "source": [
    "title_tag=driver.find_elements_by_xpath('//h3[@class=\"product-brand\"]')\n",
    "title_name=[]\n",
    "for i in title_tag:\n",
    "    title_name.append(i.text)\n",
    "title_name\n",
    "product_des=driver.find_elements_by_xpath('//h4[@class=\"product-product\"]')\n",
    "des=[]\n",
    "for i in product_des:\n",
    "    des.append(i.text)\n",
    "des\n",
    "price=driver.find_elements_by_xpath('//span[@class=\"product-strike\"]')\n",
    "prices=[]\n",
    "for i in price:\n",
    "    prices.append(i.text)\n",
    "prices\n",
    "df11=pd.DataFrame({'Product Brand':title_name[0:5] , 'Product_Description' :des[0:5], 'Original Price' :prices[0:5]})\n",
    "df12=df10.append(df11, ignore_index = True)\n",
    "df12"
   ]
  },
  {
   "cell_type": "code",
   "execution_count": 136,
   "id": "091cf533",
   "metadata": {},
   "outputs": [],
   "source": [
    "driver.close()"
   ]
  },
  {
   "cell_type": "markdown",
   "id": "168b41b4",
   "metadata": {},
   "source": [
    "Q8: Go to webpage https://www.amazon.in/\n",
    "Enter “Laptop” in the search field and then click the search icon.\n",
    "Then set CPU Type filter to “Intel Core i7” and “Intel Core i9” as shown in the below image\n",
    "After setting the filters scrape first 10 laptops data. You have to scrape 3 attributesfor each laptop:\n",
    "1. Title\n",
    "2. Ratings\n",
    "3. Price\n",
    "As shown in the below image as the tick marked attributes"
   ]
  },
  {
   "cell_type": "code",
   "execution_count": 25,
   "id": "417eabdd",
   "metadata": {},
   "outputs": [],
   "source": [
    "import selenium\n",
    "from selenium import webdriver\n",
    "import pandas as pd\n",
    "import warnings\n",
    "warnings.filterwarnings(\"ignore\")\n",
    "import time"
   ]
  },
  {
   "cell_type": "code",
   "execution_count": 26,
   "id": "7142f157",
   "metadata": {},
   "outputs": [],
   "source": [
    "driver=webdriver.Chrome(r\"C:\\web driver\\chromedriver.exe\")\n",
    "time.sleep(2)"
   ]
  },
  {
   "cell_type": "code",
   "execution_count": 27,
   "id": "abceaef3",
   "metadata": {},
   "outputs": [],
   "source": [
    "driver.get('https://www.amazon.in/')"
   ]
  },
  {
   "cell_type": "code",
   "execution_count": 28,
   "id": "11e731fc",
   "metadata": {},
   "outputs": [],
   "source": [
    "s = driver.find_element_by_id('twotabsearchtextbox')\n",
    "s.send_keys(\"Laptop,\")"
   ]
  },
  {
   "cell_type": "code",
   "execution_count": 29,
   "id": "183381af",
   "metadata": {},
   "outputs": [],
   "source": [
    "search_btn = driver.find_elements_by_xpath(\"//div[@class='nav-search-submit nav-sprite']/span\")\n",
    "search_btn[0].click()"
   ]
  },
  {
   "cell_type": "code",
   "execution_count": 31,
   "id": "7c0f3d34",
   "metadata": {},
   "outputs": [],
   "source": [
    "driver.find_element_by_xpath(\"//a[@href='/s?k=Laptop%2C&rh=n%3A1375424031%2Cp_n_feature_thirteen_browse-bin%3A12598163031&dc&crid=1CZMDYQKWZYBS&qid=1652702964&rnid=12598141031&sprefix=laptop%2C%2Caps%2C586&ref=sr_nr_p_n_feature_thirteen_browse-bin_14']/div\").click()"
   ]
  },
  {
   "cell_type": "code",
   "execution_count": 32,
   "id": "e3c5bb8e",
   "metadata": {},
   "outputs": [],
   "source": [
    "Title=[]\n",
    "Ratings=[]\n",
    "Price=[]"
   ]
  },
  {
   "cell_type": "code",
   "execution_count": 34,
   "id": "2b44c4b8",
   "metadata": {},
   "outputs": [
    {
     "data": {
      "text/plain": [
       "[<selenium.webdriver.remote.webelement.WebElement (session=\"67b46d58a1fd1af5aa710ea2ff661784\", element=\"cd9629f8-180a-4f47-8b1c-1861cf459091\")>,\n",
       " <selenium.webdriver.remote.webelement.WebElement (session=\"67b46d58a1fd1af5aa710ea2ff661784\", element=\"55c1830a-766b-4401-a1f7-bba0add7a202\")>,\n",
       " <selenium.webdriver.remote.webelement.WebElement (session=\"67b46d58a1fd1af5aa710ea2ff661784\", element=\"211a76aa-e480-47f2-a49a-f877ca58fa28\")>,\n",
       " <selenium.webdriver.remote.webelement.WebElement (session=\"67b46d58a1fd1af5aa710ea2ff661784\", element=\"1d8bba6c-aa24-4186-92c6-2d7e9874d131\")>,\n",
       " <selenium.webdriver.remote.webelement.WebElement (session=\"67b46d58a1fd1af5aa710ea2ff661784\", element=\"6a64b8e0-3fa6-4594-b851-90e18a0a7813\")>,\n",
       " <selenium.webdriver.remote.webelement.WebElement (session=\"67b46d58a1fd1af5aa710ea2ff661784\", element=\"8ce3a187-59d7-4831-bb92-179704a1b3bd\")>,\n",
       " <selenium.webdriver.remote.webelement.WebElement (session=\"67b46d58a1fd1af5aa710ea2ff661784\", element=\"0e98ba5d-8709-4338-9c39-ceb8f33d8438\")>,\n",
       " <selenium.webdriver.remote.webelement.WebElement (session=\"67b46d58a1fd1af5aa710ea2ff661784\", element=\"ed0db9d2-929e-4777-928c-3e605febb315\")>,\n",
       " <selenium.webdriver.remote.webelement.WebElement (session=\"67b46d58a1fd1af5aa710ea2ff661784\", element=\"dab84625-cdf5-4541-a40d-4e3b5cdb33ac\")>,\n",
       " <selenium.webdriver.remote.webelement.WebElement (session=\"67b46d58a1fd1af5aa710ea2ff661784\", element=\"8f1a2203-6f89-4618-a2fb-0a96cefa463b\")>]"
      ]
     },
     "execution_count": 34,
     "metadata": {},
     "output_type": "execute_result"
    }
   ],
   "source": [
    "t = driver.find_elements_by_xpath(\"//a[@class='a-link-normal s-underline-text s-underline-link-text s-link-style a-text-normal']\")\n",
    "t[0:10]"
   ]
  },
  {
   "cell_type": "code",
   "execution_count": 35,
   "id": "992dea14",
   "metadata": {},
   "outputs": [
    {
     "data": {
      "text/plain": [
       "['MSI Modern 14, Intel i7-1195G7, 14\" FHD IPS-Level 60Hz Panel Laptop (8GB/512GB NVMe SSD/Windows 10 Home/Nvidia MX450 2GB Graphics/Carbon Grey/1.3Kg), B11SBU-688IN',\n",
       " 'Samsung Galaxy Book2 Pro 360 Intel 12th Gen i7 EvoTM 15.6 inch Touchscreen 2-in-1 AMOLED Thin & Light Laptop (16 GB/512 GB SSD/Windows 11/MS Office/with S Pen/Graphite/1.41Kg), NP950QED-KA1IN',\n",
       " 'Mi Notebook Ultra 3.2K Resolution Display Intel Core i7-11370H 11th Gen 15.6-inch(39.62 cm) Thin and Light Laptop (16GB/512GB SSD/Iris Xe Graphic/Win 10/MS Office 21/Backlit KB/FP Sensor/1.7Kg)',\n",
       " 'Lenovo ThinkBook 15 Intel 11th Gen Core i7 15.6\"(39.62 cm)FHD Thin and Light Laptop (16GB/512GB SSD/Windows 11 Home/MS Office H&S 2021/Iris® Xe Graphics/Backlit/Mineral Grey/1.7 Kg) 20VE00W4IH',\n",
       " 'LG Gram 16 inches Intel Evo 11th Gen Core i7 Ultra-Light Laptop (16 GB RAM, 512 GB SSD, New Windows 11 Home Preload, Iris Xe Graphics, USC -C x 2 (with Power), 1.19 kg, 16Z90P-G.AH85A2, Black)',\n",
       " 'Lenovo IdeaPad Flex 5 11th Gen Intel Core i7 14\" FHD 2-in-1 Convertible Laptop (16 GB/512GB SDD/Windows 11/MS Office 2021/Backlit Keyboard /3months Xbox Game Pass/Graphite Grey/1.5Kg), 82HS018XIN',\n",
       " 'ASUS VivoBook 14 (2021), 14-inch (35.56 cms) FHD, Intel Core i7-1065G7 10th Gen, Thin and Light Laptop (16GB/512GB SSD/Integrated Graphics/Office 2021/Windows 11/Silver/1.6 Kg), X415JA-EK701WS',\n",
       " '(Renewed) Dell E6410 Latitude 14 Inch Screen Laptop (Intel Core i7 - M620 /4 GB/120 GB SSD/Windows 7 Pro), Black',\n",
       " 'Acer Predator Helios 300 11th Gen Intel Core i9-11900H 15.6 inches FHD IPS Gaming Laptop (32GB/1TB SSD/Windows 11 Home/8GB Graphics/NVIDIA GeForce RTX 3070/300 Hz, Black, 2.3Kg) PH315-54',\n",
       " 'Samsung Galaxy Book2 Intel 12th Gen core i7 39.6cm (15.6\") FHD LED Thin & Light Laptop (16 GB/512 GB SSD/Windows 11/MS Office/Backlit Keyboard/Fingerprint Reader/Silver/1.55Kg), NP750XED-KC2IN']"
      ]
     },
     "execution_count": 35,
     "metadata": {},
     "output_type": "execute_result"
    }
   ],
   "source": [
    "for i in t:\n",
    "    title=i.text\n",
    "    Title.append(title)\n",
    "Title[0:10]"
   ]
  },
  {
   "cell_type": "code",
   "execution_count": 41,
   "id": "8e0fd9a3",
   "metadata": {},
   "outputs": [
    {
     "data": {
      "text/plain": [
       "[<selenium.webdriver.remote.webelement.WebElement (session=\"67b46d58a1fd1af5aa710ea2ff661784\", element=\"b57998b2-9335-4a66-8768-ccac1c74d2b9\")>,\n",
       " <selenium.webdriver.remote.webelement.WebElement (session=\"67b46d58a1fd1af5aa710ea2ff661784\", element=\"1fa3a100-6b6f-4448-9b36-22fffb41cf5f\")>,\n",
       " <selenium.webdriver.remote.webelement.WebElement (session=\"67b46d58a1fd1af5aa710ea2ff661784\", element=\"8f5e668c-233a-4087-81ff-14cfcb112e41\")>,\n",
       " <selenium.webdriver.remote.webelement.WebElement (session=\"67b46d58a1fd1af5aa710ea2ff661784\", element=\"cb549349-7e72-45bd-83fe-3ecf57dfa642\")>,\n",
       " <selenium.webdriver.remote.webelement.WebElement (session=\"67b46d58a1fd1af5aa710ea2ff661784\", element=\"53695de6-57ad-4e13-af1d-b705344d6098\")>,\n",
       " <selenium.webdriver.remote.webelement.WebElement (session=\"67b46d58a1fd1af5aa710ea2ff661784\", element=\"b0434553-0e98-410f-9430-15eea145fdea\")>,\n",
       " <selenium.webdriver.remote.webelement.WebElement (session=\"67b46d58a1fd1af5aa710ea2ff661784\", element=\"ae60bd12-997e-4fec-805b-36d78a193504\")>,\n",
       " <selenium.webdriver.remote.webelement.WebElement (session=\"67b46d58a1fd1af5aa710ea2ff661784\", element=\"e36a09fd-fabd-4c3f-a123-1580ee5893d9\")>,\n",
       " <selenium.webdriver.remote.webelement.WebElement (session=\"67b46d58a1fd1af5aa710ea2ff661784\", element=\"0eed423a-e387-421a-af03-3803619c6e2c\")>,\n",
       " <selenium.webdriver.remote.webelement.WebElement (session=\"67b46d58a1fd1af5aa710ea2ff661784\", element=\"7158f3d8-e288-49af-beef-96802db6026b\")>]"
      ]
     },
     "execution_count": 41,
     "metadata": {},
     "output_type": "execute_result"
    }
   ],
   "source": [
    "r = driver.find_elements_by_xpath(\"//div[@class='a-row a-size-small']\")\n",
    "r[0:10]"
   ]
  },
  {
   "cell_type": "code",
   "execution_count": 42,
   "id": "bed4f3a3",
   "metadata": {},
   "outputs": [
    {
     "data": {
      "text/plain": [
       "['', '', '', '', '', '', '', '', '', '']"
      ]
     },
     "execution_count": 42,
     "metadata": {},
     "output_type": "execute_result"
    }
   ],
   "source": [
    "for i in r:\n",
    "    title=i.text\n",
    "    Ratings.append(title)\n",
    "Ratings[0:10]"
   ]
  },
  {
   "cell_type": "code",
   "execution_count": 43,
   "id": "32f94722",
   "metadata": {},
   "outputs": [
    {
     "data": {
      "text/plain": [
       "[<selenium.webdriver.remote.webelement.WebElement (session=\"67b46d58a1fd1af5aa710ea2ff661784\", element=\"e452a166-2436-4c25-a229-b5dc28559ea2\")>,\n",
       " <selenium.webdriver.remote.webelement.WebElement (session=\"67b46d58a1fd1af5aa710ea2ff661784\", element=\"812ce308-2f46-40ab-86c5-0ab23a2aff67\")>,\n",
       " <selenium.webdriver.remote.webelement.WebElement (session=\"67b46d58a1fd1af5aa710ea2ff661784\", element=\"729b0c07-8f7a-4d6d-acda-745bea7c1288\")>,\n",
       " <selenium.webdriver.remote.webelement.WebElement (session=\"67b46d58a1fd1af5aa710ea2ff661784\", element=\"72e8afac-3e48-41d6-8e3c-95f21cc19f41\")>,\n",
       " <selenium.webdriver.remote.webelement.WebElement (session=\"67b46d58a1fd1af5aa710ea2ff661784\", element=\"01ba48f2-b85a-4901-9be2-effdbf962eba\")>,\n",
       " <selenium.webdriver.remote.webelement.WebElement (session=\"67b46d58a1fd1af5aa710ea2ff661784\", element=\"368487d7-3ff4-49d7-9992-d3a0bdb3914a\")>,\n",
       " <selenium.webdriver.remote.webelement.WebElement (session=\"67b46d58a1fd1af5aa710ea2ff661784\", element=\"288742cb-1808-4eae-80c5-338d562621c1\")>,\n",
       " <selenium.webdriver.remote.webelement.WebElement (session=\"67b46d58a1fd1af5aa710ea2ff661784\", element=\"a9a03c00-1274-4e0c-abd9-362b215d6c33\")>,\n",
       " <selenium.webdriver.remote.webelement.WebElement (session=\"67b46d58a1fd1af5aa710ea2ff661784\", element=\"52e40381-efe3-4ee6-8912-709ad2bb1d55\")>,\n",
       " <selenium.webdriver.remote.webelement.WebElement (session=\"67b46d58a1fd1af5aa710ea2ff661784\", element=\"44137497-39a5-42df-9bfd-5f57dcc9d2a5\")>]"
      ]
     },
     "execution_count": 43,
     "metadata": {},
     "output_type": "execute_result"
    }
   ],
   "source": [
    "p = driver.find_elements_by_xpath(\"//span[@class='a-price-whole']\")\n",
    "p[0:10]"
   ]
  },
  {
   "cell_type": "code",
   "execution_count": 44,
   "id": "8b4cdc5f",
   "metadata": {},
   "outputs": [
    {
     "data": {
      "text/plain": [
       "['76,490',\n",
       " '1,29,990',\n",
       " '77,490',\n",
       " '86,900',\n",
       " '1,01,112',\n",
       " '81,990',\n",
       " '57,490',\n",
       " '19,990',\n",
       " '1,69,990',\n",
       " '79,990']"
      ]
     },
     "execution_count": 44,
     "metadata": {},
     "output_type": "execute_result"
    }
   ],
   "source": [
    "for i in p:\n",
    "    title=i.text\n",
    "    Price.append(title)\n",
    "Price[0:10]"
   ]
  },
  {
   "cell_type": "code",
   "execution_count": 46,
   "id": "4d7bdbe4",
   "metadata": {},
   "outputs": [
    {
     "data": {
      "text/html": [
       "<div>\n",
       "<style scoped>\n",
       "    .dataframe tbody tr th:only-of-type {\n",
       "        vertical-align: middle;\n",
       "    }\n",
       "\n",
       "    .dataframe tbody tr th {\n",
       "        vertical-align: top;\n",
       "    }\n",
       "\n",
       "    .dataframe thead th {\n",
       "        text-align: right;\n",
       "    }\n",
       "</style>\n",
       "<table border=\"1\" class=\"dataframe\">\n",
       "  <thead>\n",
       "    <tr style=\"text-align: right;\">\n",
       "      <th></th>\n",
       "      <th>Title</th>\n",
       "      <th>Ratings</th>\n",
       "      <th>Price</th>\n",
       "    </tr>\n",
       "  </thead>\n",
       "  <tbody>\n",
       "    <tr>\n",
       "      <th>0</th>\n",
       "      <td>MSI Modern 14, Intel i7-1195G7, 14\" FHD IPS-Le...</td>\n",
       "      <td></td>\n",
       "      <td>76,490</td>\n",
       "    </tr>\n",
       "    <tr>\n",
       "      <th>1</th>\n",
       "      <td>Samsung Galaxy Book2 Pro 360 Intel 12th Gen i7...</td>\n",
       "      <td></td>\n",
       "      <td>1,29,990</td>\n",
       "    </tr>\n",
       "    <tr>\n",
       "      <th>2</th>\n",
       "      <td>Mi Notebook Ultra 3.2K Resolution Display Inte...</td>\n",
       "      <td></td>\n",
       "      <td>77,490</td>\n",
       "    </tr>\n",
       "    <tr>\n",
       "      <th>3</th>\n",
       "      <td>Lenovo ThinkBook 15 Intel 11th Gen Core i7 15....</td>\n",
       "      <td></td>\n",
       "      <td>86,900</td>\n",
       "    </tr>\n",
       "    <tr>\n",
       "      <th>4</th>\n",
       "      <td>LG Gram 16 inches Intel Evo 11th Gen Core i7 U...</td>\n",
       "      <td></td>\n",
       "      <td>1,01,112</td>\n",
       "    </tr>\n",
       "    <tr>\n",
       "      <th>5</th>\n",
       "      <td>Lenovo IdeaPad Flex 5 11th Gen Intel Core i7 1...</td>\n",
       "      <td></td>\n",
       "      <td>81,990</td>\n",
       "    </tr>\n",
       "    <tr>\n",
       "      <th>6</th>\n",
       "      <td>ASUS VivoBook 14 (2021), 14-inch (35.56 cms) F...</td>\n",
       "      <td></td>\n",
       "      <td>57,490</td>\n",
       "    </tr>\n",
       "    <tr>\n",
       "      <th>7</th>\n",
       "      <td>(Renewed) Dell E6410 Latitude 14 Inch Screen L...</td>\n",
       "      <td></td>\n",
       "      <td>19,990</td>\n",
       "    </tr>\n",
       "    <tr>\n",
       "      <th>8</th>\n",
       "      <td>Acer Predator Helios 300 11th Gen Intel Core i...</td>\n",
       "      <td></td>\n",
       "      <td>1,69,990</td>\n",
       "    </tr>\n",
       "    <tr>\n",
       "      <th>9</th>\n",
       "      <td>Samsung Galaxy Book2 Intel 12th Gen core i7 39...</td>\n",
       "      <td></td>\n",
       "      <td>79,990</td>\n",
       "    </tr>\n",
       "  </tbody>\n",
       "</table>\n",
       "</div>"
      ],
      "text/plain": [
       "                                               Title Ratings     Price\n",
       "0  MSI Modern 14, Intel i7-1195G7, 14\" FHD IPS-Le...            76,490\n",
       "1  Samsung Galaxy Book2 Pro 360 Intel 12th Gen i7...          1,29,990\n",
       "2  Mi Notebook Ultra 3.2K Resolution Display Inte...            77,490\n",
       "3  Lenovo ThinkBook 15 Intel 11th Gen Core i7 15....            86,900\n",
       "4  LG Gram 16 inches Intel Evo 11th Gen Core i7 U...          1,01,112\n",
       "5  Lenovo IdeaPad Flex 5 11th Gen Intel Core i7 1...            81,990\n",
       "6  ASUS VivoBook 14 (2021), 14-inch (35.56 cms) F...            57,490\n",
       "7  (Renewed) Dell E6410 Latitude 14 Inch Screen L...            19,990\n",
       "8  Acer Predator Helios 300 11th Gen Intel Core i...          1,69,990\n",
       "9  Samsung Galaxy Book2 Intel 12th Gen core i7 39...            79,990"
      ]
     },
     "execution_count": 46,
     "metadata": {},
     "output_type": "execute_result"
    }
   ],
   "source": [
    "import pandas as pd\n",
    "table=pd.DataFrame({})\n",
    "\n",
    "table['Title']=Title[:10]\n",
    "table['Ratings']=Ratings[:10]\n",
    "table['Price']=Price[0:10]\n",
    "\n",
    "table"
   ]
  },
  {
   "cell_type": "markdown",
   "id": "c1559bff",
   "metadata": {},
   "source": [
    "Q9: Write a python program to scrape data for first 10 job results for Data Scientist Designation in Noida\n",
    "location. You have to scrape company name, No. of days ago when job was posted, Rating of the company.\n",
    "This task will be done in following steps:\n",
    "1. First get the webpage https://www.ambitionbox.com/\n",
    "2. Click on the Job option as shown in the image\n",
    "3. After reaching to the next webpage, In place of “Search by Designations, Companies, Skills” enter\n",
    "“Data Scientist” and click on search button\n",
    "4. You will reach to the following web page click on location and in place of “Search location” enter\n",
    "“Noida” and select location “Noida”.\n",
    "5. Then scrape the data for the first 10 jobs results you get on the above shown page.\n",
    "6. Finally create a dataframe of the scraped data."
   ]
  },
  {
   "cell_type": "code",
   "execution_count": 47,
   "id": "ce976f34",
   "metadata": {},
   "outputs": [],
   "source": [
    "import selenium\n",
    "from selenium import webdriver\n",
    "import pandas as pd\n",
    "import warnings\n",
    "warnings.filterwarnings(\"ignore\")\n",
    "import time"
   ]
  },
  {
   "cell_type": "code",
   "execution_count": 48,
   "id": "15b038d6",
   "metadata": {},
   "outputs": [],
   "source": [
    "driver=webdriver.Chrome(r\"C:\\web driver\\chromedriver.exe\")\n",
    "time.sleep(2)"
   ]
  },
  {
   "cell_type": "code",
   "execution_count": 49,
   "id": "42ea5a8c",
   "metadata": {},
   "outputs": [],
   "source": [
    "driver.get('https://www.ambitionbox.com/')"
   ]
  },
  {
   "cell_type": "code",
   "execution_count": 51,
   "id": "f2b69a9a",
   "metadata": {},
   "outputs": [],
   "source": [
    "title_jobs=driver.find_element_by_xpath(\"//a[@class='link jobs']\")\n",
    "title_jobs.click()"
   ]
  },
  {
   "cell_type": "code",
   "execution_count": 54,
   "id": "f2581ef0",
   "metadata": {},
   "outputs": [],
   "source": [
    "search_job=driver.find_element_by_xpath(\"/html/body/div/div/div/div[2]/div[1]/div[1]/div/div/div/div/span/input\")\n",
    "search_job.send_keys(\"Data Scientist\")"
   ]
  },
  {
   "cell_type": "code",
   "execution_count": 55,
   "id": "e26bc341",
   "metadata": {},
   "outputs": [],
   "source": [
    "search_button=driver.find_element_by_xpath(\"//span[@class='ctas-btn-medium']\")\n",
    "search_button.click()"
   ]
  },
  {
   "cell_type": "code",
   "execution_count": 60,
   "id": "cc06b1f8",
   "metadata": {},
   "outputs": [],
   "source": [
    "search_loc=driver.find_element_by_xpath(\"/html/body/div/div/div/div[2]/div[1]/div[2]/div[1]/div/div/div/div[2]/div[1]\")\n",
    "search_loc.click()"
   ]
  },
  {
   "cell_type": "code",
   "execution_count": 62,
   "id": "4329e755",
   "metadata": {},
   "outputs": [],
   "source": [
    "enter_loc=driver.find_element_by_xpath(\"/html/body/div/div/div/div[2]/div[1]/div[2]/div[1]/div/div/div/div[2]/div[2]/div/div[2]/input\")\n",
    "enter_loc.send_keys(\"Noida\")"
   ]
  },
  {
   "cell_type": "code",
   "execution_count": 68,
   "id": "528a15bc",
   "metadata": {},
   "outputs": [],
   "source": [
    "select_loc=driver.find_element_by_xpath(\"/html/body/div/div/div/div[2]/div[1]/div[2]/div[1]/div/div/div/div[2]/div[2]/div/div[3]/div[1]/div[1]/div/label\")\n",
    "select_loc.click()"
   ]
  },
  {
   "cell_type": "code",
   "execution_count": 70,
   "id": "ece701b3",
   "metadata": {},
   "outputs": [],
   "source": [
    "company_names=[]\n",
    "job_postedon=[]\n",
    "ratings=[]"
   ]
  },
  {
   "cell_type": "code",
   "execution_count": 71,
   "id": "59b6dd9f",
   "metadata": {},
   "outputs": [
    {
     "data": {
      "text/plain": [
       "[<selenium.webdriver.remote.webelement.WebElement (session=\"4675eb6754901c74b49ba1adee1866c9\", element=\"5936afbf-21dc-48de-ba70-ff47379521fc\")>,\n",
       " <selenium.webdriver.remote.webelement.WebElement (session=\"4675eb6754901c74b49ba1adee1866c9\", element=\"b321c395-2470-4934-9fce-5fa043b5588d\")>,\n",
       " <selenium.webdriver.remote.webelement.WebElement (session=\"4675eb6754901c74b49ba1adee1866c9\", element=\"d1baafbf-2f35-4ce3-9801-081af80ed69f\")>,\n",
       " <selenium.webdriver.remote.webelement.WebElement (session=\"4675eb6754901c74b49ba1adee1866c9\", element=\"7984f263-b859-481c-8296-0ddca44bd8a4\")>,\n",
       " <selenium.webdriver.remote.webelement.WebElement (session=\"4675eb6754901c74b49ba1adee1866c9\", element=\"7a4c16df-40d7-45ce-82ca-748966291152\")>,\n",
       " <selenium.webdriver.remote.webelement.WebElement (session=\"4675eb6754901c74b49ba1adee1866c9\", element=\"597d7da7-f29f-4b6a-8c6f-c04c76c80cef\")>,\n",
       " <selenium.webdriver.remote.webelement.WebElement (session=\"4675eb6754901c74b49ba1adee1866c9\", element=\"c211a769-c8f8-4e4b-b406-f1bdcfb79409\")>,\n",
       " <selenium.webdriver.remote.webelement.WebElement (session=\"4675eb6754901c74b49ba1adee1866c9\", element=\"78c908f7-156a-4240-a600-53c350d865c9\")>,\n",
       " <selenium.webdriver.remote.webelement.WebElement (session=\"4675eb6754901c74b49ba1adee1866c9\", element=\"6a13481b-ab3f-4672-abee-30f53e014e57\")>,\n",
       " <selenium.webdriver.remote.webelement.WebElement (session=\"4675eb6754901c74b49ba1adee1866c9\", element=\"860cecce-e764-4afc-b094-875189d5866e\")>]"
      ]
     },
     "execution_count": 71,
     "metadata": {},
     "output_type": "execute_result"
    }
   ],
   "source": [
    "companies_tags=driver.find_elements_by_xpath(\"//p[@class='company body-medium']\")\n",
    "companies_tags[:10]"
   ]
  },
  {
   "cell_type": "code",
   "execution_count": 72,
   "id": "0c1e5c16",
   "metadata": {},
   "outputs": [
    {
     "data": {
      "text/plain": [
       "['Ericsson India Global Services Pvt. Ltd.',\n",
       " 'EXL Services.com ( I ) Pvt. Ltd.',\n",
       " 'GENPACT India Private Limited',\n",
       " 'TECHNIP GLOBAL BUSINESS SERVICES PRIVATE LIMITED',\n",
       " 'GENPACT India Private Limited',\n",
       " 'Bristlecone India Limited',\n",
       " 'Zyoin',\n",
       " 'Newgen Software Technologies Ltd.',\n",
       " 'Ashkom Media India Private Limited',\n",
       " 'Pitney Bowes India Pvt Ltd']"
      ]
     },
     "execution_count": 72,
     "metadata": {},
     "output_type": "execute_result"
    }
   ],
   "source": [
    "for i in companies_tags:\n",
    "    company_name=i.text\n",
    "    company_names.append(company_name)\n",
    "company_names[:10]"
   ]
  },
  {
   "cell_type": "code",
   "execution_count": 85,
   "id": "f23e81be",
   "metadata": {},
   "outputs": [
    {
     "data": {
      "text/plain": [
       "[<selenium.webdriver.remote.webelement.WebElement (session=\"4675eb6754901c74b49ba1adee1866c9\", element=\"4025269c-b8f7-4b8e-9c7e-2073abfb0ec6\")>,\n",
       " <selenium.webdriver.remote.webelement.WebElement (session=\"4675eb6754901c74b49ba1adee1866c9\", element=\"47ca0f5d-43c7-437c-8228-dda0a3b4c2ff\")>,\n",
       " <selenium.webdriver.remote.webelement.WebElement (session=\"4675eb6754901c74b49ba1adee1866c9\", element=\"6f6bfd48-18c3-4b44-b012-f55c8c4a6d6f\")>,\n",
       " <selenium.webdriver.remote.webelement.WebElement (session=\"4675eb6754901c74b49ba1adee1866c9\", element=\"a8cd679c-09cc-4cab-bb04-34608744ca1d\")>,\n",
       " <selenium.webdriver.remote.webelement.WebElement (session=\"4675eb6754901c74b49ba1adee1866c9\", element=\"5f41b7dc-1f79-40dc-b6b8-686d5421c0b9\")>,\n",
       " <selenium.webdriver.remote.webelement.WebElement (session=\"4675eb6754901c74b49ba1adee1866c9\", element=\"8e0ec83d-d9c1-421b-92c0-9897d36cd37b\")>,\n",
       " <selenium.webdriver.remote.webelement.WebElement (session=\"4675eb6754901c74b49ba1adee1866c9\", element=\"e61028a4-d392-453a-af8f-696b1a88a323\")>,\n",
       " <selenium.webdriver.remote.webelement.WebElement (session=\"4675eb6754901c74b49ba1adee1866c9\", element=\"cf09dbce-611e-492d-b326-88eb9295fb14\")>,\n",
       " <selenium.webdriver.remote.webelement.WebElement (session=\"4675eb6754901c74b49ba1adee1866c9\", element=\"949e46d8-0492-49a8-98e4-a3553b461819\")>,\n",
       " <selenium.webdriver.remote.webelement.WebElement (session=\"4675eb6754901c74b49ba1adee1866c9\", element=\"367021e7-2978-45fc-9cb6-a5da3280efe6\")>]"
      ]
     },
     "execution_count": 85,
     "metadata": {},
     "output_type": "execute_result"
    }
   ],
   "source": [
    "postedon_tags=driver.find_elements_by_xpath(\"//span[@class='body-small-l']\")\n",
    "postedon_tags[:10]"
   ]
  },
  {
   "cell_type": "code",
   "execution_count": 90,
   "id": "acc322fc",
   "metadata": {},
   "outputs": [
    {
     "ename": "WebDriverException",
     "evalue": "Message: chrome not reachable\n  (Session info: chrome=101.0.4951.67)\nStacktrace:\nBacktrace:\n\tOrdinal0 [0x006AB8F3+2406643]\n\tOrdinal0 [0x0063AF31+1945393]\n\tOrdinal0 [0x0052C610+837136]\n\tOrdinal0 [0x00520442+787522]\n\tOrdinal0 [0x00520C78+789624]\n\tOrdinal0 [0x005224B2+795826]\n\tOrdinal0 [0x0051BF09+769801]\n\tOrdinal0 [0x0052DAC0+842432]\n\tOrdinal0 [0x00583E62+1195618]\n\tOrdinal0 [0x00574096+1130646]\n\tOrdinal0 [0x0054E636+976438]\n\tOrdinal0 [0x0054F546+980294]\n\tGetHandleVerifier [0x00919612+2498066]\n\tGetHandleVerifier [0x0090C920+2445600]\n\tGetHandleVerifier [0x00744F2A+579370]\n\tGetHandleVerifier [0x00743D36+574774]\n\tOrdinal0 [0x00641C0B+1973259]\n\tOrdinal0 [0x00646688+1992328]\n\tOrdinal0 [0x00646775+1992565]\n\tOrdinal0 [0x0064F8D1+2029777]\n\tBaseThreadInitThunk [0x75A4FA29+25]\n\tRtlGetAppContainerNamedObjectPath [0x77347A7E+286]\n\tRtlGetAppContainerNamedObjectPath [0x77347A4E+238]\n",
     "output_type": "error",
     "traceback": [
      "\u001b[1;31m---------------------------------------------------------------------------\u001b[0m",
      "\u001b[1;31mWebDriverException\u001b[0m                        Traceback (most recent call last)",
      "\u001b[1;32m~\\AppData\\Local\\Temp/ipykernel_13752/4253212536.py\u001b[0m in \u001b[0;36m<module>\u001b[1;34m\u001b[0m\n\u001b[0;32m      1\u001b[0m \u001b[1;32mfor\u001b[0m \u001b[0mi\u001b[0m \u001b[1;32min\u001b[0m \u001b[0mpostedon_tags\u001b[0m\u001b[1;33m:\u001b[0m\u001b[1;33m\u001b[0m\u001b[1;33m\u001b[0m\u001b[0m\n\u001b[1;32m----> 2\u001b[1;33m     \u001b[0mjobs_postedon\u001b[0m\u001b[1;33m=\u001b[0m\u001b[0mi\u001b[0m\u001b[1;33m.\u001b[0m\u001b[0mtext\u001b[0m\u001b[1;33m\u001b[0m\u001b[1;33m\u001b[0m\u001b[0m\n\u001b[0m\u001b[0;32m      3\u001b[0m     \u001b[0mjob_postedon\u001b[0m\u001b[1;33m.\u001b[0m\u001b[0mappend\u001b[0m\u001b[1;33m(\u001b[0m\u001b[0mjobs_postedon\u001b[0m\u001b[1;33m)\u001b[0m\u001b[1;33m\u001b[0m\u001b[1;33m\u001b[0m\u001b[0m\n\u001b[0;32m      4\u001b[0m \u001b[0mjob_postedon\u001b[0m\u001b[1;33m[\u001b[0m\u001b[1;33m:\u001b[0m\u001b[1;36m10\u001b[0m\u001b[1;33m]\u001b[0m\u001b[1;33m\u001b[0m\u001b[1;33m\u001b[0m\u001b[0m\n",
      "\u001b[1;32mC:\\ProgramData\\Anaconda3\\lib\\site-packages\\selenium\\webdriver\\remote\\webelement.py\u001b[0m in \u001b[0;36mtext\u001b[1;34m(self)\u001b[0m\n\u001b[0;32m     75\u001b[0m     \u001b[1;32mdef\u001b[0m \u001b[0mtext\u001b[0m\u001b[1;33m(\u001b[0m\u001b[0mself\u001b[0m\u001b[1;33m)\u001b[0m \u001b[1;33m->\u001b[0m \u001b[0mstr\u001b[0m\u001b[1;33m:\u001b[0m\u001b[1;33m\u001b[0m\u001b[1;33m\u001b[0m\u001b[0m\n\u001b[0;32m     76\u001b[0m         \u001b[1;34m\"\"\"The text of the element.\"\"\"\u001b[0m\u001b[1;33m\u001b[0m\u001b[1;33m\u001b[0m\u001b[0m\n\u001b[1;32m---> 77\u001b[1;33m         \u001b[1;32mreturn\u001b[0m \u001b[0mself\u001b[0m\u001b[1;33m.\u001b[0m\u001b[0m_execute\u001b[0m\u001b[1;33m(\u001b[0m\u001b[0mCommand\u001b[0m\u001b[1;33m.\u001b[0m\u001b[0mGET_ELEMENT_TEXT\u001b[0m\u001b[1;33m)\u001b[0m\u001b[1;33m[\u001b[0m\u001b[1;34m'value'\u001b[0m\u001b[1;33m]\u001b[0m\u001b[1;33m\u001b[0m\u001b[1;33m\u001b[0m\u001b[0m\n\u001b[0m\u001b[0;32m     78\u001b[0m \u001b[1;33m\u001b[0m\u001b[0m\n\u001b[0;32m     79\u001b[0m     \u001b[1;32mdef\u001b[0m \u001b[0mclick\u001b[0m\u001b[1;33m(\u001b[0m\u001b[0mself\u001b[0m\u001b[1;33m)\u001b[0m \u001b[1;33m->\u001b[0m \u001b[1;32mNone\u001b[0m\u001b[1;33m:\u001b[0m\u001b[1;33m\u001b[0m\u001b[1;33m\u001b[0m\u001b[0m\n",
      "\u001b[1;32mC:\\ProgramData\\Anaconda3\\lib\\site-packages\\selenium\\webdriver\\remote\\webelement.py\u001b[0m in \u001b[0;36m_execute\u001b[1;34m(self, command, params)\u001b[0m\n\u001b[0;32m    708\u001b[0m             \u001b[0mparams\u001b[0m \u001b[1;33m=\u001b[0m \u001b[1;33m{\u001b[0m\u001b[1;33m}\u001b[0m\u001b[1;33m\u001b[0m\u001b[1;33m\u001b[0m\u001b[0m\n\u001b[0;32m    709\u001b[0m         \u001b[0mparams\u001b[0m\u001b[1;33m[\u001b[0m\u001b[1;34m'id'\u001b[0m\u001b[1;33m]\u001b[0m \u001b[1;33m=\u001b[0m \u001b[0mself\u001b[0m\u001b[1;33m.\u001b[0m\u001b[0m_id\u001b[0m\u001b[1;33m\u001b[0m\u001b[1;33m\u001b[0m\u001b[0m\n\u001b[1;32m--> 710\u001b[1;33m         \u001b[1;32mreturn\u001b[0m \u001b[0mself\u001b[0m\u001b[1;33m.\u001b[0m\u001b[0m_parent\u001b[0m\u001b[1;33m.\u001b[0m\u001b[0mexecute\u001b[0m\u001b[1;33m(\u001b[0m\u001b[0mcommand\u001b[0m\u001b[1;33m,\u001b[0m \u001b[0mparams\u001b[0m\u001b[1;33m)\u001b[0m\u001b[1;33m\u001b[0m\u001b[1;33m\u001b[0m\u001b[0m\n\u001b[0m\u001b[0;32m    711\u001b[0m \u001b[1;33m\u001b[0m\u001b[0m\n\u001b[0;32m    712\u001b[0m     \u001b[1;32mdef\u001b[0m \u001b[0mfind_element\u001b[0m\u001b[1;33m(\u001b[0m\u001b[0mself\u001b[0m\u001b[1;33m,\u001b[0m \u001b[0mby\u001b[0m\u001b[1;33m=\u001b[0m\u001b[0mBy\u001b[0m\u001b[1;33m.\u001b[0m\u001b[0mID\u001b[0m\u001b[1;33m,\u001b[0m \u001b[0mvalue\u001b[0m\u001b[1;33m=\u001b[0m\u001b[1;32mNone\u001b[0m\u001b[1;33m)\u001b[0m\u001b[1;33m:\u001b[0m\u001b[1;33m\u001b[0m\u001b[1;33m\u001b[0m\u001b[0m\n",
      "\u001b[1;32mC:\\ProgramData\\Anaconda3\\lib\\site-packages\\selenium\\webdriver\\remote\\webdriver.py\u001b[0m in \u001b[0;36mexecute\u001b[1;34m(self, driver_command, params)\u001b[0m\n\u001b[0;32m    423\u001b[0m         \u001b[0mresponse\u001b[0m \u001b[1;33m=\u001b[0m \u001b[0mself\u001b[0m\u001b[1;33m.\u001b[0m\u001b[0mcommand_executor\u001b[0m\u001b[1;33m.\u001b[0m\u001b[0mexecute\u001b[0m\u001b[1;33m(\u001b[0m\u001b[0mdriver_command\u001b[0m\u001b[1;33m,\u001b[0m \u001b[0mparams\u001b[0m\u001b[1;33m)\u001b[0m\u001b[1;33m\u001b[0m\u001b[1;33m\u001b[0m\u001b[0m\n\u001b[0;32m    424\u001b[0m         \u001b[1;32mif\u001b[0m \u001b[0mresponse\u001b[0m\u001b[1;33m:\u001b[0m\u001b[1;33m\u001b[0m\u001b[1;33m\u001b[0m\u001b[0m\n\u001b[1;32m--> 425\u001b[1;33m             \u001b[0mself\u001b[0m\u001b[1;33m.\u001b[0m\u001b[0merror_handler\u001b[0m\u001b[1;33m.\u001b[0m\u001b[0mcheck_response\u001b[0m\u001b[1;33m(\u001b[0m\u001b[0mresponse\u001b[0m\u001b[1;33m)\u001b[0m\u001b[1;33m\u001b[0m\u001b[1;33m\u001b[0m\u001b[0m\n\u001b[0m\u001b[0;32m    426\u001b[0m             response['value'] = self._unwrap_value(\n\u001b[0;32m    427\u001b[0m                 response.get('value', None))\n",
      "\u001b[1;32mC:\\ProgramData\\Anaconda3\\lib\\site-packages\\selenium\\webdriver\\remote\\errorhandler.py\u001b[0m in \u001b[0;36mcheck_response\u001b[1;34m(self, response)\u001b[0m\n\u001b[0;32m    245\u001b[0m                 \u001b[0malert_text\u001b[0m \u001b[1;33m=\u001b[0m \u001b[0mvalue\u001b[0m\u001b[1;33m[\u001b[0m\u001b[1;34m'alert'\u001b[0m\u001b[1;33m]\u001b[0m\u001b[1;33m.\u001b[0m\u001b[0mget\u001b[0m\u001b[1;33m(\u001b[0m\u001b[1;34m'text'\u001b[0m\u001b[1;33m)\u001b[0m\u001b[1;33m\u001b[0m\u001b[1;33m\u001b[0m\u001b[0m\n\u001b[0;32m    246\u001b[0m             \u001b[1;32mraise\u001b[0m \u001b[0mexception_class\u001b[0m\u001b[1;33m(\u001b[0m\u001b[0mmessage\u001b[0m\u001b[1;33m,\u001b[0m \u001b[0mscreen\u001b[0m\u001b[1;33m,\u001b[0m \u001b[0mstacktrace\u001b[0m\u001b[1;33m,\u001b[0m \u001b[0malert_text\u001b[0m\u001b[1;33m)\u001b[0m  \u001b[1;31m# type: ignore[call-arg]  # mypy is not smart enough here\u001b[0m\u001b[1;33m\u001b[0m\u001b[1;33m\u001b[0m\u001b[0m\n\u001b[1;32m--> 247\u001b[1;33m         \u001b[1;32mraise\u001b[0m \u001b[0mexception_class\u001b[0m\u001b[1;33m(\u001b[0m\u001b[0mmessage\u001b[0m\u001b[1;33m,\u001b[0m \u001b[0mscreen\u001b[0m\u001b[1;33m,\u001b[0m \u001b[0mstacktrace\u001b[0m\u001b[1;33m)\u001b[0m\u001b[1;33m\u001b[0m\u001b[1;33m\u001b[0m\u001b[0m\n\u001b[0m\u001b[0;32m    248\u001b[0m \u001b[1;33m\u001b[0m\u001b[0m\n\u001b[0;32m    249\u001b[0m     \u001b[1;32mdef\u001b[0m \u001b[0m_value_or_default\u001b[0m\u001b[1;33m(\u001b[0m\u001b[0mself\u001b[0m\u001b[1;33m,\u001b[0m \u001b[0mobj\u001b[0m\u001b[1;33m:\u001b[0m \u001b[0mMapping\u001b[0m\u001b[1;33m[\u001b[0m\u001b[0m_KT\u001b[0m\u001b[1;33m,\u001b[0m \u001b[0m_VT\u001b[0m\u001b[1;33m]\u001b[0m\u001b[1;33m,\u001b[0m \u001b[0mkey\u001b[0m\u001b[1;33m:\u001b[0m \u001b[0m_KT\u001b[0m\u001b[1;33m,\u001b[0m \u001b[0mdefault\u001b[0m\u001b[1;33m:\u001b[0m \u001b[0m_VT\u001b[0m\u001b[1;33m)\u001b[0m \u001b[1;33m->\u001b[0m \u001b[0m_VT\u001b[0m\u001b[1;33m:\u001b[0m\u001b[1;33m\u001b[0m\u001b[1;33m\u001b[0m\u001b[0m\n",
      "\u001b[1;31mWebDriverException\u001b[0m: Message: chrome not reachable\n  (Session info: chrome=101.0.4951.67)\nStacktrace:\nBacktrace:\n\tOrdinal0 [0x006AB8F3+2406643]\n\tOrdinal0 [0x0063AF31+1945393]\n\tOrdinal0 [0x0052C610+837136]\n\tOrdinal0 [0x00520442+787522]\n\tOrdinal0 [0x00520C78+789624]\n\tOrdinal0 [0x005224B2+795826]\n\tOrdinal0 [0x0051BF09+769801]\n\tOrdinal0 [0x0052DAC0+842432]\n\tOrdinal0 [0x00583E62+1195618]\n\tOrdinal0 [0x00574096+1130646]\n\tOrdinal0 [0x0054E636+976438]\n\tOrdinal0 [0x0054F546+980294]\n\tGetHandleVerifier [0x00919612+2498066]\n\tGetHandleVerifier [0x0090C920+2445600]\n\tGetHandleVerifier [0x00744F2A+579370]\n\tGetHandleVerifier [0x00743D36+574774]\n\tOrdinal0 [0x00641C0B+1973259]\n\tOrdinal0 [0x00646688+1992328]\n\tOrdinal0 [0x00646775+1992565]\n\tOrdinal0 [0x0064F8D1+2029777]\n\tBaseThreadInitThunk [0x75A4FA29+25]\n\tRtlGetAppContainerNamedObjectPath [0x77347A7E+286]\n\tRtlGetAppContainerNamedObjectPath [0x77347A4E+238]\n"
     ]
    }
   ],
   "source": [
    "for i in postedon_tags:\n",
    "    jobs_postedon=i.text\n",
    "    job_postedon.append(jobs_postedon)\n",
    "job_postedon[:10]"
   ]
  },
  {
   "cell_type": "code",
   "execution_count": 77,
   "id": "a4ff3e8a",
   "metadata": {},
   "outputs": [
    {
     "data": {
      "text/plain": [
       "[<selenium.webdriver.remote.webelement.WebElement (session=\"4675eb6754901c74b49ba1adee1866c9\", element=\"057ff59d-e664-4714-83d1-80ac5bdaebeb\")>,\n",
       " <selenium.webdriver.remote.webelement.WebElement (session=\"4675eb6754901c74b49ba1adee1866c9\", element=\"8635f3a0-b481-4bbb-8eb4-14a5c1a911b7\")>,\n",
       " <selenium.webdriver.remote.webelement.WebElement (session=\"4675eb6754901c74b49ba1adee1866c9\", element=\"ca2f8284-1ce9-42aa-9d66-a19d2e673451\")>,\n",
       " <selenium.webdriver.remote.webelement.WebElement (session=\"4675eb6754901c74b49ba1adee1866c9\", element=\"af849160-5880-44a5-a32f-7500ea41c9b7\")>,\n",
       " <selenium.webdriver.remote.webelement.WebElement (session=\"4675eb6754901c74b49ba1adee1866c9\", element=\"e779561e-e43c-479b-b239-b00c09416184\")>,\n",
       " <selenium.webdriver.remote.webelement.WebElement (session=\"4675eb6754901c74b49ba1adee1866c9\", element=\"e289a92c-0e9d-4366-a917-8a19584ef211\")>,\n",
       " <selenium.webdriver.remote.webelement.WebElement (session=\"4675eb6754901c74b49ba1adee1866c9\", element=\"ec10b94e-da47-41a6-89aa-fd558611e0e5\")>,\n",
       " <selenium.webdriver.remote.webelement.WebElement (session=\"4675eb6754901c74b49ba1adee1866c9\", element=\"f59887c0-ba7f-4ee7-8f41-5412279d465b\")>,\n",
       " <selenium.webdriver.remote.webelement.WebElement (session=\"4675eb6754901c74b49ba1adee1866c9\", element=\"f0d753be-8d41-4c71-aabb-72040c410564\")>,\n",
       " <selenium.webdriver.remote.webelement.WebElement (session=\"4675eb6754901c74b49ba1adee1866c9\", element=\"59d96d7f-faa0-4e30-88c2-9c7f0ea86f57\")>]"
      ]
     },
     "execution_count": 77,
     "metadata": {},
     "output_type": "execute_result"
    }
   ],
   "source": [
    "rating_tags=driver.find_elements_by_xpath(\"//span[@class='body-small']\")\n",
    "rating_tags[:10]"
   ]
  },
  {
   "cell_type": "code",
   "execution_count": 78,
   "id": "4f454a74",
   "metadata": {},
   "outputs": [
    {
     "data": {
      "text/plain": [
       "['4.3', '3.9', '4.0', '3.9', '4.0', '3.8', '4.1', '3.6', '3.7', '4.2']"
      ]
     },
     "execution_count": 78,
     "metadata": {},
     "output_type": "execute_result"
    }
   ],
   "source": [
    "for i in rating_tags:\n",
    "    rating=i.text\n",
    "    ratings.append(rating)\n",
    "ratings[:10]"
   ]
  },
  {
   "cell_type": "code",
   "execution_count": 89,
   "id": "463819e2",
   "metadata": {},
   "outputs": [
    {
     "data": {
      "text/html": [
       "<div>\n",
       "<style scoped>\n",
       "    .dataframe tbody tr th:only-of-type {\n",
       "        vertical-align: middle;\n",
       "    }\n",
       "\n",
       "    .dataframe tbody tr th {\n",
       "        vertical-align: top;\n",
       "    }\n",
       "\n",
       "    .dataframe thead th {\n",
       "        text-align: right;\n",
       "    }\n",
       "</style>\n",
       "<table border=\"1\" class=\"dataframe\">\n",
       "  <thead>\n",
       "    <tr style=\"text-align: right;\">\n",
       "      <th></th>\n",
       "      <th>Company Name</th>\n",
       "      <th>Job Posted On</th>\n",
       "      <th>Ratings</th>\n",
       "    </tr>\n",
       "  </thead>\n",
       "  <tbody>\n",
       "    <tr>\n",
       "      <th>0</th>\n",
       "      <td>Ericsson India Global Services Pvt. Ltd.</td>\n",
       "      <td>3d ago</td>\n",
       "      <td>4.3</td>\n",
       "    </tr>\n",
       "    <tr>\n",
       "      <th>1</th>\n",
       "      <td>EXL Services.com ( I ) Pvt. Ltd.</td>\n",
       "      <td>via naukri.com</td>\n",
       "      <td>3.9</td>\n",
       "    </tr>\n",
       "    <tr>\n",
       "      <th>2</th>\n",
       "      <td>GENPACT India Private Limited</td>\n",
       "      <td>13d ago</td>\n",
       "      <td>4.0</td>\n",
       "    </tr>\n",
       "    <tr>\n",
       "      <th>3</th>\n",
       "      <td>TECHNIP GLOBAL BUSINESS SERVICES PRIVATE LIMITED</td>\n",
       "      <td>via naukri.com</td>\n",
       "      <td>3.9</td>\n",
       "    </tr>\n",
       "    <tr>\n",
       "      <th>4</th>\n",
       "      <td>GENPACT India Private Limited</td>\n",
       "      <td>25d ago</td>\n",
       "      <td>4.0</td>\n",
       "    </tr>\n",
       "    <tr>\n",
       "      <th>5</th>\n",
       "      <td>Bristlecone India Limited</td>\n",
       "      <td>via naukri.com</td>\n",
       "      <td>3.8</td>\n",
       "    </tr>\n",
       "    <tr>\n",
       "      <th>6</th>\n",
       "      <td>Zyoin</td>\n",
       "      <td>11d ago</td>\n",
       "      <td>4.1</td>\n",
       "    </tr>\n",
       "    <tr>\n",
       "      <th>7</th>\n",
       "      <td>Newgen Software Technologies Ltd.</td>\n",
       "      <td>via naukri.com</td>\n",
       "      <td>3.6</td>\n",
       "    </tr>\n",
       "    <tr>\n",
       "      <th>8</th>\n",
       "      <td>Ashkom Media India Private Limited</td>\n",
       "      <td>1mon ago</td>\n",
       "      <td>3.7</td>\n",
       "    </tr>\n",
       "    <tr>\n",
       "      <th>9</th>\n",
       "      <td>Pitney Bowes India Pvt Ltd</td>\n",
       "      <td>via naukri.com</td>\n",
       "      <td>4.2</td>\n",
       "    </tr>\n",
       "  </tbody>\n",
       "</table>\n",
       "</div>"
      ],
      "text/plain": [
       "                                       Company Name   Job Posted On Ratings\n",
       "0          Ericsson India Global Services Pvt. Ltd.          3d ago     4.3\n",
       "1                  EXL Services.com ( I ) Pvt. Ltd.  via naukri.com     3.9\n",
       "2                     GENPACT India Private Limited         13d ago     4.0\n",
       "3  TECHNIP GLOBAL BUSINESS SERVICES PRIVATE LIMITED  via naukri.com     3.9\n",
       "4                     GENPACT India Private Limited         25d ago     4.0\n",
       "5                         Bristlecone India Limited  via naukri.com     3.8\n",
       "6                                             Zyoin         11d ago     4.1\n",
       "7                 Newgen Software Technologies Ltd.  via naukri.com     3.6\n",
       "8                Ashkom Media India Private Limited        1mon ago     3.7\n",
       "9                        Pitney Bowes India Pvt Ltd  via naukri.com     4.2"
      ]
     },
     "execution_count": 89,
     "metadata": {},
     "output_type": "execute_result"
    }
   ],
   "source": [
    "jobs=pd.DataFrame({})\n",
    "jobs['Company Name']=company_names[:10]\n",
    "jobs['Job Posted On']=job_postedon[:10]\n",
    "jobs['Ratings']=ratings[:10]\n",
    "jobs"
   ]
  },
  {
   "cell_type": "markdown",
   "id": "cfbf0a14",
   "metadata": {},
   "source": [
    "Q10: Write a python program to scrape the salary data for Data Scientist designation.\n",
    "You have to scrape Company name, Number of salaries, Average salary, Minsalary, Max Salary.\n",
    "The above task will be, done as shown in the below steps:\n",
    "1. First get the webpage https://www.ambitionbox.com/\n",
    "2. Click on the salaries option as shown in the image\n",
    "3. After reaching to the following webpage, In place of “Search Job Profile” enters “Data Scientist” and\n",
    "then click on “Data Scientist”\n",
    "ou have to scrape the data ticked in the above image.\n",
    "4. Scrape the data for the first 10 companies. Scrape the company name, total salary record, average\n",
    "salary, minimum salary, maximum salary, experience required.\n",
    "5. Store the data in a dataframe"
   ]
  },
  {
   "cell_type": "code",
   "execution_count": 119,
   "id": "cb08a85a",
   "metadata": {},
   "outputs": [],
   "source": [
    "import selenium\n",
    "from selenium import webdriver\n",
    "import pandas as pd\n",
    "import warnings\n",
    "warnings.filterwarnings(\"ignore\")\n",
    "import time"
   ]
  },
  {
   "cell_type": "code",
   "execution_count": 120,
   "id": "46f356b3",
   "metadata": {},
   "outputs": [],
   "source": [
    "driver=webdriver.Chrome(r\"C:\\web driver\\chromedriver.exe\")\n",
    "time.sleep(2)"
   ]
  },
  {
   "cell_type": "code",
   "execution_count": 121,
   "id": "cafd94d5",
   "metadata": {},
   "outputs": [],
   "source": [
    "driver.get('https://www.ambitionbox.com/')"
   ]
  },
  {
   "cell_type": "code",
   "execution_count": 122,
   "id": "9b63162d",
   "metadata": {},
   "outputs": [],
   "source": [
    "title_jobs=driver.find_element_by_xpath(\"//a[@class='link salaries']\")\n",
    "title_jobs.click()"
   ]
  },
  {
   "cell_type": "code",
   "execution_count": 123,
   "id": "2d2e6e74",
   "metadata": {},
   "outputs": [],
   "source": [
    "search_job=driver.find_element_by_xpath(\"/html/body/div/div/div/main/section[1]/div[2]/div[1]/span/input\")\n",
    "search_job.send_keys(\"Data Scientist\")"
   ]
  },
  {
   "cell_type": "code",
   "execution_count": 127,
   "id": "0b468660",
   "metadata": {},
   "outputs": [],
   "source": [
    "search_button=driver.find_element_by_xpath(\"/html/body/div/div/div/main/section[1]/div[2]/div[1]/span/div/div/div[1]/div/div/p\")"
   ]
  },
  {
   "cell_type": "code",
   "execution_count": 128,
   "id": "48f71f45",
   "metadata": {},
   "outputs": [],
   "source": [
    "title_tag=driver.find_elements_by_xpath('//div[@class=\"name\"]')"
   ]
  },
  {
   "cell_type": "code",
   "execution_count": 129,
   "id": "356d085e",
   "metadata": {},
   "outputs": [],
   "source": [
    "title_name=[]\n",
    "title1_name=[]\n",
    "for i in title_tag:\n",
    "\n",
    "    title_name.append(i.text.split()[0:1])\n",
    "    title1_name.append(i.text.split()[2:5])"
   ]
  },
  {
   "cell_type": "code",
   "execution_count": 130,
   "id": "59cd08a6",
   "metadata": {},
   "outputs": [],
   "source": [
    "Asalary_tag=driver.find_elements_by_xpath('//p[@class=\"averageCtc\"]')\n",
    "Avg_salary=[]\n",
    "for i in Asalary_tag:\n",
    "    Avg_salary.append(i.text)"
   ]
  },
  {
   "cell_type": "code",
   "execution_count": 131,
   "id": "b9904739",
   "metadata": {},
   "outputs": [],
   "source": [
    "Minsalary_tag=driver.find_elements_by_xpath('//div[@class=\"salary-values\"]')\n",
    "MinAvg_salary=[]\n",
    "maxsalary=[]\n",
    "for i in Minsalary_tag:\n",
    "    MinAvg_salary.append(i.text.replace(r\" ?\\([^)]+\\)\",\"\").split()[1:2])\n",
    "    maxsalary.append(i.text.replace(r\" ?\\([^)]+\\))\",\"\").split()[3:4])"
   ]
  },
  {
   "cell_type": "code",
   "execution_count": 132,
   "id": "19055652",
   "metadata": {},
   "outputs": [],
   "source": [
    "Exp=driver.find_elements_by_xpath('//div[@class=\"salaries sbold-list-header\"]')"
   ]
  },
  {
   "cell_type": "code",
   "execution_count": 133,
   "id": "55844ed4",
   "metadata": {},
   "outputs": [],
   "source": [
    "Experience=[]\n",
    "for i in Exp:\n",
    "    Experience.append(i.text.split()[3:5])"
   ]
  },
  {
   "cell_type": "code",
   "execution_count": 134,
   "id": "be77607e",
   "metadata": {},
   "outputs": [
    {
     "data": {
      "text/html": [
       "<div>\n",
       "<style scoped>\n",
       "    .dataframe tbody tr th:only-of-type {\n",
       "        vertical-align: middle;\n",
       "    }\n",
       "\n",
       "    .dataframe tbody tr th {\n",
       "        vertical-align: top;\n",
       "    }\n",
       "\n",
       "    .dataframe thead th {\n",
       "        text-align: right;\n",
       "    }\n",
       "</style>\n",
       "<table border=\"1\" class=\"dataframe\">\n",
       "  <thead>\n",
       "    <tr style=\"text-align: right;\">\n",
       "      <th></th>\n",
       "      <th>Comapny Name</th>\n",
       "      <th>Total salary record,</th>\n",
       "      <th>Avarage Salary</th>\n",
       "      <th>Maximum Salary</th>\n",
       "      <th>Minimum Salary</th>\n",
       "      <th>Experience</th>\n",
       "    </tr>\n",
       "  </thead>\n",
       "  <tbody>\n",
       "    <tr>\n",
       "      <th>0</th>\n",
       "      <td>[Walmart]</td>\n",
       "      <td>[on, 11, salaries]</td>\n",
       "      <td>₹ 29.7L</td>\n",
       "      <td>[35.0L]</td>\n",
       "      <td>[25.0L]</td>\n",
       "      <td>[3, yrs]</td>\n",
       "    </tr>\n",
       "    <tr>\n",
       "      <th>1</th>\n",
       "      <td>[Ab]</td>\n",
       "      <td>[based, on, 32]</td>\n",
       "      <td>₹ 20.5L</td>\n",
       "      <td>[25.5L]</td>\n",
       "      <td>[15.0L]</td>\n",
       "      <td>[3-4, yrs]</td>\n",
       "    </tr>\n",
       "    <tr>\n",
       "      <th>2</th>\n",
       "      <td>[Reliance]</td>\n",
       "      <td>[based, on, 10]</td>\n",
       "      <td>₹ 18.9L</td>\n",
       "      <td>[26.2L]</td>\n",
       "      <td>[5.6L]</td>\n",
       "      <td>[4, yrs]</td>\n",
       "    </tr>\n",
       "    <tr>\n",
       "      <th>3</th>\n",
       "      <td>[ZS]</td>\n",
       "      <td>[on, 15, salaries]</td>\n",
       "      <td>₹ 16.7L</td>\n",
       "      <td>[22.0L]</td>\n",
       "      <td>[11.0L]</td>\n",
       "      <td>[2, yrs]</td>\n",
       "    </tr>\n",
       "    <tr>\n",
       "      <th>4</th>\n",
       "      <td>[Optum]</td>\n",
       "      <td>[on, 30, salaries]</td>\n",
       "      <td>₹ 15.9L</td>\n",
       "      <td>[22.6L]</td>\n",
       "      <td>[11.0L]</td>\n",
       "      <td>[3-4, yrs]</td>\n",
       "    </tr>\n",
       "    <tr>\n",
       "      <th>5</th>\n",
       "      <td>[Fractal]</td>\n",
       "      <td>[based, on, 82]</td>\n",
       "      <td>₹ 15.4L</td>\n",
       "      <td>[23.0L]</td>\n",
       "      <td>[9.7L]</td>\n",
       "      <td>[2-4, yrs]</td>\n",
       "    </tr>\n",
       "    <tr>\n",
       "      <th>6</th>\n",
       "      <td>[Tiger]</td>\n",
       "      <td>[based, on, 47]</td>\n",
       "      <td>₹ 14.8L</td>\n",
       "      <td>[20.0L]</td>\n",
       "      <td>[9.0L]</td>\n",
       "      <td>[2-4, yrs]</td>\n",
       "    </tr>\n",
       "    <tr>\n",
       "      <th>7</th>\n",
       "      <td>[UnitedHealth]</td>\n",
       "      <td>[on, 55, salaries]</td>\n",
       "      <td>₹ 13.9L</td>\n",
       "      <td>[20.5L]</td>\n",
       "      <td>[8.3L]</td>\n",
       "      <td>[2-4, yrs]</td>\n",
       "    </tr>\n",
       "    <tr>\n",
       "      <th>8</th>\n",
       "      <td>[Verizon]</td>\n",
       "      <td>[on, 14, salaries]</td>\n",
       "      <td>₹ 12.7L</td>\n",
       "      <td>[21.0L]</td>\n",
       "      <td>[10.0L]</td>\n",
       "      <td>[4, yrs]</td>\n",
       "    </tr>\n",
       "    <tr>\n",
       "      <th>9</th>\n",
       "      <td>[Ganit]</td>\n",
       "      <td>[Solutions, based, on]</td>\n",
       "      <td>₹ 12.4L</td>\n",
       "      <td>[15.0L]</td>\n",
       "      <td>[8.5L]</td>\n",
       "      <td>[4, yrs]</td>\n",
       "    </tr>\n",
       "  </tbody>\n",
       "</table>\n",
       "</div>"
      ],
      "text/plain": [
       "    Comapny Name     Total salary record, Avarage Salary Maximum Salary  \\\n",
       "0       [Walmart]      [on, 11, salaries]        ₹ 29.7L        [35.0L]   \n",
       "1            [Ab]         [based, on, 32]        ₹ 20.5L        [25.5L]   \n",
       "2      [Reliance]         [based, on, 10]        ₹ 18.9L        [26.2L]   \n",
       "3            [ZS]      [on, 15, salaries]        ₹ 16.7L        [22.0L]   \n",
       "4         [Optum]      [on, 30, salaries]        ₹ 15.9L        [22.6L]   \n",
       "5       [Fractal]         [based, on, 82]        ₹ 15.4L        [23.0L]   \n",
       "6         [Tiger]         [based, on, 47]        ₹ 14.8L        [20.0L]   \n",
       "7  [UnitedHealth]      [on, 55, salaries]        ₹ 13.9L        [20.5L]   \n",
       "8       [Verizon]      [on, 14, salaries]        ₹ 12.7L        [21.0L]   \n",
       "9         [Ganit]  [Solutions, based, on]        ₹ 12.4L        [15.0L]   \n",
       "\n",
       "  Minimum Salary   Experience  \n",
       "0         [25.0L]    [3, yrs]  \n",
       "1         [15.0L]  [3-4, yrs]  \n",
       "2          [5.6L]    [4, yrs]  \n",
       "3         [11.0L]    [2, yrs]  \n",
       "4         [11.0L]  [3-4, yrs]  \n",
       "5          [9.7L]  [2-4, yrs]  \n",
       "6          [9.0L]  [2-4, yrs]  \n",
       "7          [8.3L]  [2-4, yrs]  \n",
       "8         [10.0L]    [4, yrs]  \n",
       "9          [8.5L]    [4, yrs]  "
      ]
     },
     "execution_count": 134,
     "metadata": {},
     "output_type": "execute_result"
    }
   ],
   "source": [
    "df=pd.DataFrame({'Comapny Name ':title_name[0:10] , 'Total salary record,' :title1_name[0:10], 'Avarage Salary' :Avg_salary[0:10],'Maximum Salary' :maxsalary[0:10],'Minimum Salary ':MinAvg_salary,'Experience':Experience})\n",
    "df"
   ]
  },
  {
   "cell_type": "code",
   "execution_count": 135,
   "id": "7e1fa1d6",
   "metadata": {},
   "outputs": [],
   "source": [
    "driver.close()"
   ]
  },
  {
   "cell_type": "code",
   "execution_count": null,
   "id": "c83829af",
   "metadata": {},
   "outputs": [],
   "source": []
  }
 ],
 "metadata": {
  "kernelspec": {
   "display_name": "Python 3 (ipykernel)",
   "language": "python",
   "name": "python3"
  },
  "language_info": {
   "codemirror_mode": {
    "name": "ipython",
    "version": 3
   },
   "file_extension": ".py",
   "mimetype": "text/x-python",
   "name": "python",
   "nbconvert_exporter": "python",
   "pygments_lexer": "ipython3",
   "version": "3.9.7"
  }
 },
 "nbformat": 4,
 "nbformat_minor": 5
}
